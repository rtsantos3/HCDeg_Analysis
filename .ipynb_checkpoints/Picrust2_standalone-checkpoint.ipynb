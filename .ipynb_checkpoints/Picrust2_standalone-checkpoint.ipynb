{
 "cells": [
  {
   "cell_type": "code",
   "execution_count": 2,
   "id": "757c7d11",
   "metadata": {
    "ExecuteTime": {
     "end_time": "2022-03-31T10:39:35.946340Z",
     "start_time": "2022-03-31T10:39:35.942860Z"
    }
   },
   "outputs": [],
   "source": [
    "import os"
   ]
  },
  {
   "cell_type": "code",
   "execution_count": 3,
   "id": "a96dd965",
   "metadata": {
    "ExecuteTime": {
     "end_time": "2022-03-31T10:39:38.306292Z",
     "start_time": "2022-03-31T10:39:38.303092Z"
    }
   },
   "outputs": [],
   "source": [
    "#Run Stratified standalone Picrust2 pipeline\n",
    "#Note that I've placed this analysis folder inside the picrust repository for simplicity's sake. To replicate this, place data folder in \n",
    "os.chdir('/home/rtsantos3/bioinfo_pipelines/picrust2-2.4.2/scripts')"
   ]
  },
  {
   "cell_type": "code",
   "execution_count": 2,
   "id": "deaed39a",
   "metadata": {
    "ExecuteTime": {
     "end_time": "2022-03-30T12:49:08.359661Z",
     "start_time": "2022-03-30T12:49:08.350800Z"
    }
   },
   "outputs": [
    {
     "ename": "ModuleNotFoundError",
     "evalue": "No module named 'picrust2'",
     "output_type": "error",
     "traceback": [
      "\u001b[0;31m---------------------------------------------------------------------------\u001b[0m",
      "\u001b[0;31mModuleNotFoundError\u001b[0m                       Traceback (most recent call last)",
      "\u001b[0;32m~/bioinfo_pipelines/picrust2-2.4.2/scripts/pathway_pipeline.py\u001b[0m in \u001b[0;36m<module>\u001b[0;34m\u001b[0m\n\u001b[1;32m      6\u001b[0m \u001b[0;34m\u001b[0m\u001b[0m\n\u001b[1;32m      7\u001b[0m \u001b[0;32mimport\u001b[0m \u001b[0margparse\u001b[0m\u001b[0;34m\u001b[0m\u001b[0;34m\u001b[0m\u001b[0m\n\u001b[0;32m----> 8\u001b[0;31m \u001b[0;32mfrom\u001b[0m \u001b[0mpicrust2\u001b[0m\u001b[0;34m.\u001b[0m\u001b[0mpathway_pipeline\u001b[0m \u001b[0;32mimport\u001b[0m \u001b[0mpathway_pipeline\u001b[0m\u001b[0;34m\u001b[0m\u001b[0;34m\u001b[0m\u001b[0m\n\u001b[0m\u001b[1;32m      9\u001b[0m from picrust2.util import (make_output_dir, check_files_exist,\n\u001b[1;32m     10\u001b[0m                            TemporaryDirectory)\n",
      "\u001b[0;31mModuleNotFoundError\u001b[0m: No module named 'picrust2'"
     ]
    }
   ],
   "source": [
    "\n",
    "\n",
    "%run picrust2_pipeline.py -s '../data/Kiara-Qiime2/Stratified-pipeline/dna-sequences.fasta' \\\n",
    "                        -i '../data/Kiara-Qiime2/Stratified-pipeline/feature-table.biom' \\\n",
    "                        -o '../data/Kiara-Qiime2/Stratified-pipeline/out' \\\n",
    "                        -t epa-ng \\\n",
    "                        -p 5 \\\n",
    "                        --stratified \\\n",
    "                        --verbose \\\n",
    "                \n",
    "                        \n",
    "\n",
    "#Ok this now works, I can run it now from here"
   ]
  },
  {
   "cell_type": "code",
   "execution_count": null,
   "id": "0c6794a4",
   "metadata": {
    "ExecuteTime": {
     "start_time": "2022-03-30T11:57:44.984Z"
    }
   },
   "outputs": [
    {
     "name": "stdout",
     "output_type": "stream",
     "text": [
      "\u001b[33m[W 06:57:45.320 NotebookApp]\u001b[m Error loading server extension jupyter_nbextensions_configurator\n",
      "    Traceback (most recent call last):\n",
      "      File \"/usr/local/lib/python3.8/dist-packages/notebook/notebookapp.py\", line 2027, in init_server_extensions\n",
      "        mod = importlib.import_module(modulename)\n",
      "      File \"/usr/lib/python3.8/importlib/__init__.py\", line 127, in import_module\n",
      "        return _bootstrap._gcd_import(name[level:], package, level)\n",
      "      File \"<frozen importlib._bootstrap>\", line 1014, in _gcd_import\n",
      "      File \"<frozen importlib._bootstrap>\", line 991, in _find_and_load\n",
      "      File \"<frozen importlib._bootstrap>\", line 973, in _find_and_load_unlocked\n",
      "    ModuleNotFoundError: No module named 'jupyter_nbextensions_configurator'\n",
      "\u001b[32m[I 06:57:45.321 NotebookApp]\u001b[m The port 8888 is already in use, trying another port.\n",
      "\u001b[32m[I 06:57:45.321 NotebookApp]\u001b[m The port 8889 is already in use, trying another port.\n",
      "\u001b[32m[I 06:57:45.321 NotebookApp]\u001b[m The port 8890 is already in use, trying another port.\n",
      "\u001b[32m[I 06:57:45.322 NotebookApp]\u001b[m The port 8891 is already in use, trying another port.\n",
      "\u001b[32m[I 06:57:45.322 NotebookApp]\u001b[m Serving notebooks from local directory: /home/rtsantos3/bioinfo_pipelines/picrust2-2.4.2/scripts\n",
      "\u001b[32m[I 06:57:45.322 NotebookApp]\u001b[m Jupyter Notebook 6.4.3 is running at:\n",
      "\u001b[32m[I 06:57:45.322 NotebookApp]\u001b[m http://localhost:8892/?token=60914d7626016e36fc14751b5e38c4118c78e83da0b954cf\n",
      "\u001b[32m[I 06:57:45.322 NotebookApp]\u001b[m  or http://127.0.0.1:8892/?token=60914d7626016e36fc14751b5e38c4118c78e83da0b954cf\n",
      "\u001b[32m[I 06:57:45.322 NotebookApp]\u001b[m Use Control-C to stop this server and shut down all kernels (twice to skip confirmation).\n",
      "\u001b[35m[C 06:57:45.336 NotebookApp]\u001b[m \n",
      "    \n",
      "    To access the notebook, open this file in a browser:\n",
      "        file:///home/rtsantos3/.local/share/jupyter/runtime/nbserver-25060-open.html\n",
      "    Or copy and paste one of these URLs:\n",
      "        http://localhost:8892/?token=60914d7626016e36fc14751b5e38c4118c78e83da0b954cf\n",
      "     or http://127.0.0.1:8892/?token=60914d7626016e36fc14751b5e38c4118c78e83da0b954cf\n",
      "\u001b[33m[W 06:57:46.709 NotebookApp]\u001b[m 404 GET /nbextensions/nbextensions_configurator/tree_tab/main.js?v=20220330065745 (127.0.0.1) 5.970000ms referer=http://localhost:8892/tree\n",
      "/usr/lib/python3.8/json/encoder.py:257: UserWarning: date_default is deprecated since jupyter_client 7.0.0. Use jupyter_client.jsonutil.json_default.\n",
      "  return _iterencode(o, 0)\n"
     ]
    }
   ],
   "source": [
    "%run add_descriptions.py -input \"../data/Kiara-Qiime2/Stratified-pipeline/out/KO_metagenome_out/pred_metagenome_contrib.tsv.gz\" \\\n",
    "                        -map"
   ]
  },
  {
   "cell_type": "code",
   "execution_count": 4,
   "id": "740889a9",
   "metadata": {
    "ExecuteTime": {
     "end_time": "2022-03-31T10:41:36.608558Z",
     "start_time": "2022-03-31T10:41:36.590250Z"
    }
   },
   "outputs": [
    {
     "ename": "ModuleNotFoundError",
     "evalue": "No module named 'picrust2'",
     "output_type": "error",
     "traceback": [
      "\u001b[0;31m---------------------------------------------------------------------------\u001b[0m",
      "\u001b[0;31mModuleNotFoundError\u001b[0m                       Traceback (most recent call last)",
      "\u001b[0;32m~/bioinfo_pipelines/picrust2-2.4.2/scripts/add_descriptions.py\u001b[0m in \u001b[0;36m<module>\u001b[0;34m\u001b[0m\n\u001b[1;32m      6\u001b[0m \u001b[0;34m\u001b[0m\u001b[0m\n\u001b[1;32m      7\u001b[0m \u001b[0;32mimport\u001b[0m \u001b[0margparse\u001b[0m\u001b[0;34m\u001b[0m\u001b[0;34m\u001b[0m\u001b[0m\n\u001b[0;32m----> 8\u001b[0;31m \u001b[0;32mfrom\u001b[0m \u001b[0mpicrust2\u001b[0m\u001b[0;34m.\u001b[0m\u001b[0mdefault\u001b[0m \u001b[0;32mimport\u001b[0m \u001b[0mdefault_map\u001b[0m\u001b[0;34m\u001b[0m\u001b[0;34m\u001b[0m\u001b[0m\n\u001b[0m\u001b[1;32m      9\u001b[0m \u001b[0;32mfrom\u001b[0m \u001b[0mpicrust2\u001b[0m\u001b[0;34m.\u001b[0m\u001b[0mutil\u001b[0m \u001b[0;32mimport\u001b[0m \u001b[0madd_descrip_col\u001b[0m\u001b[0;34m,\u001b[0m \u001b[0mmake_output_dir_for_file\u001b[0m\u001b[0;34m\u001b[0m\u001b[0;34m\u001b[0m\u001b[0m\n\u001b[1;32m     10\u001b[0m \u001b[0;32mimport\u001b[0m \u001b[0msys\u001b[0m\u001b[0;34m\u001b[0m\u001b[0;34m\u001b[0m\u001b[0m\n",
      "\u001b[0;31mModuleNotFoundError\u001b[0m: No module named 'picrust2'"
     ]
    }
   ],
   "source": [
    "%run add_descriptions.py --help"
   ]
  }
 ],
 "metadata": {
  "kernelspec": {
   "display_name": "Python 3 (ipykernel)",
   "language": "python",
   "name": "python3"
  },
  "language_info": {
   "codemirror_mode": {
    "name": "ipython",
    "version": 3
   },
   "file_extension": ".py",
   "mimetype": "text/x-python",
   "name": "python",
   "nbconvert_exporter": "python",
   "pygments_lexer": "ipython3",
   "version": "3.8.10"
  },
  "varInspector": {
   "cols": {
    "lenName": 16,
    "lenType": 16,
    "lenVar": 40
   },
   "kernels_config": {
    "python": {
     "delete_cmd_postfix": "",
     "delete_cmd_prefix": "del ",
     "library": "var_list.py",
     "varRefreshCmd": "print(var_dic_list())"
    },
    "r": {
     "delete_cmd_postfix": ") ",
     "delete_cmd_prefix": "rm(",
     "library": "var_list.r",
     "varRefreshCmd": "cat(var_dic_list()) "
    }
   },
   "types_to_exclude": [
    "module",
    "function",
    "builtin_function_or_method",
    "instance",
    "_Feature"
   ],
   "window_display": false
  }
 },
 "nbformat": 4,
 "nbformat_minor": 5
}
