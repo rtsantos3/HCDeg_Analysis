{
 "cells": [
  {
   "cell_type": "code",
   "execution_count": 2,
   "id": "757c7d11",
   "metadata": {
    "ExecuteTime": {
     "end_time": "2022-04-04T21:51:44.789434Z",
     "start_time": "2022-04-04T21:51:44.785538Z"
    }
   },
   "outputs": [],
   "source": [
    "import os\n",
    "os.getcwd()\n",
    "os.chdir('/home/rtsantos3/bioinfo_pipelines/picrust2-2.4.2/scripts')\n"
   ]
  },
  {
   "cell_type": "code",
   "execution_count": 2,
   "id": "deaed39a",
   "metadata": {
    "ExecuteTime": {
     "end_time": "2022-03-30T12:49:08.359661Z",
     "start_time": "2022-03-30T12:49:08.350800Z"
    }
   },
   "outputs": [
    {
     "ename": "ModuleNotFoundError",
     "evalue": "No module named 'picrust2'",
     "output_type": "error",
     "traceback": [
      "\u001b[0;31m---------------------------------------------------------------------------\u001b[0m",
      "\u001b[0;31mModuleNotFoundError\u001b[0m                       Traceback (most recent call last)",
      "\u001b[0;32m~/bioinfo_pipelines/picrust2-2.4.2/scripts/pathway_pipeline.py\u001b[0m in \u001b[0;36m<module>\u001b[0;34m\u001b[0m\n\u001b[1;32m      6\u001b[0m \u001b[0;34m\u001b[0m\u001b[0m\n\u001b[1;32m      7\u001b[0m \u001b[0;32mimport\u001b[0m \u001b[0margparse\u001b[0m\u001b[0;34m\u001b[0m\u001b[0;34m\u001b[0m\u001b[0m\n\u001b[0;32m----> 8\u001b[0;31m \u001b[0;32mfrom\u001b[0m \u001b[0mpicrust2\u001b[0m\u001b[0;34m.\u001b[0m\u001b[0mpathway_pipeline\u001b[0m \u001b[0;32mimport\u001b[0m \u001b[0mpathway_pipeline\u001b[0m\u001b[0;34m\u001b[0m\u001b[0;34m\u001b[0m\u001b[0m\n\u001b[0m\u001b[1;32m      9\u001b[0m from picrust2.util import (make_output_dir, check_files_exist,\n\u001b[1;32m     10\u001b[0m                            TemporaryDirectory)\n",
      "\u001b[0;31mModuleNotFoundError\u001b[0m: No module named 'picrust2'"
     ]
    }
   ],
   "source": [
    "\n",
    "\n",
    "%run picrust2_pipeline.py -s '../data/Kiara-Qiime2/Stratified-pipeline/dna-sequences.fasta' \\\n",
    "                        -i '../data/Kiara-Qiime2/Stratified-pipeline/feature-table.biom' \\\n",
    "                        -o '../data/Kiara-Qiime2/Stratified-pipeline/out' \\\n",
    "                        -t epa-ng \\\n",
    "                        -p 5 \\\n",
    "                        --stratified \\\n",
    "                        --verbose \\\n",
    "                \n",
    "                        \n",
    "\n",
    "#Ok this now works, I can run it now from here"
   ]
  },
  {
   "cell_type": "code",
   "execution_count": 8,
   "id": "0c6794a4",
   "metadata": {
    "ExecuteTime": {
     "end_time": "2022-03-31T11:14:34.490643Z",
     "start_time": "2022-03-31T11:14:34.464640Z"
    }
   },
   "outputs": [],
   "source": [
    "%run add_descriptions.py -i \"../data/Kiara-Qiime2/Stratified-pipeline/out/pathways_out/unstrat_path_abun.tsv\"\\\n",
    "                        -m METACYC \\\n",
    "                        -o \"../data/Kiara-Qiime2/Stratified-pipeline/out/pathways_out/unstrat_path_abun.tsv\"  "
   ]
  },
  {
   "cell_type": "code",
   "execution_count": 10,
   "id": "243d2621",
   "metadata": {
    "ExecuteTime": {
     "end_time": "2022-03-31T11:15:47.158237Z",
     "start_time": "2022-03-31T11:15:47.040256Z"
    }
   },
   "outputs": [],
   "source": [
    "#Insert descriptions to stratified pathway file\n",
    "#Note that I swappped the columns first before running the script so it would work\n",
    "#Apparently the original script only works \n",
    "\n",
    "%run add_descriptions.py -i \"../data/Kiara-Qiime2/Stratified-pipeline/out/pathways_out/strat_path_abun.tsv\"\\\n",
    "                        -m METACYC \\\n",
    "                        -o \"../data/Kiara-Qiime2/Stratified-pipeline/out/pathways_out/strat_path_abun.tsv\"  "
   ]
  },
  {
   "cell_type": "code",
   "execution_count": 12,
   "id": "740889a9",
   "metadata": {
    "ExecuteTime": {
     "end_time": "2022-03-31T11:47:27.167334Z",
     "start_time": "2022-03-31T11:47:26.438882Z"
    }
   },
   "outputs": [
    {
     "ename": "ValueError",
     "evalue": "cannot insert description, already exists",
     "output_type": "error",
     "traceback": [
      "\u001b[0;31m---------------------------------------------------------------------------\u001b[0m",
      "\u001b[0;31mValueError\u001b[0m                                Traceback (most recent call last)",
      "\u001b[0;32m~/bioinfo_pipelines/picrust2-2.4.2/scripts/add_descriptions.py\u001b[0m in \u001b[0;36m<module>\u001b[0;34m\u001b[0m\n\u001b[1;32m     77\u001b[0m \u001b[0;34m\u001b[0m\u001b[0m\n\u001b[1;32m     78\u001b[0m \u001b[0;32mif\u001b[0m \u001b[0m__name__\u001b[0m \u001b[0;34m==\u001b[0m \u001b[0;34m\"__main__\"\u001b[0m\u001b[0;34m:\u001b[0m\u001b[0;34m\u001b[0m\u001b[0;34m\u001b[0m\u001b[0m\n\u001b[0;32m---> 79\u001b[0;31m     \u001b[0mmain\u001b[0m\u001b[0;34m(\u001b[0m\u001b[0;34m)\u001b[0m\u001b[0;34m\u001b[0m\u001b[0;34m\u001b[0m\u001b[0m\n\u001b[0m",
      "\u001b[0;32m~/bioinfo_pipelines/picrust2-2.4.2/scripts/add_descriptions.py\u001b[0m in \u001b[0;36mmain\u001b[0;34m()\u001b[0m\n\u001b[1;32m     68\u001b[0m                  \"be specified with the --custom_map_table option\")\n\u001b[1;32m     69\u001b[0m \u001b[0;34m\u001b[0m\u001b[0m\n\u001b[0;32m---> 70\u001b[0;31m     \u001b[0mtab_w_descrip\u001b[0m \u001b[0;34m=\u001b[0m \u001b[0madd_descrip_col\u001b[0m\u001b[0;34m(\u001b[0m\u001b[0minputfile\u001b[0m\u001b[0;34m=\u001b[0m\u001b[0margs\u001b[0m\u001b[0;34m.\u001b[0m\u001b[0minput\u001b[0m\u001b[0;34m,\u001b[0m \u001b[0mmapfile\u001b[0m\u001b[0;34m=\u001b[0m\u001b[0mmapfile\u001b[0m\u001b[0;34m)\u001b[0m\u001b[0;34m\u001b[0m\u001b[0;34m\u001b[0m\u001b[0m\n\u001b[0m\u001b[1;32m     71\u001b[0m \u001b[0;34m\u001b[0m\u001b[0m\n\u001b[1;32m     72\u001b[0m     \u001b[0;31m# Output the table to file.\u001b[0m\u001b[0;34m\u001b[0m\u001b[0;34m\u001b[0m\u001b[0;34m\u001b[0m\u001b[0m\n",
      "\u001b[0;32m~/anaconda3/envs/qiime2-2021.11/lib/python3.8/site-packages/picrust2/util.py\u001b[0m in \u001b[0;36madd_descrip_col\u001b[0;34m(inputfile, mapfile, in_df)\u001b[0m\n\u001b[1;32m    440\u001b[0m     \u001b[0mmap_tab\u001b[0m \u001b[0;34m=\u001b[0m \u001b[0mmap_tab\u001b[0m\u001b[0;34m.\u001b[0m\u001b[0mreindex\u001b[0m\u001b[0;34m(\u001b[0m\u001b[0mfunction_tab\u001b[0m\u001b[0;34m.\u001b[0m\u001b[0miloc\u001b[0m\u001b[0;34m[\u001b[0m\u001b[0;34m:\u001b[0m\u001b[0;34m,\u001b[0m \u001b[0;36m0\u001b[0m\u001b[0;34m]\u001b[0m\u001b[0;34m,\u001b[0m \u001b[0mfill_value\u001b[0m\u001b[0;34m=\u001b[0m\u001b[0;34m\"not_found\"\u001b[0m\u001b[0;34m)\u001b[0m\u001b[0;34m\u001b[0m\u001b[0;34m\u001b[0m\u001b[0m\n\u001b[1;32m    441\u001b[0m \u001b[0;34m\u001b[0m\u001b[0m\n\u001b[0;32m--> 442\u001b[0;31m     \u001b[0mfunction_tab\u001b[0m\u001b[0;34m.\u001b[0m\u001b[0minsert\u001b[0m\u001b[0;34m(\u001b[0m\u001b[0;36m1\u001b[0m\u001b[0;34m,\u001b[0m \u001b[0;34m\"description\"\u001b[0m\u001b[0;34m,\u001b[0m \u001b[0mlist\u001b[0m\u001b[0;34m(\u001b[0m\u001b[0mmap_tab\u001b[0m\u001b[0;34m[\u001b[0m\u001b[0;34m\"description\"\u001b[0m\u001b[0;34m]\u001b[0m\u001b[0;34m)\u001b[0m\u001b[0;34m)\u001b[0m\u001b[0;34m\u001b[0m\u001b[0;34m\u001b[0m\u001b[0m\n\u001b[0m\u001b[1;32m    443\u001b[0m \u001b[0;34m\u001b[0m\u001b[0m\n\u001b[1;32m    444\u001b[0m     \u001b[0;31m# Add description column to function table and return.\u001b[0m\u001b[0;34m\u001b[0m\u001b[0;34m\u001b[0m\u001b[0;34m\u001b[0m\u001b[0m\n",
      "\u001b[0;32m~/anaconda3/envs/qiime2-2021.11/lib/python3.8/site-packages/pandas/core/frame.py\u001b[0m in \u001b[0;36minsert\u001b[0;34m(self, loc, column, value, allow_duplicates)\u001b[0m\n\u001b[1;32m   3761\u001b[0m         \u001b[0mself\u001b[0m\u001b[0;34m.\u001b[0m\u001b[0m_ensure_valid_index\u001b[0m\u001b[0;34m(\u001b[0m\u001b[0mvalue\u001b[0m\u001b[0;34m)\u001b[0m\u001b[0;34m\u001b[0m\u001b[0;34m\u001b[0m\u001b[0m\n\u001b[1;32m   3762\u001b[0m         \u001b[0mvalue\u001b[0m \u001b[0;34m=\u001b[0m \u001b[0mself\u001b[0m\u001b[0;34m.\u001b[0m\u001b[0m_sanitize_column\u001b[0m\u001b[0;34m(\u001b[0m\u001b[0mcolumn\u001b[0m\u001b[0;34m,\u001b[0m \u001b[0mvalue\u001b[0m\u001b[0;34m,\u001b[0m \u001b[0mbroadcast\u001b[0m\u001b[0;34m=\u001b[0m\u001b[0;32mFalse\u001b[0m\u001b[0;34m)\u001b[0m\u001b[0;34m\u001b[0m\u001b[0;34m\u001b[0m\u001b[0m\n\u001b[0;32m-> 3763\u001b[0;31m         \u001b[0mself\u001b[0m\u001b[0;34m.\u001b[0m\u001b[0m_mgr\u001b[0m\u001b[0;34m.\u001b[0m\u001b[0minsert\u001b[0m\u001b[0;34m(\u001b[0m\u001b[0mloc\u001b[0m\u001b[0;34m,\u001b[0m \u001b[0mcolumn\u001b[0m\u001b[0;34m,\u001b[0m \u001b[0mvalue\u001b[0m\u001b[0;34m,\u001b[0m \u001b[0mallow_duplicates\u001b[0m\u001b[0;34m=\u001b[0m\u001b[0mallow_duplicates\u001b[0m\u001b[0;34m)\u001b[0m\u001b[0;34m\u001b[0m\u001b[0;34m\u001b[0m\u001b[0m\n\u001b[0m\u001b[1;32m   3764\u001b[0m \u001b[0;34m\u001b[0m\u001b[0m\n\u001b[1;32m   3765\u001b[0m     \u001b[0;32mdef\u001b[0m \u001b[0massign\u001b[0m\u001b[0;34m(\u001b[0m\u001b[0mself\u001b[0m\u001b[0;34m,\u001b[0m \u001b[0;34m**\u001b[0m\u001b[0mkwargs\u001b[0m\u001b[0;34m)\u001b[0m \u001b[0;34m->\u001b[0m \u001b[0mDataFrame\u001b[0m\u001b[0;34m:\u001b[0m\u001b[0;34m\u001b[0m\u001b[0;34m\u001b[0m\u001b[0m\n",
      "\u001b[0;32m~/anaconda3/envs/qiime2-2021.11/lib/python3.8/site-packages/pandas/core/internals/managers.py\u001b[0m in \u001b[0;36minsert\u001b[0;34m(self, loc, item, value, allow_duplicates)\u001b[0m\n\u001b[1;32m   1189\u001b[0m         \u001b[0;32mif\u001b[0m \u001b[0;32mnot\u001b[0m \u001b[0mallow_duplicates\u001b[0m \u001b[0;32mand\u001b[0m \u001b[0mitem\u001b[0m \u001b[0;32min\u001b[0m \u001b[0mself\u001b[0m\u001b[0;34m.\u001b[0m\u001b[0mitems\u001b[0m\u001b[0;34m:\u001b[0m\u001b[0;34m\u001b[0m\u001b[0;34m\u001b[0m\u001b[0m\n\u001b[1;32m   1190\u001b[0m             \u001b[0;31m# Should this be a different kind of error??\u001b[0m\u001b[0;34m\u001b[0m\u001b[0;34m\u001b[0m\u001b[0;34m\u001b[0m\u001b[0m\n\u001b[0;32m-> 1191\u001b[0;31m             \u001b[0;32mraise\u001b[0m \u001b[0mValueError\u001b[0m\u001b[0;34m(\u001b[0m\u001b[0;34mf\"cannot insert {item}, already exists\"\u001b[0m\u001b[0;34m)\u001b[0m\u001b[0;34m\u001b[0m\u001b[0;34m\u001b[0m\u001b[0m\n\u001b[0m\u001b[1;32m   1192\u001b[0m \u001b[0;34m\u001b[0m\u001b[0m\n\u001b[1;32m   1193\u001b[0m         \u001b[0;32mif\u001b[0m \u001b[0;32mnot\u001b[0m \u001b[0misinstance\u001b[0m\u001b[0;34m(\u001b[0m\u001b[0mloc\u001b[0m\u001b[0;34m,\u001b[0m \u001b[0mint\u001b[0m\u001b[0;34m)\u001b[0m\u001b[0;34m:\u001b[0m\u001b[0;34m\u001b[0m\u001b[0;34m\u001b[0m\u001b[0m\n",
      "\u001b[0;31mValueError\u001b[0m: cannot insert description, already exists"
     ]
    }
   ],
   "source": [
    "#Insert descriptions to KO\n",
    "#Note that I swappped the columns first before running the script so it would work\n",
    "#Apparently the original script only works if the Kegg/pathway ids are present only there\n",
    "\n",
    "%run add_descriptions.py -i \"../data/Kiara-Qiime2/Stratified-pipeline/out/KO_metagenome_out/unstrat_ko_metagenome.tsv\"\\\n",
    "                        -m KO \\\n",
    "                        -o \"../data/Kiara-Qiime2/Stratified-pipeline/out/KO_metagenome_out/unstrat_ko_metagenome.tsv\" \n",
    "\n",
    "%run add_descriptions.py -i \"../data/Kiara-Qiime2/Stratified-pipeline/out/KO_metagenome_out/strat_ko_metagenome.tsv\"\\\n",
    "                        -m KO \\\n",
    "                        -o \"../data/Kiara-Qiime2/Stratified-pipeline/out/KO_metagenome_out/strat_ko_metagenome.tsv\""
   ]
  },
  {
   "cell_type": "code",
   "execution_count": 2,
   "id": "9a5a3845",
   "metadata": {
    "ExecuteTime": {
     "end_time": "2022-04-04T21:26:53.373985Z",
     "start_time": "2022-04-04T21:26:52.800469Z"
    }
   },
   "outputs": [
    {
     "name": "stdout",
     "output_type": "stream",
     "text": [
      "usage: pathway_pipeline.py [-h] -i IN_TABLE -o DIRECTORY [-m MAP]\n",
      "                           [--skip_minpath] [--no_gap_fill]\n",
      "                           [--intermediate DIR] [-p PROCESSES] [--no_regroup]\n",
      "                           [--coverage] [-r ID_MAP] [--per_sequence_contrib]\n",
      "                           [--per_sequence_abun PATH]\n",
      "                           [--per_sequence_function PATH] [--wide_table]\n",
      "                           [--verbose] [-v]\n",
      "\n",
      "Script to infer the presence and abundances of pathways based on gene family abundances in a sample. By default, this script expects a table of EC number abundances (as output by PICRUSt2). However, alternative reaction to pathways mapping files can also be specified. By default, EC numbers are first regrouped to MetaCyc reactions, which are then linked to MetaCyc pathways through the default database.\n",
      "\n",
      "Stratified output will only be output if a stratified metagenome is input (or if --per_sequence_contrib is set). Please note that by default stratified abundances are based on how much predicted genomes (e.g. sequences) contribute to the community-wide abundance, not the abundance of the pathway based on the predicted genes in that genome alone. In other words, a predicted genome might be contributing greatly to the community-wide pathway abundance simply because one required gene for that pathway is at extremely high abundance in that genome even though no other required genes for that pathway are present. In contrast, the --per_sequence_contrib option should be used to get the predicted abundance and coverage of each pathway based on the predicted gene families within each genome. Note that using the --per_sequence_contrib option can greatly increase runtime.\n",
      "\n",
      "optional arguments:\n",
      "  -h, --help            show this help message and exit\n",
      "  -i IN_TABLE, --input IN_TABLE\n",
      "                        Input TSV table of gene family abundances (either the\n",
      "                        unstratified or stratified output of\n",
      "                        metagenome_pipeline.py).\n",
      "  -o DIRECTORY, --out_dir DIRECTORY\n",
      "                        Output folder for pathway abundance output.\n",
      "  -m MAP, --map MAP     Mapping of pathways to reactions. The default mapfile\n",
      "                        maps MetaCyc reactions to prokaryotic MetaCyc pathways\n",
      "                        (default: /home/rtsantos3/anaconda3/envs/qiime2-2021.1\n",
      "                        1/lib/python3.8/site-packages/picrust2/default_files/p\n",
      "                        athway_mapfiles/metacyc_path2rxn_struc_filt_pro.txt).\n",
      "  --skip_minpath        Do not run MinPath to identify which pathways are\n",
      "                        present as a first pass (on by default).\n",
      "  --no_gap_fill         Do not perform gap filling before predicting pathway\n",
      "                        abundances (Gap filling is on otherwise by default.\n",
      "  --intermediate DIR    Output folder for intermediate files (will be deleted\n",
      "                        otherwise).\n",
      "  -p PROCESSES, --processes PROCESSES\n",
      "                        Number of processes to run in parallel (default: 1).\n",
      "  --no_regroup          Do not regroup input gene families to reactions as\n",
      "                        specified in the regrouping mapfile.\n",
      "  --coverage            Calculate pathway coverages as well as abundances,\n",
      "                        which are experimental and only useful for advanced\n",
      "                        users.\n",
      "  -r ID_MAP, --regroup_map ID_MAP\n",
      "                        Mapfile of ids to regroup gene families to before\n",
      "                        running MinPath. The default mapfile is for regrouping\n",
      "                        EC numbers to MetaCyc reactions (default: /home/rtsant\n",
      "                        os3/anaconda3/envs/qiime2-2021.11/lib/python3.8/site-p\n",
      "                        ackages/picrust2/default_files/pathway_mapfiles/ec_lev\n",
      "                        el4_to_metacyc_rxn.tsv).\n",
      "  --per_sequence_contrib\n",
      "                        Flag to specify that MinPath is run on the genes\n",
      "                        contributed by each sequence (i.e. a predicted genome)\n",
      "                        individually. Note this will greatly increase the\n",
      "                        runtime. The output will be the predicted pathway\n",
      "                        abundance contributed by each individual sequence.\n",
      "                        This is in contrast to the default stratified output,\n",
      "                        which is the contribution to the community-wide\n",
      "                        pathway abundances. Experimental pathway coverage\n",
      "                        stratified by contributing sequence will also be\n",
      "                        output when --coverage is set. Options\n",
      "                        --per_sequence_contrib and --per_sequence_function\n",
      "                        need to be set when this option is used (default:\n",
      "                        False).\n",
      "  --per_sequence_abun PATH\n",
      "                        Path to table of sequence abundances across samples\n",
      "                        normalized by marker copy number (typically the\n",
      "                        normalized sequence abundance table output at the\n",
      "                        metagenome pipeline step). This input is required when\n",
      "                        the --per_sequence_contrib option is set. (default:\n",
      "                        None).\n",
      "  --per_sequence_function PATH\n",
      "                        Path to table of function abundances per sequence,\n",
      "                        which was outputted at the hidden-state prediction\n",
      "                        step. This input is required when the\n",
      "                        --per_sequence_contrib option is set. Note that this\n",
      "                        file should be the same input table as used for the\n",
      "                        metagenome pipeline step (default: None).\n",
      "  --wide_table          Flag to specify that wide-format stratified table\n",
      "                        should be output rather than metagenome contribution\n",
      "                        table. This is the deprecated method of generating\n",
      "                        stratified tables since it is extremely memory\n",
      "                        intensive (default: False).\n",
      "  --verbose             If specified, print out wrapped commands and other\n",
      "                        details to screen.\n",
      "  -v, --version         show program's version number and exit\n",
      "\n",
      "    Usage examples:\n",
      "\n",
      "    Default mapping of predicted EC number abundances to MetaCyc pathways:\n",
      "    pathway_pipeline.py -i EC_metagenome_out/pred_metagenome_unstrat.tsv.gz -o pathways_out --processes 1\n",
      "\n",
      "    Mapping predicted KO abundances to legacy KEGG pathways (with stratified output that represents contributions to community-wide abundances):\n",
      "    pathway_pipeline.py -i KO_metagenome_out/pred_metagenome_strat.tsv.gz -o KEGG_pathways_out --no_regroup --map picrust2/picrust2/default_files/pathway_mapfiles/KEGG_pathways_to_KO.tsv\n",
      "\n",
      "    Map EC numbers to MetaCyc pathways and get stratified output corresponding to contribution of predicted gene family abundances within each predicted genome:\n",
      "    pathway_pipeline.py -i EC_metagenome_out/pred_metagenome_unstrat.tsv.gz -o pathways_out_per_seq --per_sequence_contrib --per_sequence_abun EC_metagenome_out/seqtab_norm.tsv.gz --per_sequence_function EC_predicted.tsv.gz\n"
     ]
    }
   ],
   "source": [
    "%run pathway_pipeline.py --help"
   ]
  },
  {
   "cell_type": "code",
   "execution_count": 6,
   "id": "a8107ee0",
   "metadata": {
    "ExecuteTime": {
     "end_time": "2022-04-04T21:53:56.145945Z",
     "start_time": "2022-04-04T21:53:47.181084Z"
    }
   },
   "outputs": [],
   "source": [
    "%run pathway_pipeline.py -i '../data/Kiara-Qiime2/Stratified-pipeline/out/KO_metagenome_out/pred_metagenome_contrib.tsv.gz' \\\n",
    "            --out_dir '../data/Kiara-Qiime2/Stratified-pipeline/out/KEGG_pathways_out' \\\n",
    "            --map '../picrust2/default_files/pathway_mapfiles/KEGG_pathways_to_KO.tsv' \\\n",
    "            --no_regroup \\\n",
    "            --verbose"
   ]
  },
  {
   "cell_type": "code",
   "execution_count": 12,
   "id": "df280389",
   "metadata": {
    "ExecuteTime": {
     "end_time": "2022-04-04T23:07:14.971455Z",
     "start_time": "2022-04-04T23:07:14.958444Z"
    }
   },
   "outputs": [],
   "source": [
    "#Put descriptions to KO pathway abundances\n",
    "\n",
    "\n",
    "%run add_descriptions.py -i '../data/Kiara-Qiime2/Stratified-pipeline/out/KEGG_pathways_out/path_abun_unstrat.tsv.gz' \\\n",
    "                        --custom_map_table '../picrust2/default_files/description_mapfiles/KEGG_pathways_info.tsv.gz' \\\n",
    "                        -o  '../data/Kiara-Qiime2/Stratified-pipeline/out/KEGG_pathways_out/path_abun_unstrat.tsv'"
   ]
  },
  {
   "cell_type": "code",
   "execution_count": 21,
   "id": "11c2ee75",
   "metadata": {
    "ExecuteTime": {
     "end_time": "2022-04-04T23:28:45.400230Z",
     "start_time": "2022-04-04T23:28:45.340159Z"
    }
   },
   "outputs": [],
   "source": [
    "#Put descriptions to KO pathway abundances (Stratified)\n",
    "#I've edited the file first before \n",
    "\n",
    "\n",
    "%run add_descriptions.py -i '../data/Kiara-Qiime2/Stratified-pipeline/out/KEGG_pathways_out/path_abun_strat.tsv' \\\n",
    "                        --custom_map_table '../picrust2/default_files/description_mapfiles/KEGG_pathways_info.tsv.gz' \\\n",
    "                        -o  '../data/Kiara-Qiime2/Stratified-pipeline/out/KEGG_pathways_out/path_abun_strat.tsv'"
   ]
  },
  {
   "cell_type": "code",
   "execution_count": 9,
   "id": "a1dc348b",
   "metadata": {
    "ExecuteTime": {
     "end_time": "2022-04-04T23:01:18.401419Z",
     "start_time": "2022-04-04T23:01:18.392672Z"
    }
   },
   "outputs": [
    {
     "name": "stdout",
     "output_type": "stream",
     "text": [
      "usage: add_descriptions.py [-h] -i PATH -o PATH\n",
      "                           [-m {METACYC,COG,EC,KO,PFAM,TIGRFAM}]\n",
      "                           [--custom_map_table PATH] [-v]\n",
      "\n",
      "This script adds a description column to a function abundance table and outputs a new file. The user needs to specify the input file and what type of functions are in the input table. Will throw an error if no ids overlap and otherwise will fill in \"not_found\" for the description of ids in the function table not in the mapfile.\n",
      "\n",
      "optional arguments:\n",
      "  -h, --help            show this help message and exit\n",
      "  -i PATH, --input PATH\n",
      "                        Input function abundance table.\n",
      "  -o PATH, --output PATH\n",
      "                        Output function abundance table with added description\n",
      "                        column. If the extension \".gz\" is added the table will\n",
      "                        automatically be gzipped.\n",
      "  -m {METACYC,COG,EC,KO,PFAM,TIGRFAM}, --map_type {METACYC,COG,EC,KO,PFAM,TIGRFAM}\n",
      "                        Specifies which default mapping table should be used.\n",
      "                        Use the --custom_map_table option to input a non-\n",
      "                        default mapping table.\n",
      "  --custom_map_table PATH\n",
      "                        An input map table linking function ids to\n",
      "                        descriptions for each function.\n",
      "  -v, --version         show program's version number and exit\n",
      "\n",
      "Usage:\n",
      "add_descriptions.py -i IN_TABLE -m KO -o OUT_TABLE\n"
     ]
    }
   ],
   "source": [
    "%run add_descriptions.py --help"
   ]
  }
 ],
 "metadata": {
  "kernelspec": {
   "display_name": "Python 3 (ipykernel)",
   "language": "python",
   "name": "python3"
  },
  "language_info": {
   "codemirror_mode": {
    "name": "ipython",
    "version": 3
   },
   "file_extension": ".py",
   "mimetype": "text/x-python",
   "name": "python",
   "nbconvert_exporter": "python",
   "pygments_lexer": "ipython3",
   "version": "3.8.12"
  },
  "varInspector": {
   "cols": {
    "lenName": 16,
    "lenType": 16,
    "lenVar": 40
   },
   "kernels_config": {
    "python": {
     "delete_cmd_postfix": "",
     "delete_cmd_prefix": "del ",
     "library": "var_list.py",
     "varRefreshCmd": "print(var_dic_list())"
    },
    "r": {
     "delete_cmd_postfix": ") ",
     "delete_cmd_prefix": "rm(",
     "library": "var_list.r",
     "varRefreshCmd": "cat(var_dic_list()) "
    }
   },
   "types_to_exclude": [
    "module",
    "function",
    "builtin_function_or_method",
    "instance",
    "_Feature"
   ],
   "window_display": false
  }
 },
 "nbformat": 4,
 "nbformat_minor": 5
}
