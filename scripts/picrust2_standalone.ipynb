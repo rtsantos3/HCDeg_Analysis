{
 "cells": [
  {
   "cell_type": "code",
   "execution_count": 2,
   "id": "757c7d11",
   "metadata": {
    "ExecuteTime": {
     "end_time": "2023-02-07T10:34:22.219471Z",
     "start_time": "2023-02-07T10:34:22.214509Z"
    }
   },
   "outputs": [],
   "source": [
    "import os\n",
    "os.getcwd()\n",
    "os.chdir('/home/rtsantos3/bioinfo_pipelines/picrust2-2.4.2/data/Kiara-Qiime2/')\n"
   ]
  },
  {
   "cell_type": "code",
   "execution_count": 7,
   "id": "dc1634f4",
   "metadata": {
    "ExecuteTime": {
     "end_time": "2023-02-07T09:47:15.422262Z",
     "start_time": "2023-02-07T09:47:15.313831Z"
    }
   },
   "outputs": [
    {
     "name": "stdout",
     "output_type": "stream",
     "text": [
      "/bin/bash: print_picrust2_config.py: command not found\r\n"
     ]
    }
   ],
   "source": [
    "#Note: please activate Picrust2 env first before running script\n",
    "!print_picrust2_config.py"
   ]
  },
  {
   "cell_type": "code",
   "execution_count": 15,
   "id": "deaed39a",
   "metadata": {
    "ExecuteTime": {
     "end_time": "2023-02-07T08:56:40.196485Z",
     "start_time": "2023-02-07T08:50:20.437558Z"
    }
   },
   "outputs": [
    {
     "name": "stdout",
     "output_type": "stream",
     "text": [
      "65 of 65 sequence ids overlap between input table and FASTA.\n",
      "\n",
      "Placing sequences onto reference tree\n",
      "place_seqs.py --study_fasta picrust2-strat/dna-sequences.fasta --ref_dir /home/rtsantos3/anaconda3/envs/picrust2/lib/python3.8/site-packages/picrust2/default_files/prokaryotic/pro_ref --out_tree picrust2-strat/out/out.tre --processes 3 --intermediate picrust2-strat/out/intermediate/place_seqs --min_align 0.8 --chunk_size 5000 --placement_tool sepp --verbose\n",
      "\n",
      "\n",
      "                                              ....      ....  \n",
      "                                             '' '||.   .||'   \n",
      "                                                  ||  ||      \n",
      "                                                  '|.|'       \n",
      "     ...'   ....   ... ...  ... ...   ....        .|'|.       \n",
      "    |  ||  '' .||   ||'  ||  ||'  || '' .||      .|'  ||      \n",
      "     |''   .|' ||   ||    |  ||    | .|' ||     .|'|.  ||     \n",
      "    '....  '|..'|'. ||...'   ||...'  '|..'|.    '||'    ||:.  \n",
      "    '....'          ||       ||                               \n",
      "                   ''''     ''''   v0.8.0 (c) 2017-2022\n",
      "                                   by Lucas Czech and Pierre Barbera\n",
      "\n",
      "Invocation:                        gappa examine graft --jplace-path picrust2-strat/out/intermediate/place_seqs/sepp_out/output_placement.json --fully-resolve --out-dir picrust2-strat/out/intermediate/place_seqs/sepp_out\n",
      "Command:                           gappa examine graft\n",
      "\n",
      "Input:\n",
      "  --jplace-path                    picrust2-strat/out/intermediate/place_seqs/sepp_out/output_placement.json\n",
      "\n",
      "Settings:\n",
      "  --fully-resolve                  true\n",
      "  --name-prefix\n",
      "\n",
      "Output:\n",
      "  --out-dir                        picrust2-strat/out/intermediate/place_seqs/sepp_out\n",
      "  --file-prefix                    \n",
      "  --file-suffix\n",
      "\n",
      "Global Options:\n",
      "  --allow-file-overwriting         false\n",
      "  --verbose                        false\n",
      "  --threads                        4\n",
      "  --log-file\n",
      "\n",
      "Run the following command to get the references that need to be cited:\n",
      "`gappa tools citation Czech2020-genesis-and-gappa`\n",
      "\n",
      "Started 2023-02-07 16:51:21\n",
      "\n",
      "Found 1 jplace file\n",
      "\n",
      "Finished 2023-02-07 16:51:21\n",
      "\n",
      "\n",
      "hmmalign --trim --dna --mapali /home/rtsantos3/anaconda3/envs/picrust2/lib/python3.8/site-packages/picrust2/default_files/prokaryotic/pro_ref/pro_ref.fna --informat FASTA -o picrust2-strat/out/intermediate/place_seqs/query_align.stockholm /home/rtsantos3/anaconda3/envs/picrust2/lib/python3.8/site-packages/picrust2/default_files/prokaryotic/pro_ref/pro_ref.hmm picrust2-strat/dna-sequences.fasta\n",
      "\n",
      "Warning - 1 input sequences aligned poorly to reference sequences (--min_align option specified a minimum proportion of 0.8 aligning to reference sequences). These input sequences will not be placed and will be excluded from downstream steps.\n",
      "\n",
      "This is the set of poorly aligned input sequences to be excluded: 4991181a414f12dbf3eea1ccd6c365ec\n",
      "\n",
      "Raw input sequences ranged in length from 300 to 466\n",
      "\n",
      "run_sepp.py --tree /home/rtsantos3/anaconda3/envs/picrust2/lib/python3.8/site-packages/picrust2/default_files/prokaryotic/pro_ref/pro_ref.tre --raxml /home/rtsantos3/anaconda3/envs/picrust2/lib/python3.8/site-packages/picrust2/default_files/prokaryotic/pro_ref/pro_ref.raxml_info --cpu 3 --molecule dna --outdir picrust2-strat/out/intermediate/place_seqs/sepp_out -seed 297834 --alignment /home/rtsantos3/anaconda3/envs/picrust2/lib/python3.8/site-packages/picrust2/default_files/prokaryotic/pro_ref/pro_ref.fna --fragment picrust2-strat/out/intermediate/place_seqs/study_seqs_filtered.fasta\n",
      "[16:50:24] config.py (line 349):     INFO: Seed number: 297834\n",
      "[16:50:24] algorithm.py (line 258):     INFO: Reading input alignment: <_io.TextIOWrapper name='/home/rtsantos3/anaconda3/envs/picrust2/lib/python3.8/site-packages/picrust2/default_files/prokaryotic/pro_ref/pro_ref.fna' mode='r' encoding='UTF-8'>\n",
      "[16:50:25] algorithm.py (line 265):     INFO: Reading input tree: <_io.TextIOWrapper name='/home/rtsantos3/anaconda3/envs/picrust2/lib/python3.8/site-packages/picrust2/default_files/prokaryotic/pro_ref/pro_ref.tre' mode='r' encoding='UTF-8'>\n",
      "[16:50:26] algorithm.py (line 238):     INFO: Decomposition Sizes are set to alignment: 2000 placement: 2000\n",
      "[16:50:28] exhaustive.py (line 350):     INFO: Breaking into 16 placement subsets.\n",
      "[16:50:29] exhaustive.py (line 397):     INFO: Breaking into 16 alignment subsets.\n",
      "[16:50:29] filemgr.py (line 129):     INFO: Root temp directory built: /tmp/sepp/output._hh32wld\n",
      "[16:50:29] exhaustive.py (line 412):     INFO: Breaking each alignment subset into 3 fragment chunks.\n",
      "[16:50:30] jobs.py (line 131):     INFO: Finished hmmbuild Job with input: /tmp/sepp/output._hh32wld/root/P_1/A_1_0/hmmbuild.input.qfi7069s.fasta\n",
      "[16:50:30] jobs.py (line 131):     INFO: Finished hmmbuild Job with input: /tmp/sepp/output._hh32wld/root/P_0/A_0_0/hmmbuild.input.qqlxkt46.fasta\n",
      "[16:50:30] jobs.py (line 131):     INFO: Finished hmmbuild Job with input: /tmp/sepp/output._hh32wld/root/P_2/A_2_0/hmmbuild.input.ikvtst29.fasta\n",
      "[16:50:30] jobs.py (line 131):     INFO: Finished hmmbuild Job with input: /tmp/sepp/output._hh32wld/root/P_4/A_4_0/hmmbuild.input.3rd7k4y9.fasta\n",
      "[16:50:30] jobs.py (line 131):     INFO: Finished hmmbuild Job with input: /tmp/sepp/output._hh32wld/root/P_3/A_3_0/hmmbuild.input.j85cow19.fasta\n",
      "[16:50:30] jobs.py (line 131):     INFO: Finished hmmbuild Job with input: /tmp/sepp/output._hh32wld/root/P_5/A_5_0/hmmbuild.input.i4huiycj.fasta\n",
      "[16:50:31] jobs.py (line 131):     INFO: Finished hmmbuild Job with input: /tmp/sepp/output._hh32wld/root/P_6/A_6_0/hmmbuild.input.cl8gm56r.fasta\n",
      "[16:50:31] jobs.py (line 131):     INFO: Finished hmmbuild Job with input: /tmp/sepp/output._hh32wld/root/P_8/A_8_0/hmmbuild.input.ca96k3fq.fasta\n",
      "[16:50:31] jobs.py (line 131):     INFO: Finished hmmbuild Job with input: /tmp/sepp/output._hh32wld/root/P_7/A_7_0/hmmbuild.input.b2cus1gx.fasta\n",
      "[16:50:31] jobs.py (line 131):     INFO: Finished hmmbuild Job with input: /tmp/sepp/output._hh32wld/root/P_9/A_9_0/hmmbuild.input.__va90g9.fasta\n",
      "[16:50:31] jobs.py (line 131):     INFO: Finished hmmbuild Job with input: /tmp/sepp/output._hh32wld/root/P_10/A_10_0/hmmbuild.input.03sqb_b6.fasta\n",
      "[16:50:31] jobs.py (line 131):     INFO: Finished hmmbuild Job with input: /tmp/sepp/output._hh32wld/root/P_11/A_11_0/hmmbuild.input.ab7s29pu.fasta\n",
      "[16:50:32] jobs.py (line 131):     INFO: Finished hmmbuild Job with input: /tmp/sepp/output._hh32wld/root/P_12/A_12_0/hmmbuild.input.kteh_zds.fasta\n",
      "[16:50:32] jobs.py (line 131):     INFO: Finished hmmbuild Job with input: /tmp/sepp/output._hh32wld/root/P_13/A_13_0/hmmbuild.input.twlez54g.fasta\n",
      "[16:50:32] jobs.py (line 131):     INFO: Finished hmmbuild Job with input: /tmp/sepp/output._hh32wld/root/P_14/A_14_0/hmmbuild.input.kkg5aqbp.fasta\n",
      "[16:50:32] jobs.py (line 131):     INFO: Finished hmmsearch Job with input: model:/tmp/sepp/output._hh32wld/root/P_1/A_1_0/hmmbuild.model.x5q2n9fl, fragments:/tmp/sepp/output._hh32wld/fragment_chunks/fragment_chunk_0svyz_51y.fasta, elim:99999999, filter:False, output:/tmp/sepp/output._hh32wld/root/P_1/A_1_0/FC_1_0_0/hmmsearch.results.4aatp16g\n",
      "[16:50:32] jobs.py (line 131):     INFO: Finished hmmsearch Job with input: model:/tmp/sepp/output._hh32wld/root/P_1/A_1_0/hmmbuild.model.x5q2n9fl, fragments:/tmp/sepp/output._hh32wld/fragment_chunks/fragment_chunk_1xpfuvjrn.fasta, elim:99999999, filter:False, output:/tmp/sepp/output._hh32wld/root/P_1/A_1_0/FC_1_0_1/hmmsearch.results.o3u0ann9\n",
      "[16:50:32] jobs.py (line 131):     INFO: Finished hmmbuild Job with input: /tmp/sepp/output._hh32wld/root/P_15/A_15_0/hmmbuild.input.o0c9y7uq.fasta\n",
      "[16:50:32] jobs.py (line 131):     INFO: Finished hmmsearch Job with input: model:/tmp/sepp/output._hh32wld/root/P_1/A_1_0/hmmbuild.model.x5q2n9fl, fragments:/tmp/sepp/output._hh32wld/fragment_chunks/fragment_chunk_2rw6gwbm6.fasta, elim:99999999, filter:False, output:/tmp/sepp/output._hh32wld/root/P_1/A_1_0/FC_1_0_2/hmmsearch.results.z41rnxgt\n",
      "[16:50:32] jobs.py (line 131):     INFO: Finished hmmsearch Job with input: model:/tmp/sepp/output._hh32wld/root/P_0/A_0_0/hmmbuild.model.hyefnki6, fragments:/tmp/sepp/output._hh32wld/fragment_chunks/fragment_chunk_0svyz_51y.fasta, elim:99999999, filter:False, output:/tmp/sepp/output._hh32wld/root/P_0/A_0_0/FC_0_0_0/hmmsearch.results.3z52_2m4\n",
      "[16:50:33] jobs.py (line 131):     INFO: Finished hmmsearch Job with input: model:/tmp/sepp/output._hh32wld/root/P_0/A_0_0/hmmbuild.model.hyefnki6, fragments:/tmp/sepp/output._hh32wld/fragment_chunks/fragment_chunk_1xpfuvjrn.fasta, elim:99999999, filter:False, output:/tmp/sepp/output._hh32wld/root/P_0/A_0_0/FC_0_0_1/hmmsearch.results.dn8uhhdv\n",
      "[16:50:33] jobs.py (line 131):     INFO: Finished hmmsearch Job with input: model:/tmp/sepp/output._hh32wld/root/P_0/A_0_0/hmmbuild.model.hyefnki6, fragments:/tmp/sepp/output._hh32wld/fragment_chunks/fragment_chunk_2rw6gwbm6.fasta, elim:99999999, filter:False, output:/tmp/sepp/output._hh32wld/root/P_0/A_0_0/FC_0_0_2/hmmsearch.results.vqmdbttz\n",
      "[16:50:33] jobs.py (line 131):     INFO: Finished hmmsearch Job with input: model:/tmp/sepp/output._hh32wld/root/P_2/A_2_0/hmmbuild.model._4em4vzs, fragments:/tmp/sepp/output._hh32wld/fragment_chunks/fragment_chunk_0svyz_51y.fasta, elim:99999999, filter:False, output:/tmp/sepp/output._hh32wld/root/P_2/A_2_0/FC_2_0_0/hmmsearch.results.hh8zvlj3\n",
      "[16:50:33] jobs.py (line 131):     INFO: Finished hmmsearch Job with input: model:/tmp/sepp/output._hh32wld/root/P_2/A_2_0/hmmbuild.model._4em4vzs, fragments:/tmp/sepp/output._hh32wld/fragment_chunks/fragment_chunk_1xpfuvjrn.fasta, elim:99999999, filter:False, output:/tmp/sepp/output._hh32wld/root/P_2/A_2_0/FC_2_0_1/hmmsearch.results.890asuqq\n",
      "[16:50:33] jobs.py (line 131):     INFO: Finished hmmsearch Job with input: model:/tmp/sepp/output._hh32wld/root/P_2/A_2_0/hmmbuild.model._4em4vzs, fragments:/tmp/sepp/output._hh32wld/fragment_chunks/fragment_chunk_2rw6gwbm6.fasta, elim:99999999, filter:False, output:/tmp/sepp/output._hh32wld/root/P_2/A_2_0/FC_2_0_2/hmmsearch.results.oiuxo2q6\n",
      "[16:50:33] jobs.py (line 131):     INFO: Finished hmmsearch Job with input: model:/tmp/sepp/output._hh32wld/root/P_4/A_4_0/hmmbuild.model.hhcy5o05, fragments:/tmp/sepp/output._hh32wld/fragment_chunks/fragment_chunk_0svyz_51y.fasta, elim:99999999, filter:False, output:/tmp/sepp/output._hh32wld/root/P_4/A_4_0/FC_4_0_0/hmmsearch.results.m2vdsonm\n",
      "[16:50:33] jobs.py (line 131):     INFO: Finished hmmsearch Job with input: model:/tmp/sepp/output._hh32wld/root/P_4/A_4_0/hmmbuild.model.hhcy5o05, fragments:/tmp/sepp/output._hh32wld/fragment_chunks/fragment_chunk_1xpfuvjrn.fasta, elim:99999999, filter:False, output:/tmp/sepp/output._hh32wld/root/P_4/A_4_0/FC_4_0_1/hmmsearch.results.q6poy_nz\n",
      "[16:50:34] jobs.py (line 131):     INFO: Finished hmmsearch Job with input: model:/tmp/sepp/output._hh32wld/root/P_4/A_4_0/hmmbuild.model.hhcy5o05, fragments:/tmp/sepp/output._hh32wld/fragment_chunks/fragment_chunk_2rw6gwbm6.fasta, elim:99999999, filter:False, output:/tmp/sepp/output._hh32wld/root/P_4/A_4_0/FC_4_0_2/hmmsearch.results.ls8cvc7l\n",
      "[16:50:34] jobs.py (line 131):     INFO: Finished hmmsearch Job with input: model:/tmp/sepp/output._hh32wld/root/P_3/A_3_0/hmmbuild.model.k272wkmy, fragments:/tmp/sepp/output._hh32wld/fragment_chunks/fragment_chunk_0svyz_51y.fasta, elim:99999999, filter:False, output:/tmp/sepp/output._hh32wld/root/P_3/A_3_0/FC_3_0_0/hmmsearch.results.n13kezs6\n",
      "[16:50:34] jobs.py (line 131):     INFO: Finished hmmsearch Job with input: model:/tmp/sepp/output._hh32wld/root/P_3/A_3_0/hmmbuild.model.k272wkmy, fragments:/tmp/sepp/output._hh32wld/fragment_chunks/fragment_chunk_1xpfuvjrn.fasta, elim:99999999, filter:False, output:/tmp/sepp/output._hh32wld/root/P_3/A_3_0/FC_3_0_1/hmmsearch.results._9sz8xqq\n",
      "[16:50:34] jobs.py (line 131):     INFO: Finished hmmsearch Job with input: model:/tmp/sepp/output._hh32wld/root/P_3/A_3_0/hmmbuild.model.k272wkmy, fragments:/tmp/sepp/output._hh32wld/fragment_chunks/fragment_chunk_2rw6gwbm6.fasta, elim:99999999, filter:False, output:/tmp/sepp/output._hh32wld/root/P_3/A_3_0/FC_3_0_2/hmmsearch.results._pij1qil\n",
      "[16:50:34] jobs.py (line 131):     INFO: Finished hmmsearch Job with input: model:/tmp/sepp/output._hh32wld/root/P_5/A_5_0/hmmbuild.model.gh8pvitl, fragments:/tmp/sepp/output._hh32wld/fragment_chunks/fragment_chunk_0svyz_51y.fasta, elim:99999999, filter:False, output:/tmp/sepp/output._hh32wld/root/P_5/A_5_0/FC_5_0_0/hmmsearch.results.h_mzxcj2\n",
      "[16:50:34] jobs.py (line 131):     INFO: Finished hmmsearch Job with input: model:/tmp/sepp/output._hh32wld/root/P_5/A_5_0/hmmbuild.model.gh8pvitl, fragments:/tmp/sepp/output._hh32wld/fragment_chunks/fragment_chunk_1xpfuvjrn.fasta, elim:99999999, filter:False, output:/tmp/sepp/output._hh32wld/root/P_5/A_5_0/FC_5_0_1/hmmsearch.results.tp1gkwck\n",
      "[16:50:35] jobs.py (line 131):     INFO: Finished hmmsearch Job with input: model:/tmp/sepp/output._hh32wld/root/P_5/A_5_0/hmmbuild.model.gh8pvitl, fragments:/tmp/sepp/output._hh32wld/fragment_chunks/fragment_chunk_2rw6gwbm6.fasta, elim:99999999, filter:False, output:/tmp/sepp/output._hh32wld/root/P_5/A_5_0/FC_5_0_2/hmmsearch.results.ejgjurxi\n",
      "[16:50:35] jobs.py (line 131):     INFO: Finished hmmsearch Job with input: model:/tmp/sepp/output._hh32wld/root/P_6/A_6_0/hmmbuild.model.9bwodkxe, fragments:/tmp/sepp/output._hh32wld/fragment_chunks/fragment_chunk_0svyz_51y.fasta, elim:99999999, filter:False, output:/tmp/sepp/output._hh32wld/root/P_6/A_6_0/FC_6_0_0/hmmsearch.results.61kbvfzg\n",
      "[16:50:35] jobs.py (line 131):     INFO: Finished hmmsearch Job with input: model:/tmp/sepp/output._hh32wld/root/P_6/A_6_0/hmmbuild.model.9bwodkxe, fragments:/tmp/sepp/output._hh32wld/fragment_chunks/fragment_chunk_1xpfuvjrn.fasta, elim:99999999, filter:False, output:/tmp/sepp/output._hh32wld/root/P_6/A_6_0/FC_6_0_1/hmmsearch.results.kk0abz1b\n",
      "[16:50:35] jobs.py (line 131):     INFO: Finished hmmsearch Job with input: model:/tmp/sepp/output._hh32wld/root/P_6/A_6_0/hmmbuild.model.9bwodkxe, fragments:/tmp/sepp/output._hh32wld/fragment_chunks/fragment_chunk_2rw6gwbm6.fasta, elim:99999999, filter:False, output:/tmp/sepp/output._hh32wld/root/P_6/A_6_0/FC_6_0_2/hmmsearch.results.r4rnw6ls\n",
      "[16:50:35] jobs.py (line 131):     INFO: Finished hmmsearch Job with input: model:/tmp/sepp/output._hh32wld/root/P_8/A_8_0/hmmbuild.model.ngvcgyfx, fragments:/tmp/sepp/output._hh32wld/fragment_chunks/fragment_chunk_0svyz_51y.fasta, elim:99999999, filter:False, output:/tmp/sepp/output._hh32wld/root/P_8/A_8_0/FC_8_0_0/hmmsearch.results.nv8zibrv\n",
      "[16:50:35] jobs.py (line 131):     INFO: Finished hmmsearch Job with input: model:/tmp/sepp/output._hh32wld/root/P_8/A_8_0/hmmbuild.model.ngvcgyfx, fragments:/tmp/sepp/output._hh32wld/fragment_chunks/fragment_chunk_1xpfuvjrn.fasta, elim:99999999, filter:False, output:/tmp/sepp/output._hh32wld/root/P_8/A_8_0/FC_8_0_1/hmmsearch.results.38qxb8gd\n",
      "[16:50:36] jobs.py (line 131):     INFO: Finished hmmsearch Job with input: model:/tmp/sepp/output._hh32wld/root/P_8/A_8_0/hmmbuild.model.ngvcgyfx, fragments:/tmp/sepp/output._hh32wld/fragment_chunks/fragment_chunk_2rw6gwbm6.fasta, elim:99999999, filter:False, output:/tmp/sepp/output._hh32wld/root/P_8/A_8_0/FC_8_0_2/hmmsearch.results.zc3r2drl\n",
      "[16:50:36] jobs.py (line 131):     INFO: Finished hmmsearch Job with input: model:/tmp/sepp/output._hh32wld/root/P_7/A_7_0/hmmbuild.model.brdu6sy0, fragments:/tmp/sepp/output._hh32wld/fragment_chunks/fragment_chunk_0svyz_51y.fasta, elim:99999999, filter:False, output:/tmp/sepp/output._hh32wld/root/P_7/A_7_0/FC_7_0_0/hmmsearch.results.n10lxxxb\n",
      "[16:50:36] jobs.py (line 131):     INFO: Finished hmmsearch Job with input: model:/tmp/sepp/output._hh32wld/root/P_7/A_7_0/hmmbuild.model.brdu6sy0, fragments:/tmp/sepp/output._hh32wld/fragment_chunks/fragment_chunk_1xpfuvjrn.fasta, elim:99999999, filter:False, output:/tmp/sepp/output._hh32wld/root/P_7/A_7_0/FC_7_0_1/hmmsearch.results.t0bccpxn\n",
      "[16:50:36] jobs.py (line 131):     INFO: Finished hmmsearch Job with input: model:/tmp/sepp/output._hh32wld/root/P_7/A_7_0/hmmbuild.model.brdu6sy0, fragments:/tmp/sepp/output._hh32wld/fragment_chunks/fragment_chunk_2rw6gwbm6.fasta, elim:99999999, filter:False, output:/tmp/sepp/output._hh32wld/root/P_7/A_7_0/FC_7_0_2/hmmsearch.results.rwzzkv08\n",
      "[16:50:36] jobs.py (line 131):     INFO: Finished hmmsearch Job with input: model:/tmp/sepp/output._hh32wld/root/P_9/A_9_0/hmmbuild.model.xhyy1ihp, fragments:/tmp/sepp/output._hh32wld/fragment_chunks/fragment_chunk_0svyz_51y.fasta, elim:99999999, filter:False, output:/tmp/sepp/output._hh32wld/root/P_9/A_9_0/FC_9_0_0/hmmsearch.results.s6sr8mmo\n",
      "[16:50:36] jobs.py (line 131):     INFO: Finished hmmsearch Job with input: model:/tmp/sepp/output._hh32wld/root/P_9/A_9_0/hmmbuild.model.xhyy1ihp, fragments:/tmp/sepp/output._hh32wld/fragment_chunks/fragment_chunk_1xpfuvjrn.fasta, elim:99999999, filter:False, output:/tmp/sepp/output._hh32wld/root/P_9/A_9_0/FC_9_0_1/hmmsearch.results._5_xmcsh\n",
      "[16:50:36] jobs.py (line 131):     INFO: Finished hmmsearch Job with input: model:/tmp/sepp/output._hh32wld/root/P_9/A_9_0/hmmbuild.model.xhyy1ihp, fragments:/tmp/sepp/output._hh32wld/fragment_chunks/fragment_chunk_2rw6gwbm6.fasta, elim:99999999, filter:False, output:/tmp/sepp/output._hh32wld/root/P_9/A_9_0/FC_9_0_2/hmmsearch.results.f0yk_1ag\n",
      "[16:50:37] jobs.py (line 131):     INFO: Finished hmmsearch Job with input: model:/tmp/sepp/output._hh32wld/root/P_10/A_10_0/hmmbuild.model.c12bop0u, fragments:/tmp/sepp/output._hh32wld/fragment_chunks/fragment_chunk_0svyz_51y.fasta, elim:99999999, filter:False, output:/tmp/sepp/output._hh32wld/root/P_10/A_10_0/FC_10_0_0/hmmsearch.results.wofy94xl\n",
      "[16:50:37] jobs.py (line 131):     INFO: Finished hmmsearch Job with input: model:/tmp/sepp/output._hh32wld/root/P_10/A_10_0/hmmbuild.model.c12bop0u, fragments:/tmp/sepp/output._hh32wld/fragment_chunks/fragment_chunk_1xpfuvjrn.fasta, elim:99999999, filter:False, output:/tmp/sepp/output._hh32wld/root/P_10/A_10_0/FC_10_0_1/hmmsearch.results.66_yb3ym\n",
      "[16:50:37] jobs.py (line 131):     INFO: Finished hmmsearch Job with input: model:/tmp/sepp/output._hh32wld/root/P_10/A_10_0/hmmbuild.model.c12bop0u, fragments:/tmp/sepp/output._hh32wld/fragment_chunks/fragment_chunk_2rw6gwbm6.fasta, elim:99999999, filter:False, output:/tmp/sepp/output._hh32wld/root/P_10/A_10_0/FC_10_0_2/hmmsearch.results.9_r52l60\n",
      "[16:50:37] jobs.py (line 131):     INFO: Finished hmmsearch Job with input: model:/tmp/sepp/output._hh32wld/root/P_11/A_11_0/hmmbuild.model.4iullnoc, fragments:/tmp/sepp/output._hh32wld/fragment_chunks/fragment_chunk_0svyz_51y.fasta, elim:99999999, filter:False, output:/tmp/sepp/output._hh32wld/root/P_11/A_11_0/FC_11_0_0/hmmsearch.results.l6l1hmj9\n",
      "[16:50:37] jobs.py (line 131):     INFO: Finished hmmsearch Job with input: model:/tmp/sepp/output._hh32wld/root/P_11/A_11_0/hmmbuild.model.4iullnoc, fragments:/tmp/sepp/output._hh32wld/fragment_chunks/fragment_chunk_1xpfuvjrn.fasta, elim:99999999, filter:False, output:/tmp/sepp/output._hh32wld/root/P_11/A_11_0/FC_11_0_1/hmmsearch.results.m1ywj9qs\n",
      "[16:50:37] jobs.py (line 131):     INFO: Finished hmmsearch Job with input: model:/tmp/sepp/output._hh32wld/root/P_11/A_11_0/hmmbuild.model.4iullnoc, fragments:/tmp/sepp/output._hh32wld/fragment_chunks/fragment_chunk_2rw6gwbm6.fasta, elim:99999999, filter:False, output:/tmp/sepp/output._hh32wld/root/P_11/A_11_0/FC_11_0_2/hmmsearch.results.poqga0n9\n",
      "[16:50:38] jobs.py (line 131):     INFO: Finished hmmsearch Job with input: model:/tmp/sepp/output._hh32wld/root/P_12/A_12_0/hmmbuild.model.dbggdiy7, fragments:/tmp/sepp/output._hh32wld/fragment_chunks/fragment_chunk_0svyz_51y.fasta, elim:99999999, filter:False, output:/tmp/sepp/output._hh32wld/root/P_12/A_12_0/FC_12_0_0/hmmsearch.results.9cllfwfb\n",
      "[16:50:38] jobs.py (line 131):     INFO: Finished hmmsearch Job with input: model:/tmp/sepp/output._hh32wld/root/P_12/A_12_0/hmmbuild.model.dbggdiy7, fragments:/tmp/sepp/output._hh32wld/fragment_chunks/fragment_chunk_1xpfuvjrn.fasta, elim:99999999, filter:False, output:/tmp/sepp/output._hh32wld/root/P_12/A_12_0/FC_12_0_1/hmmsearch.results.ks7u1o5i\n",
      "[16:50:38] jobs.py (line 131):     INFO: Finished hmmsearch Job with input: model:/tmp/sepp/output._hh32wld/root/P_12/A_12_0/hmmbuild.model.dbggdiy7, fragments:/tmp/sepp/output._hh32wld/fragment_chunks/fragment_chunk_2rw6gwbm6.fasta, elim:99999999, filter:False, output:/tmp/sepp/output._hh32wld/root/P_12/A_12_0/FC_12_0_2/hmmsearch.results.jfzksr53\n",
      "[16:50:38] jobs.py (line 131):     INFO: Finished hmmsearch Job with input: model:/tmp/sepp/output._hh32wld/root/P_13/A_13_0/hmmbuild.model.6ml_sttq, fragments:/tmp/sepp/output._hh32wld/fragment_chunks/fragment_chunk_0svyz_51y.fasta, elim:99999999, filter:False, output:/tmp/sepp/output._hh32wld/root/P_13/A_13_0/FC_13_0_0/hmmsearch.results.28l2ph63\n",
      "[16:50:38] jobs.py (line 131):     INFO: Finished hmmsearch Job with input: model:/tmp/sepp/output._hh32wld/root/P_13/A_13_0/hmmbuild.model.6ml_sttq, fragments:/tmp/sepp/output._hh32wld/fragment_chunks/fragment_chunk_2rw6gwbm6.fasta, elim:99999999, filter:False, output:/tmp/sepp/output._hh32wld/root/P_13/A_13_0/FC_13_0_2/hmmsearch.results.tdse5i8b\n",
      "[16:50:38] jobs.py (line 131):     INFO: Finished hmmsearch Job with input: model:/tmp/sepp/output._hh32wld/root/P_13/A_13_0/hmmbuild.model.6ml_sttq, fragments:/tmp/sepp/output._hh32wld/fragment_chunks/fragment_chunk_1xpfuvjrn.fasta, elim:99999999, filter:False, output:/tmp/sepp/output._hh32wld/root/P_13/A_13_0/FC_13_0_1/hmmsearch.results.chwf9x0m\n",
      "[16:50:39] jobs.py (line 131):     INFO: Finished hmmsearch Job with input: model:/tmp/sepp/output._hh32wld/root/P_14/A_14_0/hmmbuild.model.8tc65c6e, fragments:/tmp/sepp/output._hh32wld/fragment_chunks/fragment_chunk_0svyz_51y.fasta, elim:99999999, filter:False, output:/tmp/sepp/output._hh32wld/root/P_14/A_14_0/FC_14_0_0/hmmsearch.results.jk7t9xxp\n",
      "[16:50:39] jobs.py (line 131):     INFO: Finished hmmsearch Job with input: model:/tmp/sepp/output._hh32wld/root/P_14/A_14_0/hmmbuild.model.8tc65c6e, fragments:/tmp/sepp/output._hh32wld/fragment_chunks/fragment_chunk_2rw6gwbm6.fasta, elim:99999999, filter:False, output:/tmp/sepp/output._hh32wld/root/P_14/A_14_0/FC_14_0_2/hmmsearch.results.i9mdc7yt\n",
      "[16:50:39] jobs.py (line 131):     INFO: Finished hmmsearch Job with input: model:/tmp/sepp/output._hh32wld/root/P_14/A_14_0/hmmbuild.model.8tc65c6e, fragments:/tmp/sepp/output._hh32wld/fragment_chunks/fragment_chunk_1xpfuvjrn.fasta, elim:99999999, filter:False, output:/tmp/sepp/output._hh32wld/root/P_14/A_14_0/FC_14_0_1/hmmsearch.results.fet4uctu\n",
      "[16:50:39] jobs.py (line 131):     INFO: Finished hmmsearch Job with input: model:/tmp/sepp/output._hh32wld/root/P_15/A_15_0/hmmbuild.model.sp7nu6ry, fragments:/tmp/sepp/output._hh32wld/fragment_chunks/fragment_chunk_0svyz_51y.fasta, elim:99999999, filter:False, output:/tmp/sepp/output._hh32wld/root/P_15/A_15_0/FC_15_0_0/hmmsearch.results.g1wc8i_l\n",
      "[16:50:39] jobs.py (line 131):     INFO: Finished hmmsearch Job with input: model:/tmp/sepp/output._hh32wld/root/P_15/A_15_0/hmmbuild.model.sp7nu6ry, fragments:/tmp/sepp/output._hh32wld/fragment_chunks/fragment_chunk_2rw6gwbm6.fasta, elim:99999999, filter:False, output:/tmp/sepp/output._hh32wld/root/P_15/A_15_0/FC_15_0_2/hmmsearch.results.orezll35\n",
      "[16:50:39] jobs.py (line 131):     INFO: Finished hmmsearch Job with input: model:/tmp/sepp/output._hh32wld/root/P_15/A_15_0/hmmbuild.model.sp7nu6ry, fragments:/tmp/sepp/output._hh32wld/fragment_chunks/fragment_chunk_1xpfuvjrn.fasta, elim:99999999, filter:False, output:/tmp/sepp/output._hh32wld/root/P_15/A_15_0/FC_15_0_1/hmmsearch.results.wkoo_4jw\n",
      "[16:50:39] exhaustive.py (line 80):  WARNING: Fragments [] are not scored against any subset\n",
      "[16:50:39] jobs.py (line 131):     INFO: Finished hmmalign Job with input: model:/tmp/sepp/output._hh32wld/root/P_0/A_0_0/hmmbuild.model.hyefnki6, fragments:/tmp/sepp/output._hh32wld/root/P_0/A_0_0/FC_0_0_0/hmmalign.frag.4xx08_t8.fasta, trim:False, base_alignment:/tmp/sepp/output._hh32wld/root/P_0/A_0_0/hmmbuild.input.qqlxkt46.fasta\n",
      "[16:50:39] exhaustive.py (line 151):     INFO: Merging sub-alignments for placement problem : P_0.\n",
      "[16:50:39] alignment.py (line 556):     INFO: Merging extension sto file (/tmp/sepp/output._hh32wld/root/P_0/A_0_0/FC_0_0_0/hmmalign.results.zwhfq47y) into base alignment (/tmp/sepp/output._hh32wld/root/P_0/A_0_0/hmmbuild.input.qqlxkt46.fasta).\n",
      "[16:50:39] jobs.py (line 131):     INFO: Finished hmmalign Job with input: model:/tmp/sepp/output._hh32wld/root/P_1/A_1_0/hmmbuild.model.x5q2n9fl, fragments:/tmp/sepp/output._hh32wld/root/P_1/A_1_0/FC_1_0_1/hmmalign.frag.17d0da00.fasta, trim:False, base_alignment:/tmp/sepp/output._hh32wld/root/P_1/A_1_0/hmmbuild.input.qfi7069s.fasta\n",
      "[16:50:39] exhaustive.py (line 151):     INFO: Merging sub-alignments for placement problem : P_2.\n",
      "[16:50:40] jobs.py (line 131):     INFO: Finished hmmalign Job with input: model:/tmp/sepp/output._hh32wld/root/P_1/A_1_0/hmmbuild.model.x5q2n9fl, fragments:/tmp/sepp/output._hh32wld/root/P_1/A_1_0/FC_1_0_0/hmmalign.frag.zmqzcd3g.fasta, trim:False, base_alignment:/tmp/sepp/output._hh32wld/root/P_1/A_1_0/hmmbuild.input.qfi7069s.fasta\n",
      "[16:50:40] jobs.py (line 131):     INFO: Finished hmmalign Job with input: model:/tmp/sepp/output._hh32wld/root/P_1/A_1_0/hmmbuild.model.x5q2n9fl, fragments:/tmp/sepp/output._hh32wld/root/P_1/A_1_0/FC_1_0_2/hmmalign.frag.7ge2ax56.fasta, trim:False, base_alignment:/tmp/sepp/output._hh32wld/root/P_1/A_1_0/hmmbuild.input.qfi7069s.fasta\n",
      "[16:50:40] jobs.py (line 131):     INFO: Finished hmmalign Job with input: model:/tmp/sepp/output._hh32wld/root/P_4/A_4_0/hmmbuild.model.hhcy5o05, fragments:/tmp/sepp/output._hh32wld/root/P_4/A_4_0/FC_4_0_0/hmmalign.frag.1ageyb7m.fasta, trim:False, base_alignment:/tmp/sepp/output._hh32wld/root/P_4/A_4_0/hmmbuild.input.3rd7k4y9.fasta\n",
      "[16:50:40] jobs.py (line 131):     INFO: Finished hmmalign Job with input: model:/tmp/sepp/output._hh32wld/root/P_4/A_4_0/hmmbuild.model.hhcy5o05, fragments:/tmp/sepp/output._hh32wld/root/P_4/A_4_0/FC_4_0_1/hmmalign.frag.sijto6gk.fasta, trim:False, base_alignment:/tmp/sepp/output._hh32wld/root/P_4/A_4_0/hmmbuild.input.3rd7k4y9.fasta\n",
      "[16:50:40] exhaustive.py (line 151):     INFO: Merging sub-alignments for placement problem : P_3.\n",
      "[16:50:40] jobs.py (line 131):     INFO: Finished hmmalign Job with input: model:/tmp/sepp/output._hh32wld/root/P_5/A_5_0/hmmbuild.model.gh8pvitl, fragments:/tmp/sepp/output._hh32wld/root/P_5/A_5_0/FC_5_0_1/hmmalign.frag.u7w7zy44.fasta, trim:False, base_alignment:/tmp/sepp/output._hh32wld/root/P_5/A_5_0/hmmbuild.input.i4huiycj.fasta\n",
      "[16:50:40] jobs.py (line 131):     INFO: Finished hmmalign Job with input: model:/tmp/sepp/output._hh32wld/root/P_5/A_5_0/hmmbuild.model.gh8pvitl, fragments:/tmp/sepp/output._hh32wld/root/P_5/A_5_0/FC_5_0_0/hmmalign.frag.sb7d4cde.fasta, trim:False, base_alignment:/tmp/sepp/output._hh32wld/root/P_5/A_5_0/hmmbuild.input.i4huiycj.fasta\n",
      "[16:50:40] jobs.py (line 131):     INFO: Finished hmmalign Job with input: model:/tmp/sepp/output._hh32wld/root/P_6/A_6_0/hmmbuild.model.9bwodkxe, fragments:/tmp/sepp/output._hh32wld/root/P_6/A_6_0/FC_6_0_0/hmmalign.frag.tv7bu7yi.fasta, trim:False, base_alignment:/tmp/sepp/output._hh32wld/root/P_6/A_6_0/hmmbuild.input.cl8gm56r.fasta\n",
      "[16:50:40] exhaustive.py (line 151):     INFO: Merging sub-alignments for placement problem : P_1.\n",
      "[16:50:40] jobs.py (line 131):     INFO: Finished hmmalign Job with input: model:/tmp/sepp/output._hh32wld/root/P_5/A_5_0/hmmbuild.model.gh8pvitl, fragments:/tmp/sepp/output._hh32wld/root/P_5/A_5_0/FC_5_0_2/hmmalign.frag.6keohil5.fasta, trim:False, base_alignment:/tmp/sepp/output._hh32wld/root/P_5/A_5_0/hmmbuild.input.i4huiycj.fasta\n",
      "[16:50:40] alignment.py (line 556):     INFO: Merging extension sto file (/tmp/sepp/output._hh32wld/root/P_1/A_1_0/FC_1_0_0/hmmalign.results.lqtyf662) into base alignment (/tmp/sepp/output._hh32wld/root/P_1/A_1_0/hmmbuild.input.qfi7069s.fasta).\n",
      "[16:50:40] alignment.py (line 556):     INFO: Merging extension sto file (/tmp/sepp/output._hh32wld/root/P_1/A_1_0/FC_1_0_1/hmmalign.results.jptaoi9i) into base alignment (/tmp/sepp/output._hh32wld/root/P_1/A_1_0/hmmbuild.input.qfi7069s.fasta).\n",
      "[16:50:40] alignment.py (line 556):     INFO: Merging extension sto file (/tmp/sepp/output._hh32wld/root/P_1/A_1_0/FC_1_0_2/hmmalign.results.372n27zl) into base alignment (/tmp/sepp/output._hh32wld/root/P_1/A_1_0/hmmbuild.input.qfi7069s.fasta).\n",
      "[16:50:40] jobs.py (line 131):     INFO: Finished hmmalign Job with input: model:/tmp/sepp/output._hh32wld/root/P_7/A_7_0/hmmbuild.model.brdu6sy0, fragments:/tmp/sepp/output._hh32wld/root/P_7/A_7_0/FC_7_0_0/hmmalign.frag.adbfxtu0.fasta, trim:False, base_alignment:/tmp/sepp/output._hh32wld/root/P_7/A_7_0/hmmbuild.input.b2cus1gx.fasta\n",
      "[16:50:40] jobs.py (line 131):     INFO: Finished hmmalign Job with input: model:/tmp/sepp/output._hh32wld/root/P_7/A_7_0/hmmbuild.model.brdu6sy0, fragments:/tmp/sepp/output._hh32wld/root/P_7/A_7_0/FC_7_0_1/hmmalign.frag.ngifi5aj.fasta, trim:False, base_alignment:/tmp/sepp/output._hh32wld/root/P_7/A_7_0/hmmbuild.input.b2cus1gx.fasta\n",
      "[16:50:40] jobs.py (line 131):     INFO: Finished hmmalign Job with input: model:/tmp/sepp/output._hh32wld/root/P_7/A_7_0/hmmbuild.model.brdu6sy0, fragments:/tmp/sepp/output._hh32wld/root/P_7/A_7_0/FC_7_0_2/hmmalign.frag.t13l6w58.fasta, trim:False, base_alignment:/tmp/sepp/output._hh32wld/root/P_7/A_7_0/hmmbuild.input.b2cus1gx.fasta\n",
      "[16:50:40] exhaustive.py (line 151):     INFO: Merging sub-alignments for placement problem : P_4.\n",
      "[16:50:40] alignment.py (line 556):     INFO: Merging extension sto file (/tmp/sepp/output._hh32wld/root/P_4/A_4_0/FC_4_0_0/hmmalign.results.j26txu0a) into base alignment (/tmp/sepp/output._hh32wld/root/P_4/A_4_0/hmmbuild.input.3rd7k4y9.fasta).\n",
      "[16:50:40] jobs.py (line 131):     INFO: Finished hmmalign Job with input: model:/tmp/sepp/output._hh32wld/root/P_8/A_8_0/hmmbuild.model.ngvcgyfx, fragments:/tmp/sepp/output._hh32wld/root/P_8/A_8_0/FC_8_0_0/hmmalign.frag.gk_csljm.fasta, trim:False, base_alignment:/tmp/sepp/output._hh32wld/root/P_8/A_8_0/hmmbuild.input.ca96k3fq.fasta\n",
      "[16:50:40] alignment.py (line 556):     INFO: Merging extension sto file (/tmp/sepp/output._hh32wld/root/P_4/A_4_0/FC_4_0_1/hmmalign.results.lu0u95oo) into base alignment (/tmp/sepp/output._hh32wld/root/P_4/A_4_0/hmmbuild.input.3rd7k4y9.fasta).\n",
      "[16:50:40] jobs.py (line 131):     INFO: Finished hmmalign Job with input: model:/tmp/sepp/output._hh32wld/root/P_9/A_9_0/hmmbuild.model.xhyy1ihp, fragments:/tmp/sepp/output._hh32wld/root/P_9/A_9_0/FC_9_0_0/hmmalign.frag.xffzpg_r.fasta, trim:False, base_alignment:/tmp/sepp/output._hh32wld/root/P_9/A_9_0/hmmbuild.input.__va90g9.fasta\n",
      "[16:50:40] exhaustive.py (line 151):     INFO: Merging sub-alignments for placement problem : P_6.\n",
      "[16:50:40] jobs.py (line 131):     INFO: Finished hmmalign Job with input: model:/tmp/sepp/output._hh32wld/root/P_10/A_10_0/hmmbuild.model.c12bop0u, fragments:/tmp/sepp/output._hh32wld/root/P_10/A_10_0/FC_10_0_0/hmmalign.frag.kuh6quad.fasta, trim:False, base_alignment:/tmp/sepp/output._hh32wld/root/P_10/A_10_0/hmmbuild.input.03sqb_b6.fasta\n",
      "[16:50:40] alignment.py (line 556):     INFO: Merging extension sto file (/tmp/sepp/output._hh32wld/root/P_6/A_6_0/FC_6_0_0/hmmalign.results.6_ko23tf) into base alignment (/tmp/sepp/output._hh32wld/root/P_6/A_6_0/hmmbuild.input.cl8gm56r.fasta).\n",
      "[16:50:40] jobs.py (line 131):     INFO: Finished hmmalign Job with input: model:/tmp/sepp/output._hh32wld/root/P_10/A_10_0/hmmbuild.model.c12bop0u, fragments:/tmp/sepp/output._hh32wld/root/P_10/A_10_0/FC_10_0_1/hmmalign.frag.u9u09ngo.fasta, trim:False, base_alignment:/tmp/sepp/output._hh32wld/root/P_10/A_10_0/hmmbuild.input.03sqb_b6.fasta\n",
      "[16:50:40] exhaustive.py (line 151):     INFO: Merging sub-alignments for placement problem : P_5.\n",
      "[16:50:40] alignment.py (line 556):     INFO: Merging extension sto file (/tmp/sepp/output._hh32wld/root/P_5/A_5_0/FC_5_0_0/hmmalign.results.duv1o5su) into base alignment (/tmp/sepp/output._hh32wld/root/P_5/A_5_0/hmmbuild.input.i4huiycj.fasta).\n",
      "[16:50:40] alignment.py (line 556):     INFO: Merging extension sto file (/tmp/sepp/output._hh32wld/root/P_5/A_5_0/FC_5_0_1/hmmalign.results.p5g_7d3q) into base alignment (/tmp/sepp/output._hh32wld/root/P_5/A_5_0/hmmbuild.input.i4huiycj.fasta).\n",
      "[16:50:40] alignment.py (line 556):     INFO: Merging extension sto file (/tmp/sepp/output._hh32wld/root/P_5/A_5_0/FC_5_0_2/hmmalign.results.f76ems68) into base alignment (/tmp/sepp/output._hh32wld/root/P_5/A_5_0/hmmbuild.input.i4huiycj.fasta).\n",
      "[16:50:40] exhaustive.py (line 151):     INFO: Merging sub-alignments for placement problem : P_7.\n",
      "[16:50:40] alignment.py (line 556):     INFO: Merging extension sto file (/tmp/sepp/output._hh32wld/root/P_7/A_7_0/FC_7_0_0/hmmalign.results.b9z6zl2y) into base alignment (/tmp/sepp/output._hh32wld/root/P_7/A_7_0/hmmbuild.input.b2cus1gx.fasta).\n",
      "[16:50:40] alignment.py (line 556):     INFO: Merging extension sto file (/tmp/sepp/output._hh32wld/root/P_7/A_7_0/FC_7_0_1/hmmalign.results.h4y2ur0z) into base alignment (/tmp/sepp/output._hh32wld/root/P_7/A_7_0/hmmbuild.input.b2cus1gx.fasta).\n",
      "[16:50:40] alignment.py (line 556):     INFO: Merging extension sto file (/tmp/sepp/output._hh32wld/root/P_7/A_7_0/FC_7_0_2/hmmalign.results.lxng68nb) into base alignment (/tmp/sepp/output._hh32wld/root/P_7/A_7_0/hmmbuild.input.b2cus1gx.fasta).\n",
      "[16:50:40] jobs.py (line 131):     INFO: Finished hmmalign Job with input: model:/tmp/sepp/output._hh32wld/root/P_11/A_11_0/hmmbuild.model.4iullnoc, fragments:/tmp/sepp/output._hh32wld/root/P_11/A_11_0/FC_11_0_0/hmmalign.frag.yles97sg.fasta, trim:False, base_alignment:/tmp/sepp/output._hh32wld/root/P_11/A_11_0/hmmbuild.input.ab7s29pu.fasta\n",
      "[16:50:40] jobs.py (line 131):     INFO: Finished hmmalign Job with input: model:/tmp/sepp/output._hh32wld/root/P_11/A_11_0/hmmbuild.model.4iullnoc, fragments:/tmp/sepp/output._hh32wld/root/P_11/A_11_0/FC_11_0_2/hmmalign.frag.rux8aml0.fasta, trim:False, base_alignment:/tmp/sepp/output._hh32wld/root/P_11/A_11_0/hmmbuild.input.ab7s29pu.fasta\n",
      "[16:50:40] jobs.py (line 131):     INFO: Finished hmmalign Job with input: model:/tmp/sepp/output._hh32wld/root/P_11/A_11_0/hmmbuild.model.4iullnoc, fragments:/tmp/sepp/output._hh32wld/root/P_11/A_11_0/FC_11_0_1/hmmalign.frag.s1jdgnem.fasta, trim:False, base_alignment:/tmp/sepp/output._hh32wld/root/P_11/A_11_0/hmmbuild.input.ab7s29pu.fasta\n",
      "[16:50:41] exhaustive.py (line 151):     INFO: Merging sub-alignments for placement problem : P_8.\n",
      "[16:50:41] alignment.py (line 556):     INFO: Merging extension sto file (/tmp/sepp/output._hh32wld/root/P_8/A_8_0/FC_8_0_0/hmmalign.results.vl9qh5fp) into base alignment (/tmp/sepp/output._hh32wld/root/P_8/A_8_0/hmmbuild.input.ca96k3fq.fasta).\n",
      "[16:50:41] jobs.py (line 131):     INFO: Finished hmmalign Job with input: model:/tmp/sepp/output._hh32wld/root/P_12/A_12_0/hmmbuild.model.dbggdiy7, fragments:/tmp/sepp/output._hh32wld/root/P_12/A_12_0/FC_12_0_0/hmmalign.frag.yqih3tju.fasta, trim:False, base_alignment:/tmp/sepp/output._hh32wld/root/P_12/A_12_0/hmmbuild.input.kteh_zds.fasta\n",
      "[16:50:41] jobs.py (line 131):     INFO: Finished hmmalign Job with input: model:/tmp/sepp/output._hh32wld/root/P_12/A_12_0/hmmbuild.model.dbggdiy7, fragments:/tmp/sepp/output._hh32wld/root/P_12/A_12_0/FC_12_0_1/hmmalign.frag.anidomzx.fasta, trim:False, base_alignment:/tmp/sepp/output._hh32wld/root/P_12/A_12_0/hmmbuild.input.kteh_zds.fasta\n",
      "[16:50:41] exhaustive.py (line 151):     INFO: Merging sub-alignments for placement problem : P_9.\n",
      "[16:50:41] alignment.py (line 556):     INFO: Merging extension sto file (/tmp/sepp/output._hh32wld/root/P_9/A_9_0/FC_9_0_0/hmmalign.results.yhfw9rg_) into base alignment (/tmp/sepp/output._hh32wld/root/P_9/A_9_0/hmmbuild.input.__va90g9.fasta).\n",
      "[16:50:41] exhaustive.py (line 151):     INFO: Merging sub-alignments for placement problem : P_10.\n",
      "[16:50:41] alignment.py (line 556):     INFO: Merging extension sto file (/tmp/sepp/output._hh32wld/root/P_10/A_10_0/FC_10_0_0/hmmalign.results.g11vglx5) into base alignment (/tmp/sepp/output._hh32wld/root/P_10/A_10_0/hmmbuild.input.03sqb_b6.fasta).\n",
      "[16:50:41] alignment.py (line 556):     INFO: Merging extension sto file (/tmp/sepp/output._hh32wld/root/P_10/A_10_0/FC_10_0_1/hmmalign.results.as4gedtl) into base alignment (/tmp/sepp/output._hh32wld/root/P_10/A_10_0/hmmbuild.input.03sqb_b6.fasta).\n",
      "[16:50:41] exhaustive.py (line 151):     INFO: Merging sub-alignments for placement problem : P_11.\n",
      "[16:50:41] alignment.py (line 556):     INFO: Merging extension sto file (/tmp/sepp/output._hh32wld/root/P_11/A_11_0/FC_11_0_0/hmmalign.results.njfvd95g) into base alignment (/tmp/sepp/output._hh32wld/root/P_11/A_11_0/hmmbuild.input.ab7s29pu.fasta).\n",
      "[16:50:41] alignment.py (line 556):     INFO: Merging extension sto file (/tmp/sepp/output._hh32wld/root/P_11/A_11_0/FC_11_0_1/hmmalign.results.rle8_b97) into base alignment (/tmp/sepp/output._hh32wld/root/P_11/A_11_0/hmmbuild.input.ab7s29pu.fasta).\n",
      "[16:50:41] alignment.py (line 556):     INFO: Merging extension sto file (/tmp/sepp/output._hh32wld/root/P_11/A_11_0/FC_11_0_2/hmmalign.results.ik3iiqeb) into base alignment (/tmp/sepp/output._hh32wld/root/P_11/A_11_0/hmmbuild.input.ab7s29pu.fasta).\n",
      "[16:50:41] exhaustive.py (line 151):     INFO: Merging sub-alignments for placement problem : P_13.\n",
      "[16:50:41] exhaustive.py (line 151):     INFO: Merging sub-alignments for placement problem : P_14.\n",
      "[16:50:42] exhaustive.py (line 151):     INFO: Merging sub-alignments for placement problem : P_15.\n",
      "[16:50:42] exhaustive.py (line 151):     INFO: Merging sub-alignments for placement problem : P_12.\n",
      "[16:50:42] alignment.py (line 556):     INFO: Merging extension sto file (/tmp/sepp/output._hh32wld/root/P_12/A_12_0/FC_12_0_0/hmmalign.results.5s_2xrw3) into base alignment (/tmp/sepp/output._hh32wld/root/P_12/A_12_0/hmmbuild.input.kteh_zds.fasta).\n",
      "[16:50:42] alignment.py (line 556):     INFO: Merging extension sto file (/tmp/sepp/output._hh32wld/root/P_12/A_12_0/FC_12_0_1/hmmalign.results.fbnbnm6c) into base alignment (/tmp/sepp/output._hh32wld/root/P_12/A_12_0/hmmbuild.input.kteh_zds.fasta).\n",
      "[16:50:45] jobs.py (line 131):     INFO: Finished pplacer Job with input: backbone_alignment_file:/tmp/sepp/output._hh32wld/root/P_0/pplacer.backbone.4zufrrm4.fasta, tree_file:/tmp/sepp/output._hh32wld/root/P_0/pplacer.tree.hqyfe15w.tre, info_file:/home/rtsantos3/anaconda3/envs/picrust2/lib/python3.8/site-packages/picrust2/default_files/prokaryotic/pro_ref/pro_ref.raxml_info, extended alignment:/tmp/sepp/output._hh32wld/root/P_0/pplacer.extended.0.pncacf8b.fasta, output:/tmp/sepp/output._hh32wld/root/P_0/pplacer.extended.0.pncacf8b.jplace\n",
      "[16:50:46] jobs.py (line 131):     INFO: Finished pplacer Job with input: backbone_alignment_file:/tmp/sepp/output._hh32wld/root/P_1/pplacer.backbone.vknsr3ur.fasta, tree_file:/tmp/sepp/output._hh32wld/root/P_1/pplacer.tree.am_bxixo.tre, info_file:/home/rtsantos3/anaconda3/envs/picrust2/lib/python3.8/site-packages/picrust2/default_files/prokaryotic/pro_ref/pro_ref.raxml_info, extended alignment:/tmp/sepp/output._hh32wld/root/P_1/pplacer.extended.1.oblezlrn.fasta, output:/tmp/sepp/output._hh32wld/root/P_1/pplacer.extended.1.oblezlrn.jplace\n",
      "[16:50:46] jobs.py (line 131):     INFO: Finished pplacer Job with input: backbone_alignment_file:/tmp/sepp/output._hh32wld/root/P_1/pplacer.backbone._8s__7h1.fasta, tree_file:/tmp/sepp/output._hh32wld/root/P_1/pplacer.tree.mlo8f73k.tre, info_file:/home/rtsantos3/anaconda3/envs/picrust2/lib/python3.8/site-packages/picrust2/default_files/prokaryotic/pro_ref/pro_ref.raxml_info, extended alignment:/tmp/sepp/output._hh32wld/root/P_1/pplacer.extended.0.3ltg0wuh.fasta, output:/tmp/sepp/output._hh32wld/root/P_1/pplacer.extended.0.3ltg0wuh.jplace\n",
      "[16:50:49] jobs.py (line 131):     INFO: Finished pplacer Job with input: backbone_alignment_file:/tmp/sepp/output._hh32wld/root/P_4/pplacer.backbone.stsfueb8.fasta, tree_file:/tmp/sepp/output._hh32wld/root/P_4/pplacer.tree.msg_z325.tre, info_file:/home/rtsantos3/anaconda3/envs/picrust2/lib/python3.8/site-packages/picrust2/default_files/prokaryotic/pro_ref/pro_ref.raxml_info, extended alignment:/tmp/sepp/output._hh32wld/root/P_4/pplacer.extended.0.uhwwsobm.fasta, output:/tmp/sepp/output._hh32wld/root/P_4/pplacer.extended.0.uhwwsobm.jplace\n",
      "[16:50:50] jobs.py (line 131):     INFO: Finished pplacer Job with input: backbone_alignment_file:/tmp/sepp/output._hh32wld/root/P_4/pplacer.backbone.g4q4hu9l.fasta, tree_file:/tmp/sepp/output._hh32wld/root/P_4/pplacer.tree.wkerq_39.tre, info_file:/home/rtsantos3/anaconda3/envs/picrust2/lib/python3.8/site-packages/picrust2/default_files/prokaryotic/pro_ref/pro_ref.raxml_info, extended alignment:/tmp/sepp/output._hh32wld/root/P_4/pplacer.extended.1.kzmsyeys.fasta, output:/tmp/sepp/output._hh32wld/root/P_4/pplacer.extended.1.kzmsyeys.jplace\n",
      "[16:50:50] jobs.py (line 131):     INFO: Finished pplacer Job with input: backbone_alignment_file:/tmp/sepp/output._hh32wld/root/P_1/pplacer.backbone.nob9_6rt.fasta, tree_file:/tmp/sepp/output._hh32wld/root/P_1/pplacer.tree.aij5sx4n.tre, info_file:/home/rtsantos3/anaconda3/envs/picrust2/lib/python3.8/site-packages/picrust2/default_files/prokaryotic/pro_ref/pro_ref.raxml_info, extended alignment:/tmp/sepp/output._hh32wld/root/P_1/pplacer.extended.2.lzl1b3do.fasta, output:/tmp/sepp/output._hh32wld/root/P_1/pplacer.extended.2.lzl1b3do.jplace\n",
      "[16:50:54] jobs.py (line 131):     INFO: Finished pplacer Job with input: backbone_alignment_file:/tmp/sepp/output._hh32wld/root/P_6/pplacer.backbone.yp9bnbk8.fasta, tree_file:/tmp/sepp/output._hh32wld/root/P_6/pplacer.tree.d59ztumm.tre, info_file:/home/rtsantos3/anaconda3/envs/picrust2/lib/python3.8/site-packages/picrust2/default_files/prokaryotic/pro_ref/pro_ref.raxml_info, extended alignment:/tmp/sepp/output._hh32wld/root/P_6/pplacer.extended.0.vq03t2jv.fasta, output:/tmp/sepp/output._hh32wld/root/P_6/pplacer.extended.0.vq03t2jv.jplace\n",
      "[16:50:55] jobs.py (line 131):     INFO: Finished pplacer Job with input: backbone_alignment_file:/tmp/sepp/output._hh32wld/root/P_5/pplacer.backbone.8ztqcyvl.fasta, tree_file:/tmp/sepp/output._hh32wld/root/P_5/pplacer.tree.07gg8nap.tre, info_file:/home/rtsantos3/anaconda3/envs/picrust2/lib/python3.8/site-packages/picrust2/default_files/prokaryotic/pro_ref/pro_ref.raxml_info, extended alignment:/tmp/sepp/output._hh32wld/root/P_5/pplacer.extended.0.0su_p8af.fasta, output:/tmp/sepp/output._hh32wld/root/P_5/pplacer.extended.0.0su_p8af.jplace\n",
      "[16:50:55] jobs.py (line 131):     INFO: Finished pplacer Job with input: backbone_alignment_file:/tmp/sepp/output._hh32wld/root/P_5/pplacer.backbone.gk7nbuj5.fasta, tree_file:/tmp/sepp/output._hh32wld/root/P_5/pplacer.tree.5pnhtzxy.tre, info_file:/home/rtsantos3/anaconda3/envs/picrust2/lib/python3.8/site-packages/picrust2/default_files/prokaryotic/pro_ref/pro_ref.raxml_info, extended alignment:/tmp/sepp/output._hh32wld/root/P_5/pplacer.extended.1.lxydw6sz.fasta, output:/tmp/sepp/output._hh32wld/root/P_5/pplacer.extended.1.lxydw6sz.jplace\n",
      "[16:51:00] jobs.py (line 131):     INFO: Finished pplacer Job with input: backbone_alignment_file:/tmp/sepp/output._hh32wld/root/P_7/pplacer.backbone.6ka64jkg.fasta, tree_file:/tmp/sepp/output._hh32wld/root/P_7/pplacer.tree.s776rxqv.tre, info_file:/home/rtsantos3/anaconda3/envs/picrust2/lib/python3.8/site-packages/picrust2/default_files/prokaryotic/pro_ref/pro_ref.raxml_info, extended alignment:/tmp/sepp/output._hh32wld/root/P_7/pplacer.extended.0.ys70vmjb.fasta, output:/tmp/sepp/output._hh32wld/root/P_7/pplacer.extended.0.ys70vmjb.jplace\n",
      "[16:51:00] jobs.py (line 131):     INFO: Finished pplacer Job with input: backbone_alignment_file:/tmp/sepp/output._hh32wld/root/P_5/pplacer.backbone.8hlytm8a.fasta, tree_file:/tmp/sepp/output._hh32wld/root/P_5/pplacer.tree.gj5pdcwn.tre, info_file:/home/rtsantos3/anaconda3/envs/picrust2/lib/python3.8/site-packages/picrust2/default_files/prokaryotic/pro_ref/pro_ref.raxml_info, extended alignment:/tmp/sepp/output._hh32wld/root/P_5/pplacer.extended.2.bvbxjsxf.fasta, output:/tmp/sepp/output._hh32wld/root/P_5/pplacer.extended.2.bvbxjsxf.jplace\n",
      "[16:51:00] jobs.py (line 131):     INFO: Finished pplacer Job with input: backbone_alignment_file:/tmp/sepp/output._hh32wld/root/P_7/pplacer.backbone.wvsdukm9.fasta, tree_file:/tmp/sepp/output._hh32wld/root/P_7/pplacer.tree.kxhjvs4o.tre, info_file:/home/rtsantos3/anaconda3/envs/picrust2/lib/python3.8/site-packages/picrust2/default_files/prokaryotic/pro_ref/pro_ref.raxml_info, extended alignment:/tmp/sepp/output._hh32wld/root/P_7/pplacer.extended.1.s1yn9knr.fasta, output:/tmp/sepp/output._hh32wld/root/P_7/pplacer.extended.1.s1yn9knr.jplace\n",
      "[16:51:03] jobs.py (line 131):     INFO: Finished pplacer Job with input: backbone_alignment_file:/tmp/sepp/output._hh32wld/root/P_8/pplacer.backbone.zfv1zj__.fasta, tree_file:/tmp/sepp/output._hh32wld/root/P_8/pplacer.tree.f4ntoqjb.tre, info_file:/home/rtsantos3/anaconda3/envs/picrust2/lib/python3.8/site-packages/picrust2/default_files/prokaryotic/pro_ref/pro_ref.raxml_info, extended alignment:/tmp/sepp/output._hh32wld/root/P_8/pplacer.extended.0.ko7182cu.fasta, output:/tmp/sepp/output._hh32wld/root/P_8/pplacer.extended.0.ko7182cu.jplace\n",
      "[16:51:05] jobs.py (line 131):     INFO: Finished pplacer Job with input: backbone_alignment_file:/tmp/sepp/output._hh32wld/root/P_7/pplacer.backbone.e0c3jrl1.fasta, tree_file:/tmp/sepp/output._hh32wld/root/P_7/pplacer.tree.qzqjb6_8.tre, info_file:/home/rtsantos3/anaconda3/envs/picrust2/lib/python3.8/site-packages/picrust2/default_files/prokaryotic/pro_ref/pro_ref.raxml_info, extended alignment:/tmp/sepp/output._hh32wld/root/P_7/pplacer.extended.2.j4cl1bhl.fasta, output:/tmp/sepp/output._hh32wld/root/P_7/pplacer.extended.2.j4cl1bhl.jplace\n",
      "[16:51:05] jobs.py (line 131):     INFO: Finished pplacer Job with input: backbone_alignment_file:/tmp/sepp/output._hh32wld/root/P_9/pplacer.backbone.mnbqhu2n.fasta, tree_file:/tmp/sepp/output._hh32wld/root/P_9/pplacer.tree.56kvyg5t.tre, info_file:/home/rtsantos3/anaconda3/envs/picrust2/lib/python3.8/site-packages/picrust2/default_files/prokaryotic/pro_ref/pro_ref.raxml_info, extended alignment:/tmp/sepp/output._hh32wld/root/P_9/pplacer.extended.0.b31ujmp2.fasta, output:/tmp/sepp/output._hh32wld/root/P_9/pplacer.extended.0.b31ujmp2.jplace\n",
      "[16:51:07] jobs.py (line 131):     INFO: Finished pplacer Job with input: backbone_alignment_file:/tmp/sepp/output._hh32wld/root/P_10/pplacer.backbone.cl10_gi8.fasta, tree_file:/tmp/sepp/output._hh32wld/root/P_10/pplacer.tree.wzx4ao6l.tre, info_file:/home/rtsantos3/anaconda3/envs/picrust2/lib/python3.8/site-packages/picrust2/default_files/prokaryotic/pro_ref/pro_ref.raxml_info, extended alignment:/tmp/sepp/output._hh32wld/root/P_10/pplacer.extended.0.mgz8wigz.fasta, output:/tmp/sepp/output._hh32wld/root/P_10/pplacer.extended.0.mgz8wigz.jplace\n",
      "[16:51:09] jobs.py (line 131):     INFO: Finished pplacer Job with input: backbone_alignment_file:/tmp/sepp/output._hh32wld/root/P_10/pplacer.backbone.nwf384fa.fasta, tree_file:/tmp/sepp/output._hh32wld/root/P_10/pplacer.tree.xvp7sd1d.tre, info_file:/home/rtsantos3/anaconda3/envs/picrust2/lib/python3.8/site-packages/picrust2/default_files/prokaryotic/pro_ref/pro_ref.raxml_info, extended alignment:/tmp/sepp/output._hh32wld/root/P_10/pplacer.extended.1.acue3_bg.fasta, output:/tmp/sepp/output._hh32wld/root/P_10/pplacer.extended.1.acue3_bg.jplace\n",
      "[16:51:10] jobs.py (line 131):     INFO: Finished pplacer Job with input: backbone_alignment_file:/tmp/sepp/output._hh32wld/root/P_11/pplacer.backbone.cfbntj8v.fasta, tree_file:/tmp/sepp/output._hh32wld/root/P_11/pplacer.tree.cc_f99dp.tre, info_file:/home/rtsantos3/anaconda3/envs/picrust2/lib/python3.8/site-packages/picrust2/default_files/prokaryotic/pro_ref/pro_ref.raxml_info, extended alignment:/tmp/sepp/output._hh32wld/root/P_11/pplacer.extended.0.vzntgqle.fasta, output:/tmp/sepp/output._hh32wld/root/P_11/pplacer.extended.0.vzntgqle.jplace\n",
      "[16:51:12] jobs.py (line 131):     INFO: Finished pplacer Job with input: backbone_alignment_file:/tmp/sepp/output._hh32wld/root/P_11/pplacer.backbone.dvq4an1o.fasta, tree_file:/tmp/sepp/output._hh32wld/root/P_11/pplacer.tree.yop65nm1.tre, info_file:/home/rtsantos3/anaconda3/envs/picrust2/lib/python3.8/site-packages/picrust2/default_files/prokaryotic/pro_ref/pro_ref.raxml_info, extended alignment:/tmp/sepp/output._hh32wld/root/P_11/pplacer.extended.1.b4120bs2.fasta, output:/tmp/sepp/output._hh32wld/root/P_11/pplacer.extended.1.b4120bs2.jplace\n",
      "[16:51:13] jobs.py (line 131):     INFO: Finished pplacer Job with input: backbone_alignment_file:/tmp/sepp/output._hh32wld/root/P_11/pplacer.backbone.4rkuc_69.fasta, tree_file:/tmp/sepp/output._hh32wld/root/P_11/pplacer.tree.5zil35fd.tre, info_file:/home/rtsantos3/anaconda3/envs/picrust2/lib/python3.8/site-packages/picrust2/default_files/prokaryotic/pro_ref/pro_ref.raxml_info, extended alignment:/tmp/sepp/output._hh32wld/root/P_11/pplacer.extended.2._ekzimyb.fasta, output:/tmp/sepp/output._hh32wld/root/P_11/pplacer.extended.2._ekzimyb.jplace\n",
      "[16:51:13] jobs.py (line 131):     INFO: Finished pplacer Job with input: backbone_alignment_file:/tmp/sepp/output._hh32wld/root/P_12/pplacer.backbone.wnkc6xof.fasta, tree_file:/tmp/sepp/output._hh32wld/root/P_12/pplacer.tree.j0far_rf.tre, info_file:/home/rtsantos3/anaconda3/envs/picrust2/lib/python3.8/site-packages/picrust2/default_files/prokaryotic/pro_ref/pro_ref.raxml_info, extended alignment:/tmp/sepp/output._hh32wld/root/P_12/pplacer.extended.0.utxzquko.fasta, output:/tmp/sepp/output._hh32wld/root/P_12/pplacer.extended.0.utxzquko.jplace\n",
      "[16:51:15] jobs.py (line 131):     INFO: Finished pplacer Job with input: backbone_alignment_file:/tmp/sepp/output._hh32wld/root/P_12/pplacer.backbone.gsz0hwl2.fasta, tree_file:/tmp/sepp/output._hh32wld/root/P_12/pplacer.tree.eosxfb55.tre, info_file:/home/rtsantos3/anaconda3/envs/picrust2/lib/python3.8/site-packages/picrust2/default_files/prokaryotic/pro_ref/pro_ref.raxml_info, extended alignment:/tmp/sepp/output._hh32wld/root/P_12/pplacer.extended.1.7nrtty0y.fasta, output:/tmp/sepp/output._hh32wld/root/P_12/pplacer.extended.1.7nrtty0y.jplace\n",
      "[16:51:20] jobs.py (line 131):     INFO: Finished jsonmerger Job with input: input:pipe output:/home/rtsantos3/bioinfo_pipelines/picrust2-2.4.2/data/Kiara-Qiime2/picrust2-strat/out/intermediate/place_seqs/sepp_out/output_placement.json\n",
      "[16:51:20] algorithm.py (line 195):     INFO: Current execution Finished in 55 seconds\n",
      "[16:51:20] algorithm.py (line 197):     INFO: All checkpointed executions Finished in 55 cumulative time\n",
      "\n",
      "gappa examine graft --jplace-path picrust2-strat/out/intermediate/place_seqs/sepp_out/output_placement.json --fully-resolve --out-dir picrust2-strat/out/intermediate/place_seqs/sepp_out\n",
      "\n",
      "mv picrust2-strat/out/intermediate/place_seqs/sepp_out/output_placement.newick picrust2-strat/out/out.tre\n",
      "\n",
      "Finished placing sequences on output tree: picrust2-strat/out/out.tre\n",
      "hsp.py --tree picrust2-strat/out/out.tre --output picrust2-strat/out/marker_predicted_and_nsti.tsv.gz --observed_trait_table /home/rtsantos3/anaconda3/envs/picrust2/lib/python3.8/site-packages/picrust2/default_files/prokaryotic/16S.txt.gz --hsp_method mp --edge_exponent 0.5 --seed 100 --calculate_NSTI --processes 1 --verbose\n"
     ]
    },
    {
     "name": "stdout",
     "output_type": "stream",
     "text": [
      "\n",
      "\n",
      "\n",
      "Rscript /home/rtsantos3/anaconda3/envs/picrust2/lib/python3.8/site-packages/picrust2/Rscripts/castor_nsti.R picrust2-strat/out/out.tre /tmp/tmp3lvdfdvs/known_tips.txt /tmp/tmp3lvdfdvs/nsti_out.txt\n",
      "\n",
      "Rscript /home/rtsantos3/anaconda3/envs/picrust2/lib/python3.8/site-packages/picrust2/Rscripts/castor_hsp.R picrust2-strat/out/out.tre /tmp/tmpwjo8uodl/subset_tab_0 mp 0.5 FALSE FALSE /tmp/tmp6cu6bsrj/predicted_counts.txt /tmp/tmp6cu6bsrj/predicted_ci.txt 100\n",
      "\n",
      "\n",
      "hsp.py --tree picrust2-strat/out/out.tre --output picrust2-strat/out/EC_predicted.tsv.gz --observed_trait_table /home/rtsantos3/anaconda3/envs/picrust2/lib/python3.8/site-packages/picrust2/default_files/prokaryotic/ec.txt.gz --hsp_method mp --edge_exponent 0.5 --seed 100 --processes 3 --verbose\n",
      "\n",
      "\n",
      "\n",
      "\n",
      "\n",
      "\n",
      "\n",
      "Rscript /home/rtsantos3/anaconda3/envs/picrust2/lib/python3.8/site-packages/picrust2/Rscripts/castor_hsp.R picrust2-strat/out/out.tre /tmp/tmp8n4qofry/subset_tab_1 mp 0.5 FALSE FALSE /tmp/tmp9j1xno6q/predicted_counts.txt /tmp/tmp9j1xno6q/predicted_ci.txt 100\n",
      "\n",
      "Rscript /home/rtsantos3/anaconda3/envs/picrust2/lib/python3.8/site-packages/picrust2/Rscripts/castor_hsp.R picrust2-strat/out/out.tre /tmp/tmp8n4qofry/subset_tab_5 mp 0.5 FALSE FALSE /tmp/tmponi4php6/predicted_counts.txt /tmp/tmponi4php6/predicted_ci.txt 100\n",
      "\n",
      "Rscript /home/rtsantos3/anaconda3/envs/picrust2/lib/python3.8/site-packages/picrust2/Rscripts/castor_hsp.R picrust2-strat/out/out.tre /tmp/tmp8n4qofry/subset_tab_2 mp 0.5 FALSE FALSE /tmp/tmpalt92ze7/predicted_counts.txt /tmp/tmpalt92ze7/predicted_ci.txt 100\n",
      "\n",
      "Rscript /home/rtsantos3/anaconda3/envs/picrust2/lib/python3.8/site-packages/picrust2/Rscripts/castor_hsp.R picrust2-strat/out/out.tre /tmp/tmp8n4qofry/subset_tab_3 mp 0.5 FALSE FALSE /tmp/tmpgtvwfb6x/predicted_counts.txt /tmp/tmpgtvwfb6x/predicted_ci.txt 100\n",
      "\n",
      "Rscript /home/rtsantos3/anaconda3/envs/picrust2/lib/python3.8/site-packages/picrust2/Rscripts/castor_hsp.R picrust2-strat/out/out.tre /tmp/tmp8n4qofry/subset_tab_0 mp 0.5 FALSE FALSE /tmp/tmpmk9ajmzm/predicted_counts.txt /tmp/tmpmk9ajmzm/predicted_ci.txt 100\n",
      "\n",
      "Rscript /home/rtsantos3/anaconda3/envs/picrust2/lib/python3.8/site-packages/picrust2/Rscripts/castor_hsp.R picrust2-strat/out/out.tre /tmp/tmp8n4qofry/subset_tab_4 mp 0.5 FALSE FALSE /tmp/tmpstrujoc2/predicted_counts.txt /tmp/tmpstrujoc2/predicted_ci.txt 100\n",
      "\n",
      "\n",
      "hsp.py --tree picrust2-strat/out/out.tre --output picrust2-strat/out/KO_predicted.tsv.gz --observed_trait_table /home/rtsantos3/anaconda3/envs/picrust2/lib/python3.8/site-packages/picrust2/default_files/prokaryotic/ko.txt.gz --hsp_method mp --edge_exponent 0.5 --seed 100 --processes 3 --verbose\n",
      "\n",
      "\n",
      "\n",
      "\n",
      "\n",
      "\n",
      "\n",
      "\n",
      "\n",
      "\n",
      "\n",
      "\n",
      "\n",
      "\n",
      "\n",
      "\n",
      "\n",
      "\n",
      "\n",
      "\n",
      "\n",
      "\n",
      "\n",
      "Rscript /home/rtsantos3/anaconda3/envs/picrust2/lib/python3.8/site-packages/picrust2/Rscripts/castor_hsp.R picrust2-strat/out/out.tre /tmp/tmpc4o_t_hh/subset_tab_0 mp 0.5 FALSE FALSE /tmp/tmp01tjky3c/predicted_counts.txt /tmp/tmp01tjky3c/predicted_ci.txt 100\n",
      "\n",
      "Rscript /home/rtsantos3/anaconda3/envs/picrust2/lib/python3.8/site-packages/picrust2/Rscripts/castor_hsp.R picrust2-strat/out/out.tre /tmp/tmpc4o_t_hh/subset_tab_4 mp 0.5 FALSE FALSE /tmp/tmpigdyen3w/predicted_counts.txt /tmp/tmpigdyen3w/predicted_ci.txt 100\n",
      "\n",
      "Rscript /home/rtsantos3/anaconda3/envs/picrust2/lib/python3.8/site-packages/picrust2/Rscripts/castor_hsp.R picrust2-strat/out/out.tre /tmp/tmpc4o_t_hh/subset_tab_6 mp 0.5 FALSE FALSE /tmp/tmpzgeqx4n6/predicted_counts.txt /tmp/tmpzgeqx4n6/predicted_ci.txt 100\n",
      "\n",
      "Rscript /home/rtsantos3/anaconda3/envs/picrust2/lib/python3.8/site-packages/picrust2/Rscripts/castor_hsp.R picrust2-strat/out/out.tre /tmp/tmpc4o_t_hh/subset_tab_9 mp 0.5 FALSE FALSE /tmp/tmps2civtax/predicted_counts.txt /tmp/tmps2civtax/predicted_ci.txt 100\n",
      "\n",
      "Rscript /home/rtsantos3/anaconda3/envs/picrust2/lib/python3.8/site-packages/picrust2/Rscripts/castor_hsp.R picrust2-strat/out/out.tre /tmp/tmpc4o_t_hh/subset_tab_13 mp 0.5 FALSE FALSE /tmp/tmpm14m0q6c/predicted_counts.txt /tmp/tmpm14m0q6c/predicted_ci.txt 100\n",
      "\n",
      "Rscript /home/rtsantos3/anaconda3/envs/picrust2/lib/python3.8/site-packages/picrust2/Rscripts/castor_hsp.R picrust2-strat/out/out.tre /tmp/tmpc4o_t_hh/subset_tab_16 mp 0.5 FALSE FALSE /tmp/tmpjkuvteku/predicted_counts.txt /tmp/tmpjkuvteku/predicted_ci.txt 100\n",
      "\n",
      "Rscript /home/rtsantos3/anaconda3/envs/picrust2/lib/python3.8/site-packages/picrust2/Rscripts/castor_hsp.R picrust2-strat/out/out.tre /tmp/tmpc4o_t_hh/subset_tab_19 mp 0.5 FALSE FALSE /tmp/tmplahijz2q/predicted_counts.txt /tmp/tmplahijz2q/predicted_ci.txt 100\n",
      "\n",
      "Rscript /home/rtsantos3/anaconda3/envs/picrust2/lib/python3.8/site-packages/picrust2/Rscripts/castor_hsp.R picrust2-strat/out/out.tre /tmp/tmpc4o_t_hh/subset_tab_1 mp 0.5 FALSE FALSE /tmp/tmpzv4mxkyu/predicted_counts.txt /tmp/tmpzv4mxkyu/predicted_ci.txt 100\n",
      "\n",
      "Rscript /home/rtsantos3/anaconda3/envs/picrust2/lib/python3.8/site-packages/picrust2/Rscripts/castor_hsp.R picrust2-strat/out/out.tre /tmp/tmpc4o_t_hh/subset_tab_3 mp 0.5 FALSE FALSE /tmp/tmpunb_t_no/predicted_counts.txt /tmp/tmpunb_t_no/predicted_ci.txt 100\n",
      "\n",
      "Rscript /home/rtsantos3/anaconda3/envs/picrust2/lib/python3.8/site-packages/picrust2/Rscripts/castor_hsp.R picrust2-strat/out/out.tre /tmp/tmpc4o_t_hh/subset_tab_7 mp 0.5 FALSE FALSE /tmp/tmpgviyre7q/predicted_counts.txt /tmp/tmpgviyre7q/predicted_ci.txt 100\n",
      "\n",
      "Rscript /home/rtsantos3/anaconda3/envs/picrust2/lib/python3.8/site-packages/picrust2/Rscripts/castor_hsp.R picrust2-strat/out/out.tre /tmp/tmpc4o_t_hh/subset_tab_10 mp 0.5 FALSE FALSE /tmp/tmpp82_rggi/predicted_counts.txt /tmp/tmpp82_rggi/predicted_ci.txt 100\n",
      "\n",
      "Rscript /home/rtsantos3/anaconda3/envs/picrust2/lib/python3.8/site-packages/picrust2/Rscripts/castor_hsp.R picrust2-strat/out/out.tre /tmp/tmpc4o_t_hh/subset_tab_12 mp 0.5 FALSE FALSE /tmp/tmpjopj8klz/predicted_counts.txt /tmp/tmpjopj8klz/predicted_ci.txt 100\n",
      "\n",
      "Rscript /home/rtsantos3/anaconda3/envs/picrust2/lib/python3.8/site-packages/picrust2/Rscripts/castor_hsp.R picrust2-strat/out/out.tre /tmp/tmpc4o_t_hh/subset_tab_15 mp 0.5 FALSE FALSE /tmp/tmp732fewm9/predicted_counts.txt /tmp/tmp732fewm9/predicted_ci.txt 100\n",
      "\n",
      "Rscript /home/rtsantos3/anaconda3/envs/picrust2/lib/python3.8/site-packages/picrust2/Rscripts/castor_hsp.R picrust2-strat/out/out.tre /tmp/tmpc4o_t_hh/subset_tab_18 mp 0.5 FALSE FALSE /tmp/tmpfm8jz9cd/predicted_counts.txt /tmp/tmpfm8jz9cd/predicted_ci.txt 100\n",
      "\n",
      "Rscript /home/rtsantos3/anaconda3/envs/picrust2/lib/python3.8/site-packages/picrust2/Rscripts/castor_hsp.R picrust2-strat/out/out.tre /tmp/tmpc4o_t_hh/subset_tab_21 mp 0.5 FALSE FALSE /tmp/tmp3ac7p0q4/predicted_counts.txt /tmp/tmp3ac7p0q4/predicted_ci.txt 100\n",
      "\n",
      "Rscript /home/rtsantos3/anaconda3/envs/picrust2/lib/python3.8/site-packages/picrust2/Rscripts/castor_hsp.R picrust2-strat/out/out.tre /tmp/tmpc4o_t_hh/subset_tab_2 mp 0.5 FALSE FALSE /tmp/tmpxw34hsqe/predicted_counts.txt /tmp/tmpxw34hsqe/predicted_ci.txt 100\n",
      "\n",
      "Rscript /home/rtsantos3/anaconda3/envs/picrust2/lib/python3.8/site-packages/picrust2/Rscripts/castor_hsp.R picrust2-strat/out/out.tre /tmp/tmpc4o_t_hh/subset_tab_5 mp 0.5 FALSE FALSE /tmp/tmp64153ii3/predicted_counts.txt /tmp/tmp64153ii3/predicted_ci.txt 100\n",
      "\n",
      "Rscript /home/rtsantos3/anaconda3/envs/picrust2/lib/python3.8/site-packages/picrust2/Rscripts/castor_hsp.R picrust2-strat/out/out.tre /tmp/tmpc4o_t_hh/subset_tab_8 mp 0.5 FALSE FALSE /tmp/tmp469_yxra/predicted_counts.txt /tmp/tmp469_yxra/predicted_ci.txt 100\n",
      "\n",
      "Rscript /home/rtsantos3/anaconda3/envs/picrust2/lib/python3.8/site-packages/picrust2/Rscripts/castor_hsp.R picrust2-strat/out/out.tre /tmp/tmpc4o_t_hh/subset_tab_11 mp 0.5 FALSE FALSE /tmp/tmpyl7y01cd/predicted_counts.txt /tmp/tmpyl7y01cd/predicted_ci.txt 100\n",
      "\n",
      "Rscript /home/rtsantos3/anaconda3/envs/picrust2/lib/python3.8/site-packages/picrust2/Rscripts/castor_hsp.R picrust2-strat/out/out.tre /tmp/tmpc4o_t_hh/subset_tab_14 mp 0.5 FALSE FALSE /tmp/tmplfnay8ac/predicted_counts.txt /tmp/tmplfnay8ac/predicted_ci.txt 100\n",
      "\n",
      "Rscript /home/rtsantos3/anaconda3/envs/picrust2/lib/python3.8/site-packages/picrust2/Rscripts/castor_hsp.R picrust2-strat/out/out.tre /tmp/tmpc4o_t_hh/subset_tab_17 mp 0.5 FALSE FALSE /tmp/tmpuzhfoxql/predicted_counts.txt /tmp/tmpuzhfoxql/predicted_ci.txt 100\n",
      "\n",
      "Rscript /home/rtsantos3/anaconda3/envs/picrust2/lib/python3.8/site-packages/picrust2/Rscripts/castor_hsp.R picrust2-strat/out/out.tre /tmp/tmpc4o_t_hh/subset_tab_20 mp 0.5 FALSE FALSE /tmp/tmpfg0pf2rv/predicted_counts.txt /tmp/tmpfg0pf2rv/predicted_ci.txt 100\n",
      "\n",
      "\n"
     ]
    },
    {
     "name": "stdout",
     "output_type": "stream",
     "text": [
      "Running metagenome pipeline for EC\n",
      "metagenome_pipeline.py --input picrust2-strat/feature-table.biom --function picrust2-strat/out/EC_predicted.tsv.gz --min_reads 1 --min_samples 1 --out_dir picrust2-strat/out/EC_metagenome_out --max_nsti 2.0 --marker picrust2-strat/out/marker_predicted_and_nsti.tsv.gz --strat_out\n",
      "\n",
      "All ASVs were below the max NSTI cut-off of 2.0 and so all were retained for downstream analyses.\n",
      "\n",
      "Running metagenome pipeline for KO\n",
      "metagenome_pipeline.py --input picrust2-strat/feature-table.biom --function picrust2-strat/out/KO_predicted.tsv.gz --min_reads 1 --min_samples 1 --out_dir picrust2-strat/out/KO_metagenome_out --max_nsti 2.0 --marker picrust2-strat/out/marker_predicted_and_nsti.tsv.gz --strat_out\n",
      "\n",
      "All ASVs were below the max NSTI cut-off of 2.0 and so all were retained for downstream analyses.\n",
      "\n",
      "Inferring pathways from predicted EC\n",
      "pathway_pipeline.py --input picrust2-strat/out/EC_metagenome_out/pred_metagenome_contrib.tsv.gz --out_dir picrust2-strat/out/pathways_out --map /home/rtsantos3/anaconda3/envs/picrust2/lib/python3.8/site-packages/picrust2/default_files/pathway_mapfiles/metacyc_path2rxn_struc_filt_pro.txt --intermediate picrust2-strat/out/intermediate/pathways --proc 3 --regroup_map /home/rtsantos3/anaconda3/envs/picrust2/lib/python3.8/site-packages/picrust2/default_files/pathway_mapfiles/ec_level4_to_metacyc_rxn.tsv --verbose\n",
      "\n",
      "Wrote predicted pathway abundances and coverages to picrust2-strat/out/pathways_out\n",
      "Completed PICRUSt2 pipeline in 379.18 seconds.\n"
     ]
    }
   ],
   "source": [
    "\n",
    "\n",
    "!picrust2_pipeline.py -s 'picrust2-strat/dna-sequences.fasta' \\\n",
    "                        -i 'picrust2-strat/feature-table.biom' \\\n",
    "                        -o 'picrust2-strat/out' \\\n",
    "                        -t sepp \\\n",
    "                        -p 3 \\\n",
    "                        --stratified \\\n",
    "                        --verbose \\\n",
    "                \n",
    "                        \n",
    "\n",
    "#Ok this now works, I can run it now from here"
   ]
  },
  {
   "cell_type": "code",
   "execution_count": 21,
   "id": "0c6794a4",
   "metadata": {
    "ExecuteTime": {
     "end_time": "2023-02-07T09:17:57.247328Z",
     "start_time": "2023-02-07T09:17:56.629674Z"
    }
   },
   "outputs": [],
   "source": [
    "!add_descriptions.py -i \"picrust2-strat/out/pathways_out/path_abun_unstrat.tsv.gz\" \\\n",
    "                        -m METACYC \\\n",
    "                        -o \"picrust2-strat/out/pathways_out/path_abun_unstrat.tsv.gz\"  "
   ]
  },
  {
   "cell_type": "code",
   "execution_count": 4,
   "id": "243d2621",
   "metadata": {
    "ExecuteTime": {
     "end_time": "2023-02-07T10:03:26.111612Z",
     "start_time": "2023-02-07T10:03:25.286345Z"
    }
   },
   "outputs": [],
   "source": [
    "#Insert descriptions to stratified pathway file\n",
    "#Note that I swappped the columns first before running the script so it would work\n",
    "#Apparently the original script only works \n",
    "\n",
    "!add_descriptions.py -i \"picrust2-strat/out/pathways_out/path_abun_contrib.tsv.gz\" \\\n",
    "                        -m METACYC \\\n",
    "                        -o \"picrust2-strat/out/pathways_out/path_abun_contrib.tsv.gz\"  "
   ]
  },
  {
   "cell_type": "code",
   "execution_count": 8,
   "id": "740889a9",
   "metadata": {
    "ExecuteTime": {
     "end_time": "2023-02-07T10:07:04.368161Z",
     "start_time": "2023-02-07T10:07:01.501417Z"
    }
   },
   "outputs": [],
   "source": [
    "#Insert descriptions to KO\n",
    "#Note that I swappped the columns first before running the script so it would work\n",
    "#Apparently the original script only works if the Kegg/pathway ids are present only there\n",
    "\n",
    "!add_descriptions.py -i \"picrust2-strat/out/KO_metagenome_out/pred_metagenome_unstrat.tsv.gz\"\\\n",
    "                        -m KO \\\n",
    "                        -o \"picrust2-strat/out/KO_metagenome_out/pred_metagenome_unstrat.tsv.gz\" \n",
    "\n",
    "!add_descriptions.py -i \"picrust2-strat/out/KO_metagenome_out/pred_metagenome_contrib.tsv.gz\"\\\n",
    "                        -m KO \\\n",
    "                        -o \"picrust2-strat/out/KO_metagenome_out/pred_metagenome_contrib.tsv.gz\""
   ]
  },
  {
   "cell_type": "code",
   "execution_count": 5,
   "id": "9a5a3845",
   "metadata": {
    "ExecuteTime": {
     "end_time": "2023-02-07T09:47:10.163078Z",
     "start_time": "2023-02-07T09:47:10.055630Z"
    }
   },
   "outputs": [
    {
     "name": "stdout",
     "output_type": "stream",
     "text": [
      "/bin/bash: picrust2_pipeline.py: command not found\r\n"
     ]
    }
   ],
   "source": [
    "!picrust2_pipeline.py --help"
   ]
  },
  {
   "cell_type": "code",
   "execution_count": 14,
   "id": "a8107ee0",
   "metadata": {
    "ExecuteTime": {
     "end_time": "2023-02-07T10:19:25.579032Z",
     "start_time": "2023-02-07T10:19:15.540425Z"
    }
   },
   "outputs": [],
   "source": [
    "#Had to copy the default files from the Picrust2 package to a more nearby directory\n",
    "\n",
    "!pathway_pipeline.py -i 'picrust2-strat/out/pathways_out/KO_pathway/KO_metagenome_contrib.tsv' \\\n",
    "            --out_dir 'picrust2-strat/out/KEGG_pathways_out' \\\n",
    "            --no_regroup \\\n",
    "            --map '../../picrust2/default_files/pathway_mapfiles/KEGG_pathways_to_KO.tsv' \\\n",
    "            --verbose"
   ]
  },
  {
   "cell_type": "code",
   "execution_count": 13,
   "id": "b1cf6347",
   "metadata": {
    "ExecuteTime": {
     "end_time": "2023-02-07T10:13:03.092425Z",
     "start_time": "2023-02-07T10:13:02.388087Z"
    }
   },
   "outputs": [
    {
     "name": "stdout",
     "output_type": "stream",
     "text": [
      "usage: pathway_pipeline.py [-h] -i IN_TABLE -o DIRECTORY [-m MAP]\r\n",
      "                           [--skip_minpath] [--no_gap_fill]\r\n",
      "                           [--intermediate DIR] [-p PROCESSES] [--no_regroup]\r\n",
      "                           [--coverage] [-r ID_MAP] [--per_sequence_contrib]\r\n",
      "                           [--per_sequence_abun PATH]\r\n",
      "                           [--per_sequence_function PATH] [--wide_table]\r\n",
      "                           [--verbose] [-v]\r\n",
      "pathway_pipeline.py: error: the following arguments are required: -i/--input, -o/--out_dir\r\n"
     ]
    }
   ],
   "source": [
    "!pathway_pipeline.py"
   ]
  },
  {
   "cell_type": "code",
   "execution_count": 3,
   "id": "6ebcaaa5",
   "metadata": {
    "ExecuteTime": {
     "end_time": "2023-02-07T10:35:01.727469Z",
     "start_time": "2023-02-07T10:35:01.158071Z"
    }
   },
   "outputs": [],
   "source": [
    "#Put descriptions to KO pathway abundances\n",
    "\n",
    "\n",
    "!add_descriptions.py -i 'picrust2-strat/out/KEGG_pathways_out/path_abun_unstrat.tsv.gz' \\\n",
    "                        --custom_map_table '../../picrust2/default_files/description_mapfiles/KEGG_pathways_info.tsv.gz' \\\n",
    "                        -o  'picrust2-strat/out/KEGG_pathways_out/path_abun_unstrat.tsv.gz'"
   ]
  },
  {
   "cell_type": "code",
   "execution_count": 4,
   "id": "f0f920fc",
   "metadata": {
    "ExecuteTime": {
     "end_time": "2023-02-07T10:35:04.264571Z",
     "start_time": "2023-02-07T10:35:03.670042Z"
    }
   },
   "outputs": [
    {
     "name": "stdout",
     "output_type": "stream",
     "text": [
      "Traceback (most recent call last):\r\n",
      "  File \"/home/rtsantos3/anaconda3/envs/picrust2/bin/add_descriptions.py\", line 79, in <module>\r\n",
      "    main()\r\n",
      "  File \"/home/rtsantos3/anaconda3/envs/picrust2/bin/add_descriptions.py\", line 70, in main\r\n",
      "    tab_w_descrip = add_descrip_col(inputfile=args.input, mapfile=mapfile)\r\n",
      "  File \"/home/rtsantos3/anaconda3/envs/picrust2/lib/python3.8/site-packages/picrust2/util.py\", line 485, in add_descrip_col\r\n",
      "    function_tab.insert(1, \"description\", list(map_tab[\"description\"]))\r\n",
      "  File \"/home/rtsantos3/.local/lib/python3.8/site-packages/pandas/core/frame.py\", line 4409, in insert\r\n",
      "    raise ValueError(f\"cannot insert {column}, already exists\")\r\n",
      "ValueError: cannot insert description, already exists\r\n"
     ]
    }
   ],
   "source": [
    "#Put descriptions to KO pathway abundances (Stratified)\n",
    "#I've edited the file first before \n",
    "\n",
    "\n",
    "!add_descriptions.py -i 'picrust2-strat/out/KEGG_pathways_out/path_abun_contrib.tsv.gz' \\\n",
    "                        --custom_map_table '../../picrust2/default_files/description_mapfiles/KEGG_pathways_info.tsv.gz' \\\n",
    "                        -o  'picrust2-strat/out/KEGG_pathways_out/path_abun_contrib.tsv.gz'"
   ]
  }
 ],
 "metadata": {
  "kernelspec": {
   "display_name": "Python 3 (ipykernel)",
   "language": "python",
   "name": "python3"
  },
  "language_info": {
   "codemirror_mode": {
    "name": "ipython",
    "version": 3
   },
   "file_extension": ".py",
   "mimetype": "text/x-python",
   "name": "python",
   "nbconvert_exporter": "python",
   "pygments_lexer": "ipython3",
   "version": "3.8.16"
  },
  "varInspector": {
   "cols": {
    "lenName": 16,
    "lenType": 16,
    "lenVar": 40
   },
   "kernels_config": {
    "python": {
     "delete_cmd_postfix": "",
     "delete_cmd_prefix": "del ",
     "library": "var_list.py",
     "varRefreshCmd": "print(var_dic_list())"
    },
    "r": {
     "delete_cmd_postfix": ") ",
     "delete_cmd_prefix": "rm(",
     "library": "var_list.r",
     "varRefreshCmd": "cat(var_dic_list()) "
    }
   },
   "types_to_exclude": [
    "module",
    "function",
    "builtin_function_or_method",
    "instance",
    "_Feature"
   ],
   "window_display": false
  }
 },
 "nbformat": 4,
 "nbformat_minor": 5
}
