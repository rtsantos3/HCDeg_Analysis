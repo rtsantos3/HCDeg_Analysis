{
 "cells": [
  {
   "cell_type": "code",
   "execution_count": 12,
   "id": "a4fa5fa4",
   "metadata": {
    "ExecuteTime": {
     "end_time": "2022-03-31T05:55:20.151855Z",
     "start_time": "2022-03-31T05:55:20.149809Z"
    }
   },
   "outputs": [],
   "source": [
    "import qiime2\n",
    "import os\n",
    "os.getcwd()\n",
    "#change working dir to above\n",
    "os.chdir('/home/rtsantos3/bioinfo_pipelines/picrust2-2.4.2/data/Kiara-Qiime2/')"
   ]
  },
  {
   "cell_type": "code",
   "execution_count": 6,
   "id": "a5b4f58d",
   "metadata": {},
   "outputs": [
    {
     "name": "stdout",
     "output_type": "stream",
     "text": [
      "\u001b[32mImported read-files/sample-manifest.tsv as PairedEndFastqManifestPhred33V2 to paired-end-demux.qza\u001b[0m\r\n",
      "\u001b[0m"
     ]
    }
   ],
   "source": [
    "!qiime tools import   \\\n",
    "--type 'SampleData[PairedEndSequencesWithQuality]'   \\\n",
    "--input-path 'read-files/sample-manifest.tsv'   \\\n",
    "--output-path paired-end-demux.qza   \\\n",
    "--input-format PairedEndFastqManifestPhred33V2 \\\n",
    "\n"
   ]
  },
  {
   "cell_type": "code",
   "execution_count": 8,
   "id": "f4eb0bc4",
   "metadata": {
    "code_folding": [],
    "scrolled": true
   },
   "outputs": [
    {
     "name": "stdout",
     "output_type": "stream",
     "text": [
      "Running external command line application(s). This may print messages to stdout and/or stderr.\n",
      "The command(s) being run are below. These commands cannot be manually re-run as they will depend on temporary files that no longer exist.\n",
      "\n",
      "Command: run_dada_single.R /tmp/q2-SingleLanePerSampleSingleEndFastqDirFmt-y0l7b_jb /tmp/tmp8_8_mqns/output.tsv.biom /tmp/tmp8_8_mqns/track.tsv /tmp/tmp8_8_mqns 140 0 2.0 2 Inf independent consensus 1.0 2 1000000 NULL 16\n",
      "\n",
      "R version 4.0.5 (2021-03-31) \n",
      "Loading required package: Rcpp\n",
      "DADA2: 1.18.0 / Rcpp: 1.0.7 / RcppParallel: 5.1.4 \n",
      "1) Filtering ....\n",
      "2) Learning Error Rates\n",
      "39056920 total bases in 278978 reads from 4 samples will be used for learning the error rates.\n",
      "3) Denoise samples ....\n",
      "4) Remove chimeras (method = consensus)\n",
      "5) Report read numbers through the pipeline\n",
      "6) Write output\n",
      "\u001b[32mSaved FeatureTable[Frequency] to: dada2/table.qza\u001b[0m\n",
      "\u001b[32mSaved FeatureData[Sequence] to: dada2/representative_sequences.qza\u001b[0m\n",
      "\u001b[32mSaved SampleData[DADA2Stats] to: dada2/denoising_stats.qza\u001b[0m\n",
      "\u001b[0m"
     ]
    }
   ],
   "source": [
    "#Denoising Step\n",
    "\n",
    "!qiime dada2 denoise-single \\\n",
    "    --i-demultiplexed-seqs paired-end-demux.qza \\\n",
    "    --p-trunc-len 140 \\\n",
    "    --p-n-threads 2 \\\n",
    "    --output-dir dada2 --verbose"
   ]
  },
  {
   "cell_type": "code",
   "execution_count": 20,
   "id": "a1d5a6c9",
   "metadata": {
    "ExecuteTime": {
     "end_time": "2022-03-31T09:27:48.025149Z",
     "start_time": "2022-03-31T09:24:54.435412Z"
    }
   },
   "outputs": [
    {
     "name": "stdout",
     "output_type": "stream",
     "text": [
      "/home/rtsantos3/anaconda3/envs/qiime2-2021.11/lib/python3.8/site-packages/q2_feature_classifier/classifier.py:102: UserWarning: The TaxonomicClassifier artifact that results from this method was trained using scikit-learn version 0.24.1. It cannot be used with other versions of scikit-learn. (While the classifier may complete successfully, the results will be unreliable.)\r\n",
      "  warnings.warn(warning, UserWarning)\r\n"
     ]
    }
   ],
   "source": [
    "!qiime feature-classifier fit-classifier-naive-bayes \\\n",
    "        --i-reference-reads \"../training-sets/silva-138-99-seqs.qza\" \\\n",
    "        --i-reference-taxonomy \"../training-sets/silva-138-99-tax.qza\" \\\n",
    "        --o-classifier \"TaxonomicClassifier.qza\" \\\n",
    "        --output-dir \"../training-sets/Classifier\" \\\n",
    "        --verbose "
   ]
  },
  {
   "cell_type": "code",
   "execution_count": 24,
   "id": "dbcb4152",
   "metadata": {
    "ExecuteTime": {
     "end_time": "2022-03-31T09:35:44.558946Z",
     "start_time": "2022-03-31T09:33:20.355346Z"
    }
   },
   "outputs": [
    {
     "name": "stdout",
     "output_type": "stream",
     "text": [
      "\u001b[32mSaved FeatureData[Taxonomy] to: ../taxonomy_vsearch/classification.qza\u001b[0m\n",
      "\u001b[0m"
     ]
    }
   ],
   "source": [
    "!qiime feature-classifier classify-consensus-vsearch \\\n",
    "        --i-query \"../dada2/representative_sequences.qza\" \\\n",
    "        --i-reference-reads \"../training-sets/silva-138-99-seqs.qza\" \\\n",
    "        --i-reference-taxonomy \"../training-sets/silva-138-99-tax.qza\" \\\n",
    "        --output-dir \"../taxonomy_vsearch\" "
   ]
  },
  {
   "cell_type": "code",
   "execution_count": null,
   "id": "1a8f553a",
   "metadata": {},
   "outputs": [],
   "source": [
    "!qiime feature-classifier classify-sklearn --help \\\n",
    "        --i-reads \"../dada2/representative_sequences.qza\" \\\n",
    "        --i-classifier \"../training-sets/\""
   ]
  },
  {
   "cell_type": "code",
   "execution_count": 26,
   "id": "20275c43",
   "metadata": {
    "ExecuteTime": {
     "end_time": "2022-03-31T09:36:38.387740Z",
     "start_time": "2022-03-31T09:36:32.473861Z"
    }
   },
   "outputs": [
    {
     "name": "stdout",
     "output_type": "stream",
     "text": [
      "\u001b[32mExported ../taxonomy_vsearch/classification.qza as TSVTaxonomyDirectoryFormat to directory ../taxonomy_vsearch/\u001b[0m\r\n",
      "\u001b[0m"
     ]
    }
   ],
   "source": [
    "!qiime tools export \\\n",
    "    --input-path \"../taxonomy_vsearch/classification.qza\" \\\n",
    "    --output-path \"../taxonomy_vsearch/\""
   ]
  },
  {
   "cell_type": "code",
   "execution_count": 9,
   "id": "8da2d648",
   "metadata": {},
   "outputs": [
    {
     "name": "stdout",
     "output_type": "stream",
     "text": [
      "\u001b[32mSaved Visualization to: dada2/denoising-stats.qzv\u001b[0m\r\n",
      "\u001b[0m"
     ]
    }
   ],
   "source": [
    "!qiime metadata tabulate \\\n",
    "    --m-input-file dada2/denoising_stats.qza \\\n",
    "    --o-visualization dada2/denoising-stats.qzv"
   ]
  },
  {
   "cell_type": "code",
   "execution_count": 13,
   "id": "b948b4b9",
   "metadata": {},
   "outputs": [
    {
     "name": "stdout",
     "output_type": "stream",
     "text": [
      "\u001b[32mSaved FeatureData[AlignedSequence] to: tree/alignment.qza\u001b[0m\n",
      "\u001b[32mSaved FeatureData[AlignedSequence] to: tree/masked_alignment.qza\u001b[0m\n",
      "\u001b[32mSaved Phylogeny[Unrooted] to: tree/tree.qza\u001b[0m\n",
      "\u001b[32mSaved Phylogeny[Rooted] to: tree/rooted_tree.qza\u001b[0m\n",
      "\u001b[0m"
     ]
    }
   ],
   "source": [
    "!qiime phylogeny align-to-tree-mafft-fasttree \\\n",
    "    --i-sequences dada2/representative_sequences.qza \\\n",
    "    --output-dir tree"
   ]
  },
  {
   "cell_type": "code",
   "execution_count": 14,
   "id": "155b4d9b",
   "metadata": {},
   "outputs": [
    {
     "name": "stdout",
     "output_type": "stream",
     "text": [
      "\u001b[32mSaved Visualization to: tree/empress.qzv\u001b[0m\r\n",
      "\u001b[0m"
     ]
    }
   ],
   "source": [
    "!qiime empress tree-plot \\\n",
    "    --i-tree tree/rooted_tree.qza \\\n",
    "    --o-visualization tree/empress.qzv"
   ]
  },
  {
   "cell_type": "code",
   "execution_count": 40,
   "id": "0458f1f6",
   "metadata": {},
   "outputs": [
    {
     "name": "stdout",
     "output_type": "stream",
     "text": [
      "Usage: \u001b[94mqiime diversity core-metrics-phylogenetic\u001b[0m [OPTIONS]\r\n",
      "\r\n",
      "  Applies a collection of diversity metrics (both phylogenetic and non-\r\n",
      "  phylogenetic) to a feature table.\r\n",
      "\r\n",
      "\u001b[1mInputs\u001b[0m:\r\n",
      "  \u001b[94m\u001b[4m--i-table\u001b[0m ARTIFACT \u001b[32mFeatureTable[Frequency]\u001b[0m\r\n",
      "                          The feature table containing the samples over which\r\n",
      "                          diversity metrics should be computed.     \u001b[35m[required]\u001b[0m\r\n",
      "  \u001b[94m\u001b[4m--i-phylogeny\u001b[0m ARTIFACT  Phylogenetic tree containing tip identifiers that\r\n",
      "    \u001b[32mPhylogeny[Rooted]\u001b[0m     correspond to the feature identifiers in the table.\r\n",
      "                          This tree can contain tip ids that are not present\r\n",
      "                          in the table, but all feature ids in the table must\r\n",
      "                          be present in this tree.                  \u001b[35m[required]\u001b[0m\r\n",
      "\u001b[1mParameters\u001b[0m:\r\n",
      "  \u001b[94m\u001b[4m--p-sampling-depth\u001b[0m INTEGER\r\n",
      "    \u001b[32mRange(1, None)\u001b[0m        The total frequency that each sample should be\r\n",
      "                          rarefied to prior to computing diversity metrics.\r\n",
      "                                                                    \u001b[35m[required]\u001b[0m\r\n",
      "  \u001b[94m\u001b[4m--m-metadata-file\u001b[0m METADATA...\r\n",
      "    (multiple arguments   The sample metadata to use in the emperor plots.\r\n",
      "     will be merged)                                                \u001b[35m[required]\u001b[0m\r\n",
      "  \u001b[94m--p-n-jobs-or-threads\u001b[0m VALUE \u001b[32mInt % Range(1, None) | Str % Choices('auto')\u001b[0m\r\n",
      "                          [beta/beta-phylogenetic methods only] - The number\r\n",
      "                          of concurrent jobs or CPU threads to use in\r\n",
      "                          performing this calculation. Individual methods will\r\n",
      "                          create jobs/threads as implemented in\r\n",
      "                          q2-diversity-lib dependencies. May not exceed the\r\n",
      "                          number of available physical cores. If\r\n",
      "                          \u001b[4mn-jobs-or-threads\u001b[0m = 'auto', one thread/job will be\r\n",
      "                          created for each identified CPU core on the host.\r\n",
      "                                                                  \u001b[35m[default: 1]\u001b[0m\r\n",
      "\u001b[1mOutputs\u001b[0m:\r\n",
      "  \u001b[94m\u001b[4m--o-rarefied-table\u001b[0m ARTIFACT \u001b[32mFeatureTable[Frequency]\u001b[0m\r\n",
      "                          The resulting rarefied feature table.     \u001b[35m[required]\u001b[0m\r\n",
      "  \u001b[94m\u001b[4m--o-faith-pd-vector\u001b[0m ARTIFACT \u001b[32mSampleData[AlphaDiversity]\u001b[0m\r\n",
      "                          Vector of Faith PD values by sample.      \u001b[35m[required]\u001b[0m\r\n",
      "  \u001b[94m\u001b[4m--o-observed-features-vector\u001b[0m ARTIFACT \u001b[32mSampleData[AlphaDiversity]\u001b[0m\r\n",
      "                          Vector of Observed Features values by sample.\r\n",
      "                                                                    \u001b[35m[required]\u001b[0m\r\n",
      "  \u001b[94m\u001b[4m--o-shannon-vector\u001b[0m ARTIFACT \u001b[32mSampleData[AlphaDiversity]\u001b[0m\r\n",
      "                          Vector of Shannon diversity values by sample.\r\n",
      "                                                                    \u001b[35m[required]\u001b[0m\r\n",
      "  \u001b[94m\u001b[4m--o-evenness-vector\u001b[0m ARTIFACT \u001b[32mSampleData[AlphaDiversity]\u001b[0m\r\n",
      "                          Vector of Pielou's evenness values by sample.\r\n",
      "                                                                    \u001b[35m[required]\u001b[0m\r\n",
      "  \u001b[94m\u001b[4m--o-unweighted-unifrac-distance-matrix\u001b[0m ARTIFACT\r\n",
      "    \u001b[32mDistanceMatrix\u001b[0m        Matrix of unweighted UniFrac distances between\r\n",
      "                          pairs of samples.                         \u001b[35m[required]\u001b[0m\r\n",
      "  \u001b[94m\u001b[4m--o-weighted-unifrac-distance-matrix\u001b[0m ARTIFACT\r\n",
      "    \u001b[32mDistanceMatrix\u001b[0m        Matrix of weighted UniFrac distances between pairs\r\n",
      "                          of samples.                               \u001b[35m[required]\u001b[0m\r\n",
      "  \u001b[94m\u001b[4m--o-jaccard-distance-matrix\u001b[0m ARTIFACT\r\n",
      "    \u001b[32mDistanceMatrix\u001b[0m        Matrix of Jaccard distances between pairs of\r\n",
      "                          samples.                                  \u001b[35m[required]\u001b[0m\r\n",
      "  \u001b[94m\u001b[4m--o-bray-curtis-distance-matrix\u001b[0m ARTIFACT\r\n",
      "    \u001b[32mDistanceMatrix\u001b[0m        Matrix of Bray-Curtis distances between pairs of\r\n",
      "                          samples.                                  \u001b[35m[required]\u001b[0m\r\n",
      "  \u001b[94m\u001b[4m--o-unweighted-unifrac-pcoa-results\u001b[0m ARTIFACT\r\n",
      "    \u001b[32mPCoAResults\u001b[0m           PCoA matrix computed from unweighted UniFrac\r\n",
      "                          distances between samples.                \u001b[35m[required]\u001b[0m\r\n",
      "  \u001b[94m\u001b[4m--o-weighted-unifrac-pcoa-results\u001b[0m ARTIFACT\r\n",
      "    \u001b[32mPCoAResults\u001b[0m           PCoA matrix computed from weighted UniFrac\r\n",
      "                          distances between samples.                \u001b[35m[required]\u001b[0m\r\n",
      "  \u001b[94m\u001b[4m--o-jaccard-pcoa-results\u001b[0m ARTIFACT\r\n",
      "    \u001b[32mPCoAResults\u001b[0m           PCoA matrix computed from Jaccard distances between\r\n",
      "                          samples.                                  \u001b[35m[required]\u001b[0m\r\n",
      "  \u001b[94m\u001b[4m--o-bray-curtis-pcoa-results\u001b[0m ARTIFACT\r\n",
      "    \u001b[32mPCoAResults\u001b[0m           PCoA matrix computed from Bray-Curtis distances\r\n",
      "                          between samples.                          \u001b[35m[required]\u001b[0m\r\n",
      "  \u001b[94m\u001b[4m--o-unweighted-unifrac-emperor\u001b[0m VISUALIZATION\r\n",
      "                          Emperor plot of the PCoA matrix computed from\r\n",
      "                          unweighted UniFrac.                       \u001b[35m[required]\u001b[0m\r\n",
      "  \u001b[94m\u001b[4m--o-weighted-unifrac-emperor\u001b[0m VISUALIZATION\r\n",
      "                          Emperor plot of the PCoA matrix computed from\r\n",
      "                          weighted UniFrac.                         \u001b[35m[required]\u001b[0m\r\n",
      "  \u001b[94m\u001b[4m--o-jaccard-emperor\u001b[0m VISUALIZATION\r\n",
      "                          Emperor plot of the PCoA matrix computed from\r\n",
      "                          Jaccard.                                  \u001b[35m[required]\u001b[0m\r\n",
      "  \u001b[94m\u001b[4m--o-bray-curtis-emperor\u001b[0m VISUALIZATION\r\n",
      "                          Emperor plot of the PCoA matrix computed from\r\n",
      "                          Bray-Curtis.                              \u001b[35m[required]\u001b[0m\r\n",
      "\u001b[1mMiscellaneous\u001b[0m:\r\n",
      "  \u001b[94m--output-dir\u001b[0m PATH       Output unspecified results to a directory\r\n",
      "  \u001b[94m--verbose\u001b[0m / \u001b[94m--quiet\u001b[0m     Display verbose output to stdout and/or stderr\r\n",
      "                          during execution of this action. Or silence output\r\n",
      "                          if execution is successful (silence is golden).\r\n",
      "  \u001b[94m--example-data\u001b[0m PATH     Write example data and exit.\r\n",
      "  \u001b[94m--citations\u001b[0m             Show citations and exit.\r\n",
      "  \u001b[94m--help\u001b[0m                  Show this message and exit.\r\n",
      "\r\n",
      "\u001b[33m                  There were some problems with the command:                  \u001b[0m\r\n",
      "\u001b[31m\u001b[1m (1/18) Invalid value for '--output-dir': 'diversity' already exists, will not\r\n",
      "  overwrite.\u001b[0m\r\n",
      "\u001b[31m\u001b[1m (2/18) Missing option '--o-rarefied-table'.  (\"--output-dir\" may also be\r\n",
      "  used)\u001b[0m\r\n",
      "\u001b[31m\u001b[1m (3/18) Missing option '--o-faith-pd-vector'.  (\"--output-dir\" may also be\r\n",
      "  used)\u001b[0m\r\n",
      "\u001b[31m\u001b[1m (4/18) Missing option '--o-observed-features-vector'.  (\"--output-dir\" may\r\n",
      "  also be used)\u001b[0m\r\n",
      "\u001b[31m\u001b[1m (5/18) Missing option '--o-shannon-vector'.  (\"--output-dir\" may also be\r\n",
      "  used)\u001b[0m\r\n",
      "\u001b[31m\u001b[1m (6/18) Missing option '--o-evenness-vector'.  (\"--output-dir\" may also be\r\n",
      "  used)\u001b[0m\r\n",
      "\u001b[31m\u001b[1m (7/18) Missing option '--o-unweighted-unifrac-distance-matrix'.  (\"--output-\r\n",
      "  dir\" may also be used)\u001b[0m\r\n",
      "\u001b[31m\u001b[1m (8/18) Missing option '--o-weighted-unifrac-distance-matrix'.  (\"--output-\r\n",
      "  dir\" may also be used)\u001b[0m\r\n",
      "\u001b[31m\u001b[1m (9/18) Missing option '--o-jaccard-distance-matrix'.  (\"--output-dir\" may\r\n",
      "  also be used)\u001b[0m\r\n",
      "\u001b[31m\u001b[1m (10/18) Missing option '--o-bray-curtis-distance-matrix'.  (\"--output-dir\"\r\n",
      "  may also be used)\u001b[0m\r\n",
      "\u001b[31m\u001b[1m (11/18) Missing option '--o-unweighted-unifrac-pcoa-results'.  (\"--output-\r\n",
      "  dir\" may also be used)\u001b[0m\r\n",
      "\u001b[31m\u001b[1m (12/18) Missing option '--o-weighted-unifrac-pcoa-results'.  (\"--output-dir\"\r\n",
      "  may also be used)\u001b[0m\r\n",
      "\u001b[31m\u001b[1m (13/18) Missing option '--o-jaccard-pcoa-results'.  (\"--output-dir\" may also\r\n",
      "  be used)\u001b[0m\r\n",
      "\u001b[31m\u001b[1m (14/18) Missing option '--o-bray-curtis-pcoa-results'.  (\"--output-dir\" may\r\n",
      "  also be used)\u001b[0m\r\n",
      "\u001b[31m\u001b[1m (15/18) Missing option '--o-unweighted-unifrac-emperor'.  (\"--output-dir\" may\r\n",
      "  also be used)\u001b[0m\r\n",
      "\u001b[31m\u001b[1m (16/18) Missing option '--o-weighted-unifrac-emperor'.  (\"--output-dir\" may\r\n",
      "  also be used)\u001b[0m\r\n",
      "\u001b[31m\u001b[1m (17/18) Missing option '--o-jaccard-emperor'.  (\"--output-dir\" may also be\r\n",
      "  used)\u001b[0m\r\n",
      "\u001b[31m\u001b[1m (18/18) Missing option '--o-bray-curtis-emperor'.  (\"--output-dir\" may also\r\n",
      "  be used)\u001b[0m\r\n",
      "\u001b[0m"
     ]
    }
   ],
   "source": [
    "#Alpha Diversity stat\n",
    "\n",
    "!qiime diversity core-metrics-phylogenetic \\\n",
    "    --i-table dada2/table.qza \\\n",
    "    --i-phylogeny tree/rooted_tree.qza \\\n",
    "    --p-sampling-depth 10000 \\\n",
    "    --m-metadata-file 'read-files/metadata.tsv' \\\n",
    "    --output-dir diversity"
   ]
  },
  {
   "cell_type": "code",
   "execution_count": 26,
   "id": "e1300d45",
   "metadata": {},
   "outputs": [
    {
     "name": "stdout",
     "output_type": "stream",
     "text": [
      "\u001b[32mSaved Visualization to: diversity/alpha_groups.qzv\u001b[0m\r\n",
      "\u001b[0m"
     ]
    }
   ],
   "source": [
    "!qiime diversity alpha-group-significance \\\n",
    "    --i-alpha-diversity diversity/shannon_vector.qza \\\n",
    "    --m-metadata-file 'read-files/metadata.tsv' \\\n",
    "    --o-visualization diversity/alpha_groups.qzv"
   ]
  },
  {
   "cell_type": "code",
   "execution_count": 39,
   "id": "215a7f10",
   "metadata": {},
   "outputs": [
    {
     "name": "stdout",
     "output_type": "stream",
     "text": [
      "\u001b[32mSaved Visualization to: diversity/permanova.qzv\u001b[0m\r\n",
      "\u001b[0m"
     ]
    }
   ],
   "source": [
    "#Permanova via Adonis addon\n",
    "\n",
    "!qiime diversity adonis \\\n",
    "    --i-distance-matrix diversity/weighted_unifrac_distance_matrix.qza \\\n",
    "    --m-metadata-file read-files/metadata.tsv \\\n",
    "    --p-formula \"treatment\" \\\n",
    "    --p-n-jobs 2 \\\n",
    "    --o-visualization diversity/permanova.qzv"
   ]
  },
  {
   "cell_type": "code",
   "execution_count": 26,
   "id": "5e73fbdf",
   "metadata": {
    "ExecuteTime": {
     "end_time": "2022-03-26T02:57:46.845435Z",
     "start_time": "2022-03-26T02:54:55.589369Z"
    }
   },
   "outputs": [
    {
     "name": "stdout",
     "output_type": "stream",
     "text": [
      "Warning - 1 input sequences aligned poorly to reference sequences (--min_align option specified a minimum proportion of 0.8 aligning to reference sequences). These input sequences will not be placed and will be excluded from downstream steps.\n",
      "\n",
      "This is the set of poorly aligned input sequences to be excluded: 7e879359d8a9e9b3c08b121533609d54\n",
      "\n",
      "\n",
      "\n",
      "\n",
      "\n",
      "All ASVs were below the max NSTI cut-off of 2.0 and so all were retained for downstream analyses.\n",
      "\n",
      "All ASVs were below the max NSTI cut-off of 2.0 and so all were retained for downstream analyses.\n",
      "\n",
      "\n",
      "\u001b[32mSaved FeatureTable[Frequency] to: q2-picrust2/ko_metagenome.qza\u001b[0m\n",
      "\u001b[32mSaved FeatureTable[Frequency] to: q2-picrust2/ec_metagenome.qza\u001b[0m\n",
      "\u001b[32mSaved FeatureTable[Frequency] to: q2-picrust2/pathway_abundance.qza\u001b[0m\n",
      "\u001b[0m"
     ]
    }
   ],
   "source": [
    "#Running Picrust2 module on ASVs obtained as well as on the representative sequences\n",
    "\n",
    "!qiime picrust2 full-pipeline\\\n",
    "    --i-table dada2/table.qza \\\n",
    "    --i-seq dada2/representative_sequences.qza\\\n",
    "    --output-dir q2-picrust2 \\\n",
    "    --p-placement-tool sepp \\\n",
    "    --p-threads 6 \\\n",
    "    --p-hsp-method pic \\\n",
    "    --p-max-nsti 2 \\\n",
    "    --verbose"
   ]
  },
  {
   "cell_type": "code",
   "execution_count": 27,
   "id": "c40a6012",
   "metadata": {
    "ExecuteTime": {
     "end_time": "2022-03-26T02:59:15.120928Z",
     "start_time": "2022-03-26T02:59:06.969069Z"
    }
   },
   "outputs": [
    {
     "name": "stdout",
     "output_type": "stream",
     "text": [
      "\u001b[32mSaved Visualization to: q2-picrust2/pathway_abundance.qzv\u001b[0m\r\n",
      "\u001b[0m"
     ]
    }
   ],
   "source": [
    "#Generate picrust2 feature table\n",
    "!qiime feature-table summarize \\\n",
    "    --i-table q2-picrust2/pathway_abundance.qza \\\n",
    "    --o-visualization q2-picrust2/pathway_abundance.qzv "
   ]
  },
  {
   "cell_type": "code",
   "execution_count": 28,
   "id": "2470a734",
   "metadata": {
    "ExecuteTime": {
     "end_time": "2022-03-26T03:00:11.746725Z",
     "start_time": "2022-03-26T03:00:06.024486Z"
    }
   },
   "outputs": [
    {
     "name": "stdout",
     "output_type": "stream",
     "text": [
      "\u001b[32mExported q2-picrust2/pathway_abundance.qza as BIOMV210DirFmt to directory pathabun_exported\u001b[0m\r\n",
      "\u001b[0m"
     ]
    }
   ],
   "source": [
    "#Export pathway tables to biom format\n",
    "\n",
    "!qiime tools export \\\n",
    "    --input-path q2-picrust2/pathway_abundance.qza \\\n",
    "    --output-path pathabun_exported \n",
    "\n",
    "\n"
   ]
  },
  {
   "cell_type": "code",
   "execution_count": 7,
   "id": "85343583",
   "metadata": {
    "ExecuteTime": {
     "end_time": "2022-03-30T08:05:42.305652Z",
     "start_time": "2022-03-30T08:05:35.304930Z"
    }
   },
   "outputs": [
    {
     "name": "stdout",
     "output_type": "stream",
     "text": [
      "\u001b[32mExported q2-picrust2/ko_metagenome.qza as BIOMV210DirFmt to directory ko_metagenome\u001b[0m\n",
      "\u001b[0m"
     ]
    }
   ],
   "source": [
    "#Export KO table to biom format\n",
    "\n",
    "!qiime tools export \\\n",
    "    --input-path q2-picrust2/ko_metagenome.qza \\\n",
    "    --output-path ko_metagenome\n",
    "\n",
    "!biom convert \\\n",
    "    -i ko_metagenome/ko-feature-table.biom \\\n",
    "    -o ko_metagenome/ko-feature-table.biom.tsv \\\n",
    "    --to-tsv"
   ]
  },
  {
   "cell_type": "code",
   "execution_count": 6,
   "id": "50811f7c",
   "metadata": {
    "ExecuteTime": {
     "end_time": "2022-03-30T08:04:53.967325Z",
     "start_time": "2022-03-30T08:04:47.303059Z"
    }
   },
   "outputs": [
    {
     "name": "stdout",
     "output_type": "stream",
     "text": [
      "\u001b[32mExported q2-picrust2/ec_metagenome.qza as BIOMV210DirFmt to directory ec_metagenome\u001b[0m\r\n",
      "\u001b[0m"
     ]
    }
   ],
   "source": [
    "#Export EC table to biom format\n",
    "\n",
    "!qiime tools export \\\n",
    "    --input-path q2-picrust2/ec_metagenome.qza \\\n",
    "    --output-path ec_metagenome\n",
    "\n",
    "!biom convert \\\n",
    "    -i ec_metagenome/ec-feature-table.biom \\\n",
    "    -o ec_metagenome/ec-feature-table.biom.tsv \\\n",
    "    --to-tsv"
   ]
  },
  {
   "cell_type": "code",
   "execution_count": 29,
   "id": "01261c2c",
   "metadata": {
    "ExecuteTime": {
     "end_time": "2022-03-26T03:00:47.082599Z",
     "start_time": "2022-03-26T03:00:46.537327Z"
    }
   },
   "outputs": [],
   "source": [
    "!biom convert \\\n",
    "    -i pathabun_exported/feature-table.biom \\\n",
    "    -o pathabun_exported/feature-table.biom.tsv \\\n",
    "    --to-tsv"
   ]
  },
  {
   "cell_type": "code",
   "execution_count": 5,
   "id": "196af2f9",
   "metadata": {
    "ExecuteTime": {
     "end_time": "2022-03-31T05:12:35.991180Z",
     "start_time": "2022-03-31T05:12:24.492130Z"
    }
   },
   "outputs": [
    {
     "name": "stdout",
     "output_type": "stream",
     "text": [
      "\u001b[32mExported dada2/table.qza as BIOMV210DirFmt to directory Stratified-pipeline/\u001b[0m\n",
      "\u001b[0m\u001b[32mExported dada2/representative_sequences.qza as DNASequencesDirectoryFormat to directory Stratified-pipeline/rep_seqs.fasta\u001b[0m\n",
      "\u001b[0m"
     ]
    }
   ],
   "source": [
    "#Convert DADA2 output to fasta and tsv, respectively\n",
    "\n",
    "!qiime tools export \\\n",
    "    --input-path dada2/table.qza \\\n",
    "    --output-path Stratified-pipeline/\n",
    "\n",
    "!qiime tools export \\\n",
    "    --input-path dada2/representative_sequences.qza \\\n",
    "    --output-path Stratified-pipeline/rep_seqs.fasta\n"
   ]
  }
 ],
 "metadata": {
  "kernelspec": {
   "display_name": "Python 3 (ipykernel)",
   "language": "python",
   "name": "python3"
  },
  "language_info": {
   "codemirror_mode": {
    "name": "ipython",
    "version": 3
   },
   "file_extension": ".py",
   "mimetype": "text/x-python",
   "name": "python",
   "nbconvert_exporter": "python",
   "pygments_lexer": "ipython3",
   "version": "3.8.10"
  },
  "varInspector": {
   "cols": {
    "lenName": 16,
    "lenType": 16,
    "lenVar": 40
   },
   "kernels_config": {
    "python": {
     "delete_cmd_postfix": "",
     "delete_cmd_prefix": "del ",
     "library": "var_list.py",
     "varRefreshCmd": "print(var_dic_list())"
    },
    "r": {
     "delete_cmd_postfix": ") ",
     "delete_cmd_prefix": "rm(",
     "library": "var_list.r",
     "varRefreshCmd": "cat(var_dic_list()) "
    }
   },
   "types_to_exclude": [
    "module",
    "function",
    "builtin_function_or_method",
    "instance",
    "_Feature"
   ],
   "window_display": false
  }
 },
 "nbformat": 4,
 "nbformat_minor": 5
}
