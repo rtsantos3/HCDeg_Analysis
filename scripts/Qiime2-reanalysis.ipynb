{
 "cells": [
  {
   "cell_type": "code",
   "execution_count": 7,
   "id": "a4fa5fa4",
   "metadata": {
    "ExecuteTime": {
     "end_time": "2022-04-14T23:31:32.513635Z",
     "start_time": "2022-04-14T23:31:32.511472Z"
    }
   },
   "outputs": [],
   "source": [
    "import qiime2\n",
    "import os\n",
    "os.getcwd()\n",
    "#change working dir to above\n",
    "os.chdir('/home/rtsantos3/bioinfo_pipelines/picrust2-2.4.2/data/Kiara-Qiime2/')"
   ]
  },
  {
   "cell_type": "code",
   "execution_count": 6,
   "id": "a5b4f58d",
   "metadata": {},
   "outputs": [
    {
     "name": "stdout",
     "output_type": "stream",
     "text": [
      "\u001b[32mImported read-files/sample-manifest.tsv as PairedEndFastqManifestPhred33V2 to paired-end-demux.qza\u001b[0m\r\n",
      "\u001b[0m"
     ]
    }
   ],
   "source": [
    "!qiime tools import   \\\n",
    "--type 'SampleData[PairedEndSequencesWithQuality]'   \\\n",
    "--input-path 'read-files/sample-manifest.tsv'   \\\n",
    "--output-path paired-end-demux.qza   \\\n",
    "--input-format PairedEndFastqManifestPhred33V2 \\\n",
    "\n"
   ]
  },
  {
   "cell_type": "code",
   "execution_count": 8,
   "id": "f4eb0bc4",
   "metadata": {
    "code_folding": [],
    "scrolled": true
   },
   "outputs": [
    {
     "name": "stdout",
     "output_type": "stream",
     "text": [
      "Running external command line application(s). This may print messages to stdout and/or stderr.\n",
      "The command(s) being run are below. These commands cannot be manually re-run as they will depend on temporary files that no longer exist.\n",
      "\n",
      "Command: run_dada_single.R /tmp/q2-SingleLanePerSampleSingleEndFastqDirFmt-y0l7b_jb /tmp/tmp8_8_mqns/output.tsv.biom /tmp/tmp8_8_mqns/track.tsv /tmp/tmp8_8_mqns 140 0 2.0 2 Inf independent consensus 1.0 2 1000000 NULL 16\n",
      "\n",
      "R version 4.0.5 (2021-03-31) \n",
      "Loading required package: Rcpp\n",
      "DADA2: 1.18.0 / Rcpp: 1.0.7 / RcppParallel: 5.1.4 \n",
      "1) Filtering ....\n",
      "2) Learning Error Rates\n",
      "39056920 total bases in 278978 reads from 4 samples will be used for learning the error rates.\n",
      "3) Denoise samples ....\n",
      "4) Remove chimeras (method = consensus)\n",
      "5) Report read numbers through the pipeline\n",
      "6) Write output\n",
      "\u001b[32mSaved FeatureTable[Frequency] to: dada2/table.qza\u001b[0m\n",
      "\u001b[32mSaved FeatureData[Sequence] to: dada2/representative_sequences.qza\u001b[0m\n",
      "\u001b[32mSaved SampleData[DADA2Stats] to: dada2/denoising_stats.qza\u001b[0m\n",
      "\u001b[0m"
     ]
    }
   ],
   "source": [
    "#Denoising Step\n",
    "\n",
    "!qiime dada2 denoise-single \\\n",
    "    --i-demultiplexed-seqs paired-end-demux.qza \\\n",
    "    --p-trunc-len 140 \\\n",
    "    --p-n-threads 2 \\\n",
    "    --output-dir dada2 --verbose"
   ]
  },
  {
   "cell_type": "code",
   "execution_count": 20,
   "id": "a1d5a6c9",
   "metadata": {
    "ExecuteTime": {
     "end_time": "2022-03-31T09:27:48.025149Z",
     "start_time": "2022-03-31T09:24:54.435412Z"
    }
   },
   "outputs": [
    {
     "name": "stdout",
     "output_type": "stream",
     "text": [
      "/home/rtsantos3/anaconda3/envs/qiime2-2021.11/lib/python3.8/site-packages/q2_feature_classifier/classifier.py:102: UserWarning: The TaxonomicClassifier artifact that results from this method was trained using scikit-learn version 0.24.1. It cannot be used with other versions of scikit-learn. (While the classifier may complete successfully, the results will be unreliable.)\r\n",
      "  warnings.warn(warning, UserWarning)\r\n"
     ]
    }
   ],
   "source": [
    "!qiime feature-classifier fit-classifier-naive-bayes \\\n",
    "        --i-reference-reads \"../training-sets/silva-138-99-seqs.qza\" \\\n",
    "        --i-reference-taxonomy \"../training-sets/silva-138-99-tax.qza\" \\\n",
    "        --o-classifier \"TaxonomicClassifier.qza\" \\\n",
    "        --output-dir \"../training-sets/Classifier\" \\\n",
    "        --verbose "
   ]
  },
  {
   "cell_type": "code",
   "execution_count": 24,
   "id": "dbcb4152",
   "metadata": {
    "ExecuteTime": {
     "end_time": "2022-03-31T09:35:44.558946Z",
     "start_time": "2022-03-31T09:33:20.355346Z"
    }
   },
   "outputs": [
    {
     "name": "stdout",
     "output_type": "stream",
     "text": [
      "\u001b[32mSaved FeatureData[Taxonomy] to: ../taxonomy_vsearch/classification.qza\u001b[0m\n",
      "\u001b[0m"
     ]
    }
   ],
   "source": [
    "!qiime feature-classifier classify-consensus-vsearch \\\n",
    "        --i-query \"../dada2/representative_sequences.qza\" \\\n",
    "        --i-reference-reads \"../training-sets/silva-138-99-seqs.qza\" \\\n",
    "        --i-reference-taxonomy \"../training-sets/silva-138-99-tax.qza\" \\\n",
    "        --output-dir \"../taxonomy_vsearch\" "
   ]
  },
  {
   "cell_type": "code",
   "execution_count": null,
   "id": "1a8f553a",
   "metadata": {},
   "outputs": [],
   "source": [
    "!qiime feature-classifier classify-sklearn --help \\\n",
    "        --i-reads \"../dada2/representative_sequences.qza\" \\\n",
    "        --i-classifier \"../training-sets/\""
   ]
  },
  {
   "cell_type": "code",
   "execution_count": 26,
   "id": "20275c43",
   "metadata": {
    "ExecuteTime": {
     "end_time": "2022-03-31T09:36:38.387740Z",
     "start_time": "2022-03-31T09:36:32.473861Z"
    }
   },
   "outputs": [
    {
     "name": "stdout",
     "output_type": "stream",
     "text": [
      "\u001b[32mExported ../taxonomy_vsearch/classification.qza as TSVTaxonomyDirectoryFormat to directory ../taxonomy_vsearch/\u001b[0m\r\n",
      "\u001b[0m"
     ]
    }
   ],
   "source": [
    "!qiime tools export \\\n",
    "    --input-path \"../taxonomy_vsearch/classification.qza\" \\\n",
    "    --output-path \"../taxonomy_vsearch/\""
   ]
  },
  {
   "cell_type": "code",
   "execution_count": 9,
   "id": "8da2d648",
   "metadata": {},
   "outputs": [
    {
     "name": "stdout",
     "output_type": "stream",
     "text": [
      "\u001b[32mSaved Visualization to: dada2/denoising-stats.qzv\u001b[0m\r\n",
      "\u001b[0m"
     ]
    }
   ],
   "source": [
    "!qiime metadata tabulate \\\n",
    "    --m-input-file dada2/denoising_stats.qza \\\n",
    "    --o-visualization dada2/denoising-stats.qzv"
   ]
  },
  {
   "cell_type": "code",
   "execution_count": 13,
   "id": "b948b4b9",
   "metadata": {},
   "outputs": [
    {
     "name": "stdout",
     "output_type": "stream",
     "text": [
      "\u001b[32mSaved FeatureData[AlignedSequence] to: tree/alignment.qza\u001b[0m\n",
      "\u001b[32mSaved FeatureData[AlignedSequence] to: tree/masked_alignment.qza\u001b[0m\n",
      "\u001b[32mSaved Phylogeny[Unrooted] to: tree/tree.qza\u001b[0m\n",
      "\u001b[32mSaved Phylogeny[Rooted] to: tree/rooted_tree.qza\u001b[0m\n",
      "\u001b[0m"
     ]
    }
   ],
   "source": [
    "!qiime phylogeny align-to-tree-mafft-fasttree \\\n",
    "    --i-sequences dada2/representative_sequences.qza \\\n",
    "    --output-dir tree"
   ]
  },
  {
   "cell_type": "code",
   "execution_count": 9,
   "id": "fcdba252",
   "metadata": {
    "ExecuteTime": {
     "end_time": "2022-04-14T23:33:06.938934Z",
     "start_time": "2022-04-14T23:33:00.638844Z"
    }
   },
   "outputs": [
    {
     "name": "stdout",
     "output_type": "stream",
     "text": [
      "\u001b[32mSaved FeatureTable[Frequency] to: ./dada2/no_eukaryotes_filtered_table.qza\u001b[0m\n",
      "\u001b[0m"
     ]
    }
   ],
   "source": [
    "#This code block is to filter out any Eukaryotic sequences from the feature table\n",
    "!qiime taxa filter-table \\\n",
    "  --i-table './dada2/table.qza' \\\n",
    "  --i-taxonomy './taxonomy_vsearch/classification.qza' \\\n",
    "  --p-mode exact \\\n",
    "  --p-exclude \"d__Eukaryota; p__Ascomycota; c__Dothideomycetes; o__Capnodiales; f__Mycosphaerellaceae\" \\\n",
    "  --o-filtered-table './dada2/no_eukaryotes_filtered_table.qza'\n",
    "\n"
   ]
  },
  {
   "cell_type": "code",
   "execution_count": 10,
   "id": "2ac323ec",
   "metadata": {
    "ExecuteTime": {
     "end_time": "2022-04-14T23:33:14.099703Z",
     "start_time": "2022-04-14T23:33:07.986046Z"
    }
   },
   "outputs": [
    {
     "name": "stdout",
     "output_type": "stream",
     "text": [
      "\u001b[32mSaved Visualization to: ./plots/qiime_taxa_barplot/visualization.qzv\u001b[0m\r\n",
      "\u001b[0m"
     ]
    }
   ],
   "source": [
    "!qiime taxa barplot  \\\n",
    "    --i-table './dada2/no_eukaryotes_filtered_table.qza' \\\n",
    "    --i-taxonomy './taxonomy_vsearch/classification.qza' \\\n",
    "    --m-metadata-file './read-files/metadata.tsv'\\\n",
    "    --o-visualization './plots/qiime_taxa_barplot/visualization' \\\n",
    "    --verbose "
   ]
  },
  {
   "cell_type": "markdown",
   "id": "422b5cf5",
   "metadata": {},
   "source": [
    "These code-blocks below is to compute both the Alpha and Beta Rarefaction curves as well as other diversity stats using the filtered  table"
   ]
  },
  {
   "cell_type": "code",
   "execution_count": 11,
   "id": "5254c20c",
   "metadata": {
    "ExecuteTime": {
     "end_time": "2022-04-14T23:33:22.604209Z",
     "start_time": "2022-04-14T23:33:14.697939Z"
    }
   },
   "outputs": [
    {
     "name": "stdout",
     "output_type": "stream",
     "text": [
      "\u001b[32mSaved FeatureTable[Frequency] to: diversity/rarefied_table.qza\u001b[0m\n",
      "\u001b[32mSaved SampleData[AlphaDiversity] to: diversity/faith_pd_vector.qza\u001b[0m\n",
      "\u001b[32mSaved SampleData[AlphaDiversity] to: diversity/observed_features_vector.qza\u001b[0m\n",
      "\u001b[32mSaved SampleData[AlphaDiversity] to: diversity/shannon_vector.qza\u001b[0m\n",
      "\u001b[32mSaved SampleData[AlphaDiversity] to: diversity/evenness_vector.qza\u001b[0m\n",
      "\u001b[32mSaved DistanceMatrix to: diversity/unweighted_unifrac_distance_matrix.qza\u001b[0m\n",
      "\u001b[32mSaved DistanceMatrix to: diversity/weighted_unifrac_distance_matrix.qza\u001b[0m\n",
      "\u001b[32mSaved DistanceMatrix to: diversity/jaccard_distance_matrix.qza\u001b[0m\n",
      "\u001b[32mSaved DistanceMatrix to: diversity/bray_curtis_distance_matrix.qza\u001b[0m\n",
      "\u001b[32mSaved PCoAResults to: diversity/unweighted_unifrac_pcoa_results.qza\u001b[0m\n",
      "\u001b[32mSaved PCoAResults to: diversity/weighted_unifrac_pcoa_results.qza\u001b[0m\n",
      "\u001b[32mSaved PCoAResults to: diversity/jaccard_pcoa_results.qza\u001b[0m\n",
      "\u001b[32mSaved PCoAResults to: diversity/bray_curtis_pcoa_results.qza\u001b[0m\n",
      "\u001b[32mSaved Visualization to: diversity/unweighted_unifrac_emperor.qzv\u001b[0m\n",
      "\u001b[32mSaved Visualization to: diversity/weighted_unifrac_emperor.qzv\u001b[0m\n",
      "\u001b[32mSaved Visualization to: diversity/jaccard_emperor.qzv\u001b[0m\n",
      "\u001b[32mSaved Visualization to: diversity/bray_curtis_emperor.qzv\u001b[0m\n",
      "\u001b[0m"
     ]
    }
   ],
   "source": [
    "#Alpha Diversity stat\n",
    "\n",
    "!qiime diversity core-metrics-phylogenetic \\\n",
    "    --i-table './dada2/no_eukaryotes_filtered_table.qza' \\\n",
    "    --i-phylogeny './tree/rooted_tree.qza' \\\n",
    "    --p-sampling-depth 10000 \\\n",
    "    --m-metadata-file './read-files/metadata.tsv' \\\n",
    "    --output-dir diversity"
   ]
  },
  {
   "cell_type": "code",
   "execution_count": 12,
   "id": "8d2ed409",
   "metadata": {
    "ExecuteTime": {
     "end_time": "2022-04-14T23:33:55.347821Z",
     "start_time": "2022-04-14T23:33:22.934265Z"
    }
   },
   "outputs": [
    {
     "name": "stdout",
     "output_type": "stream",
     "text": [
      "\u001b[32mSaved Visualization to: ./diversity/alpha-rarefaction/visualization.qzv\u001b[0m\r\n",
      "\u001b[0m"
     ]
    }
   ],
   "source": [
    "!qiime diversity alpha-rarefaction \\\n",
    "    --i-table './dada2/no_eukaryotes_filtered_table.qza' \\\n",
    "    --i-phylogeny './tree/rooted_tree.qza' \\\n",
    "    --p-max-depth 4970 \\\n",
    "    --p-metrics 'shannon' 'fisher_alpha' 'chao1' 'goods_coverage' 'simpson_e' 'observed_features' \\\n",
    "    --m-metadata-file './read-files/metadata.tsv' \\\n",
    "    --output-dir './diversity/alpha-rarefaction/' \\\n",
    "    --verbose"
   ]
  },
  {
   "cell_type": "code",
   "execution_count": 13,
   "id": "b1457135",
   "metadata": {
    "ExecuteTime": {
     "end_time": "2022-04-14T23:34:01.086079Z",
     "start_time": "2022-04-14T23:33:55.359525Z"
    }
   },
   "outputs": [
    {
     "name": "stdout",
     "output_type": "stream",
     "text": [
      "Usage: \u001b[94mqiime diversity beta-rarefaction\u001b[0m [OPTIONS]\r\n",
      "\r\n",
      "  Repeatedly rarefy a feature table to compare beta diversity results within\r\n",
      "  a given rarefaction depth.\r\n",
      "\r\n",
      "  For a given beta diversity metric, this visualizer will provide: an\r\n",
      "  Emperor jackknifed PCoA plot, samples clustered by UPGMA or neighbor\r\n",
      "  joining with support calculation, and a heatmap showing the correlation\r\n",
      "  between rarefaction trials of that beta diversity metric.\r\n",
      "\r\n",
      "\u001b[1mInputs\u001b[0m:\r\n",
      "  \u001b[94m\u001b[4m--i-table\u001b[0m ARTIFACT \u001b[32mFeatureTable[Frequency]\u001b[0m\r\n",
      "                          Feature table upon which to perform beta diversity\r\n",
      "                          rarefaction analyses.                     \u001b[35m[required]\u001b[0m\r\n",
      "  \u001b[94m--i-phylogeny\u001b[0m ARTIFACT  Phylogenetic tree containing tip identifiers that\r\n",
      "    \u001b[32mPhylogeny[Rooted]\u001b[0m     correspond to the feature identifiers in the table.\r\n",
      "                          This tree can contain tip ids that are not present\r\n",
      "                          in the table, but all feature ids in the table must\r\n",
      "                          be present in this tree. [required for phylogenetic\r\n",
      "                          metrics]                                  \u001b[35m[optional]\u001b[0m\r\n",
      "\u001b[1mParameters\u001b[0m:\r\n",
      "  \u001b[94m\u001b[4m--p-metric\u001b[0m TEXT \u001b[32mChoices('weighted_unifrac', 'jensenshannon', 'jaccard',\u001b[0m\r\n",
      "    \u001b[32m'yule', 'chebyshev', 'cosine', 'rogerstanimoto', 'sokalsneath',\u001b[0m\r\n",
      "    \u001b[32m'weighted_normalized_unifrac', 'euclidean', 'canberra_adkins', 'dice',\u001b[0m\r\n",
      "    \u001b[32m'minkowski', 'canberra', 'correlation', 'generalized_unifrac', 'hamming',\u001b[0m\r\n",
      "    \u001b[32m'matching', 'kulsinski', 'seuclidean', 'braycurtis', 'sqeuclidean',\u001b[0m\r\n",
      "    \u001b[32m'aitchison', 'unweighted_unifrac', 'sokalmichener', 'cityblock',\u001b[0m\r\n",
      "    \u001b[32m'russellrao')\u001b[0m         The beta diversity metric to be computed. \u001b[35m[required]\u001b[0m\r\n",
      "  \u001b[94m\u001b[4m--p-clustering-method\u001b[0m TEXT \u001b[32mChoices('nj', 'upgma')\u001b[0m\r\n",
      "                          Samples can be clustered with neighbor joining or\r\n",
      "                          UPGMA. An arbitrary rarefaction trial will be used\r\n",
      "                          for the tree, and the remaining trials are used to\r\n",
      "                          calculate the support of the internal nodes of that\r\n",
      "                          tree.                                     \u001b[35m[required]\u001b[0m\r\n",
      "  \u001b[94m\u001b[4m--m-metadata-file\u001b[0m METADATA...\r\n",
      "    (multiple arguments   The sample metadata used for the Emperor jackknifed\r\n",
      "     will be merged)      PCoA plot.                                \u001b[35m[required]\u001b[0m\r\n",
      "  \u001b[94m\u001b[4m--p-sampling-depth\u001b[0m INTEGER\r\n",
      "    \u001b[32mRange(1, None)\u001b[0m        The total frequency that each sample should be\r\n",
      "                          rarefied to prior to computing the diversity metric.\r\n",
      "                                                                    \u001b[35m[required]\u001b[0m\r\n",
      "  \u001b[94m--p-iterations\u001b[0m INTEGER  Number of times to rarefy the feature table at a\r\n",
      "    \u001b[32mRange(2, None)\u001b[0m        given sampling depth.                  \u001b[35m[default: 10]\u001b[0m\r\n",
      "  \u001b[94m--p-correlation-method\u001b[0m TEXT \u001b[32mChoices('spearman', 'pearson')\u001b[0m\r\n",
      "                          The Mantel correlation test to be applied when\r\n",
      "                          computing correlation between beta diversity\r\n",
      "                          distance matrices.             \u001b[35m[default: 'spearman']\u001b[0m\r\n",
      "  \u001b[94m--p-color-scheme\u001b[0m TEXT \u001b[32mChoices('BrBG', 'BrBG_r', 'PRGn', 'PRGn_r', 'PiYG',\u001b[0m\r\n",
      "    \u001b[32m'PiYG_r', 'PuOr', 'PuOr_r', 'RdBu', 'RdBu_r', 'RdGy', 'RdGy_r', 'RdYlBu',\u001b[0m\r\n",
      "    \u001b[32m'RdYlBu_r', 'RdYlGn', 'RdYlGn_r')\u001b[0m\r\n",
      "                          The matplotlib color scheme to generate the heatmap\r\n",
      "                          with.                              \u001b[35m[default: 'BrBG']\u001b[0m\r\n",
      "\u001b[1mOutputs\u001b[0m:\r\n",
      "  \u001b[94m\u001b[4m--o-visualization\u001b[0m VISUALIZATION\r\n",
      "                                                                    \u001b[35m[required]\u001b[0m\r\n",
      "\u001b[1mMiscellaneous\u001b[0m:\r\n",
      "  \u001b[94m--output-dir\u001b[0m PATH       Output unspecified results to a directory\r\n",
      "  \u001b[94m--verbose\u001b[0m / \u001b[94m--quiet\u001b[0m     Display verbose output to stdout and/or stderr\r\n",
      "                          during execution of this action. Or silence output\r\n",
      "                          if execution is successful (silence is golden).\r\n",
      "  \u001b[94m--example-data\u001b[0m PATH     Write example data and exit.\r\n",
      "  \u001b[94m--citations\u001b[0m             Show citations and exit.\r\n",
      "  \u001b[94m--help\u001b[0m                  Show this message and exit.\r\n",
      "\r\n",
      "\u001b[33m                    There was a problem with the command:                     \u001b[0m\r\n",
      "\u001b[31m\u001b[1m (1/1) Invalid value for '--o-visualization': Directory './diversity/beta-\r\n",
      "  diversity' does not exist, cannot save 'visualization' into it.\u001b[0m\r\n",
      "\u001b[0m"
     ]
    }
   ],
   "source": [
    "!qiime diversity beta-rarefaction \\\n",
    "    --i-table './dada2/no_eukaryotes_filtered_table.qza' \\\n",
    "    --i-phylogeny './tree/rooted_tree.qza' \\\n",
    "    --p-metric 'weighted_unifrac' \\\n",
    "    --p-clustering-method 'upgma' \\\n",
    "    --m-metadata-file './read-files/metadata.tsv' \\\n",
    "    --p-sampling-depth 4970 \\\n",
    "    --p-correlation-method 'spearman' \\\n",
    "    --o-visualization './diversity/beta-diversity/visualization' \\\n",
    "    --verbose"
   ]
  },
  {
   "cell_type": "code",
   "execution_count": 14,
   "id": "155b4d9b",
   "metadata": {},
   "outputs": [
    {
     "name": "stdout",
     "output_type": "stream",
     "text": [
      "\u001b[32mSaved Visualization to: tree/empress.qzv\u001b[0m\r\n",
      "\u001b[0m"
     ]
    }
   ],
   "source": [
    "!qiime empress tree-plot \\\n",
    "    --i-tree tree/rooted_tree.qza \\\n",
    "    --o-visualization tree/empress.qzv"
   ]
  },
  {
   "cell_type": "code",
   "execution_count": 26,
   "id": "e1300d45",
   "metadata": {},
   "outputs": [
    {
     "name": "stdout",
     "output_type": "stream",
     "text": [
      "\u001b[32mSaved Visualization to: diversity/alpha_groups.qzv\u001b[0m\r\n",
      "\u001b[0m"
     ]
    }
   ],
   "source": [
    "!qiime diversity alpha-group-significance \\\n",
    "    --i-alpha-diversity diversity/shannon_vector.qza \\\n",
    "    --m-metadata-file 'read-files/metadata.tsv' \\\n",
    "    --o-visualization diversity/alpha_groups.qzv"
   ]
  },
  {
   "cell_type": "code",
   "execution_count": 39,
   "id": "215a7f10",
   "metadata": {},
   "outputs": [
    {
     "name": "stdout",
     "output_type": "stream",
     "text": [
      "\u001b[32mSaved Visualization to: diversity/permanova.qzv\u001b[0m\r\n",
      "\u001b[0m"
     ]
    }
   ],
   "source": [
    "#Permanova via Adonis addon\n",
    "\n",
    "!qiime diversity adonis \\\n",
    "    --i-distance-matrix diversity/weighted_unifrac_distance_matrix.qza \\\n",
    "    --m-metadata-file read-files/metadata.tsv \\\n",
    "    --p-formula \"treatment\" \\\n",
    "    --p-n-jobs 2 \\\n",
    "    --o-visualization diversity/permanova.qzv"
   ]
  },
  {
   "cell_type": "code",
   "execution_count": 26,
   "id": "5e73fbdf",
   "metadata": {
    "ExecuteTime": {
     "end_time": "2022-03-26T02:57:46.845435Z",
     "start_time": "2022-03-26T02:54:55.589369Z"
    }
   },
   "outputs": [
    {
     "name": "stdout",
     "output_type": "stream",
     "text": [
      "Warning - 1 input sequences aligned poorly to reference sequences (--min_align option specified a minimum proportion of 0.8 aligning to reference sequences). These input sequences will not be placed and will be excluded from downstream steps.\n",
      "\n",
      "This is the set of poorly aligned input sequences to be excluded: 7e879359d8a9e9b3c08b121533609d54\n",
      "\n",
      "\n",
      "\n",
      "\n",
      "\n",
      "All ASVs were below the max NSTI cut-off of 2.0 and so all were retained for downstream analyses.\n",
      "\n",
      "All ASVs were below the max NSTI cut-off of 2.0 and so all were retained for downstream analyses.\n",
      "\n",
      "\n",
      "\u001b[32mSaved FeatureTable[Frequency] to: q2-picrust2/ko_metagenome.qza\u001b[0m\n",
      "\u001b[32mSaved FeatureTable[Frequency] to: q2-picrust2/ec_metagenome.qza\u001b[0m\n",
      "\u001b[32mSaved FeatureTable[Frequency] to: q2-picrust2/pathway_abundance.qza\u001b[0m\n",
      "\u001b[0m"
     ]
    }
   ],
   "source": [
    "#Running Picrust2 module on ASVs obtained as well as on the representative sequences\n",
    "#Not needed na kasi I ran the standalone version, which is capable of \n",
    "!qiime picrust2 full-pipeline\\\n",
    "    --i-table dada2/table.qza \\\n",
    "    --i-seq dada2/representative_sequences.qza\\\n",
    "    --output-dir q2-picrust2 \\\n",
    "    --p-placement-tool sepp \\\n",
    "    --p-threads 6 \\\n",
    "    --p-hsp-method pic \\\n",
    "    --p-max-nsti 2 \\\n",
    "    --verbose"
   ]
  },
  {
   "cell_type": "code",
   "execution_count": 27,
   "id": "c40a6012",
   "metadata": {
    "ExecuteTime": {
     "end_time": "2022-03-26T02:59:15.120928Z",
     "start_time": "2022-03-26T02:59:06.969069Z"
    }
   },
   "outputs": [
    {
     "name": "stdout",
     "output_type": "stream",
     "text": [
      "\u001b[32mSaved Visualization to: q2-picrust2/pathway_abundance.qzv\u001b[0m\r\n",
      "\u001b[0m"
     ]
    }
   ],
   "source": [
    "#Generate picrust2 feature table\n",
    "!qiime feature-table summarize \\\n",
    "    --i-table q2-picrust2/pathway_abundance.qza \\\n",
    "    --o-visualization q2-picrust2/pathway_abundance.qzv "
   ]
  },
  {
   "cell_type": "code",
   "execution_count": 28,
   "id": "2470a734",
   "metadata": {
    "ExecuteTime": {
     "end_time": "2022-03-26T03:00:11.746725Z",
     "start_time": "2022-03-26T03:00:06.024486Z"
    }
   },
   "outputs": [
    {
     "name": "stdout",
     "output_type": "stream",
     "text": [
      "\u001b[32mExported q2-picrust2/pathway_abundance.qza as BIOMV210DirFmt to directory pathabun_exported\u001b[0m\r\n",
      "\u001b[0m"
     ]
    }
   ],
   "source": [
    "#Export pathway tables to biom format\n",
    "\n",
    "!qiime tools export \\\n",
    "    --input-path q2-picrust2/pathway_abundance.qza \\\n",
    "    --output-path pathabun_exported \n",
    "\n",
    "\n"
   ]
  },
  {
   "cell_type": "code",
   "execution_count": 7,
   "id": "85343583",
   "metadata": {
    "ExecuteTime": {
     "end_time": "2022-03-30T08:05:42.305652Z",
     "start_time": "2022-03-30T08:05:35.304930Z"
    }
   },
   "outputs": [
    {
     "name": "stdout",
     "output_type": "stream",
     "text": [
      "\u001b[32mExported q2-picrust2/ko_metagenome.qza as BIOMV210DirFmt to directory ko_metagenome\u001b[0m\n",
      "\u001b[0m"
     ]
    }
   ],
   "source": [
    "#Export KO table to biom format\n",
    "\n",
    "!qiime tools export \\\n",
    "    --input-path q2-picrust2/ko_metagenome.qza \\\n",
    "    --output-path ko_metagenome\n",
    "\n",
    "!biom convert \\\n",
    "    -i ko_metagenome/ko-feature-table.biom \\\n",
    "    -o ko_metagenome/ko-feature-table.biom.tsv \\\n",
    "    --to-tsv"
   ]
  },
  {
   "cell_type": "code",
   "execution_count": 6,
   "id": "50811f7c",
   "metadata": {
    "ExecuteTime": {
     "end_time": "2022-03-30T08:04:53.967325Z",
     "start_time": "2022-03-30T08:04:47.303059Z"
    }
   },
   "outputs": [
    {
     "name": "stdout",
     "output_type": "stream",
     "text": [
      "\u001b[32mExported q2-picrust2/ec_metagenome.qza as BIOMV210DirFmt to directory ec_metagenome\u001b[0m\r\n",
      "\u001b[0m"
     ]
    }
   ],
   "source": [
    "#Export EC table to biom format\n",
    "\n",
    "!qiime tools export \\\n",
    "    --input-path q2-picrust2/ec_metagenome.qza \\\n",
    "    --output-path ec_metagenome\n",
    "\n",
    "!biom convert \\\n",
    "    -i ec_metagenome/ec-feature-table.biom \\\n",
    "    -o ec_metagenome/ec-feature-table.biom.tsv \\\n",
    "    --to-tsv"
   ]
  },
  {
   "cell_type": "code",
   "execution_count": 29,
   "id": "01261c2c",
   "metadata": {
    "ExecuteTime": {
     "end_time": "2022-03-26T03:00:47.082599Z",
     "start_time": "2022-03-26T03:00:46.537327Z"
    }
   },
   "outputs": [],
   "source": [
    "!biom convert \\\n",
    "    -i pathabun_exported/feature-table.biom \\\n",
    "    -o pathabun_exported/feature-table.biom.tsv \\\n",
    "    --to-tsv"
   ]
  },
  {
   "cell_type": "code",
   "execution_count": 5,
   "id": "196af2f9",
   "metadata": {
    "ExecuteTime": {
     "end_time": "2022-03-31T05:12:35.991180Z",
     "start_time": "2022-03-31T05:12:24.492130Z"
    }
   },
   "outputs": [
    {
     "name": "stdout",
     "output_type": "stream",
     "text": [
      "\u001b[32mExported dada2/table.qza as BIOMV210DirFmt to directory Stratified-pipeline/\u001b[0m\n",
      "\u001b[0m\u001b[32mExported dada2/representative_sequences.qza as DNASequencesDirectoryFormat to directory Stratified-pipeline/rep_seqs.fasta\u001b[0m\n",
      "\u001b[0m"
     ]
    }
   ],
   "source": [
    "#Convert DADA2 output to fasta and tsv, respectively\n",
    "\n",
    "!qiime tools export \\\n",
    "    --input-path dada2/table.qza \\\n",
    "    --output-path Stratified-pipeline/\n",
    "\n",
    "!qiime tools export \\\n",
    "    --input-path dada2/representative_sequences.qza \\\n",
    "    --output-path Stratified-pipeline/rep_seqs.fasta\n"
   ]
  }
 ],
 "metadata": {
  "kernelspec": {
   "display_name": "Python 3 (ipykernel)",
   "language": "python",
   "name": "python3"
  },
  "language_info": {
   "codemirror_mode": {
    "name": "ipython",
    "version": 3
   },
   "file_extension": ".py",
   "mimetype": "text/x-python",
   "name": "python",
   "nbconvert_exporter": "python",
   "pygments_lexer": "ipython3",
   "version": "3.8.12"
  },
  "varInspector": {
   "cols": {
    "lenName": 16,
    "lenType": 16,
    "lenVar": 40
   },
   "kernels_config": {
    "python": {
     "delete_cmd_postfix": "",
     "delete_cmd_prefix": "del ",
     "library": "var_list.py",
     "varRefreshCmd": "print(var_dic_list())"
    },
    "r": {
     "delete_cmd_postfix": ") ",
     "delete_cmd_prefix": "rm(",
     "library": "var_list.r",
     "varRefreshCmd": "cat(var_dic_list()) "
    }
   },
   "types_to_exclude": [
    "module",
    "function",
    "builtin_function_or_method",
    "instance",
    "_Feature"
   ],
   "window_display": false
  }
 },
 "nbformat": 4,
 "nbformat_minor": 5
}
