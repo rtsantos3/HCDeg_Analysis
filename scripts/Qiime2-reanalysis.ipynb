{
 "cells": [
  {
   "cell_type": "code",
   "execution_count": 4,
   "id": "a4fa5fa4",
   "metadata": {
    "ExecuteTime": {
     "end_time": "2023-02-07T03:26:09.466166Z",
     "start_time": "2023-02-07T03:26:09.269058Z"
    }
   },
   "outputs": [],
   "source": [
    "import qiime2\n",
    "import os\n",
    "os.getcwd()\n",
    "#change working dir to above\n",
    "os.chdir('/home/rtsantos3/bioinfo_pipelines/picrust2-2.4.2/data/Kiara-Qiime2/')"
   ]
  },
  {
   "cell_type": "code",
   "execution_count": 15,
   "id": "a5b4f58d",
   "metadata": {
    "ExecuteTime": {
     "end_time": "2023-02-06T16:19:49.319577Z",
     "start_time": "2023-02-06T16:19:43.416297Z"
    }
   },
   "outputs": [
    {
     "name": "stdout",
     "output_type": "stream",
     "text": [
      "\u001b[31m\u001b[1mThere was a problem importing read-files/sample-manifest.tsv:\r\n",
      "\r\n",
      "  Importing 'SingleLanePerSamplePairedEndFastqDirFmt' requires a directory, not read-files/sample-manifest.tsv\u001b[0m\r\n",
      "\r\n",
      "\u001b[0m"
     ]
    }
   ],
   "source": [
    "!qiime tools import   \\\n",
    "--type 'SampleData[PairedEndSequencesWithQuality]'   \\\n",
    "--input-path 'read-files/sample-manifest.tsv'   \\\n",
    "--output-path paired-end-demux.qza   \\\n",
    "--input-format PairedEndFastqManifestPhred33V2 \\\n",
    "\n"
   ]
  },
  {
   "cell_type": "code",
   "execution_count": null,
   "id": "073c3ef7",
   "metadata": {},
   "outputs": [],
   "source": [
    "#Denoising Step\n",
    "\n",
    "!qiime dada2 denoise-single \\\n",
    "    --i-demultiplexed-seqs paired-end-demux.qza \\\n",
    "    --p-trunc-len 140 \\\n",
    "    --p-n-threads 2 \\\n",
    "    --output-dir dada2 \\ \n",
    "    --verbose"
   ]
  },
  {
   "cell_type": "code",
   "execution_count": 32,
   "id": "f4eb0bc4",
   "metadata": {
    "ExecuteTime": {
     "end_time": "2023-02-06T17:49:46.844798Z",
     "start_time": "2023-02-06T17:47:29.347357Z"
    },
    "code_folding": [],
    "scrolled": true
   },
   "outputs": [
    {
     "name": "stdout",
     "output_type": "stream",
     "text": [
      "Running external command line application(s). This may print messages to stdout and/or stderr.\n",
      "The command(s) being run are below. These commands cannot be manually re-run as they will depend on temporary files that no longer exist.\n",
      "\n",
      "Command: run_dada_paired.R /tmp/tmp1x64likz/forward /tmp/tmp1x64likz/reverse /tmp/tmp1x64likz/output.tsv.biom /tmp/tmp1x64likz/track.tsv /tmp/tmp1x64likz/filt_f /tmp/tmp1x64likz/filt_r 300 300 0 0 2.0 2.0 2 12 independent consensus 1.0 2 1000000\n",
      "\n",
      "R version 4.0.5 (2021-03-31) \n",
      "Loading required package: Rcpp\n",
      "DADA2: 1.18.0 / Rcpp: 1.0.7 / RcppParallel: 5.1.4 \n",
      "1) Filtering ....\n",
      "2) Learning Error Rates\n",
      "41432700 total bases in 138109 reads from 4 samples will be used for learning the error rates.\n",
      "41432700 total bases in 138109 reads from 4 samples will be used for learning the error rates.\n",
      "3) Denoise samples ....\n",
      "....\n",
      "4) Remove chimeras (method = consensus)\n",
      "6) Write output\n",
      "\u001b[32mSaved FeatureTable[Frequency] to: paired/dada2-paired/table.qza\u001b[0m\n",
      "\u001b[32mSaved FeatureData[Sequence] to: paired/dada2-paired/representative_sequences.qza\u001b[0m\n",
      "\u001b[32mSaved SampleData[DADA2Stats] to: paired/dada2-paired/denoising_stats.qza\u001b[0m\n",
      "\u001b[0m"
     ]
    }
   ],
   "source": [
    "#Denoising Step (paired )\n",
    "\n",
    "!qiime dada2 denoise-paired \\\n",
    "    --i-demultiplexed-seqs paired-end-demux.qza \\\n",
    "    --p-trunc-len-f 300 \\\n",
    "    --p-trunc-len-r 300 \\\n",
    "    --p-n-threads 2 \\\n",
    "    --output-dir \"paired/dada2-paired\" \\\n",
    "    --verbose\n",
    "\n",
    "#Analyzing paired sequences does not produce any proper results. Bakit kaya?\n",
    "#Oks na I just needed to keep lengths at around 300\n"
   ]
  },
  {
   "cell_type": "code",
   "execution_count": 20,
   "id": "a1d5a6c9",
   "metadata": {
    "ExecuteTime": {
     "end_time": "2022-03-31T09:27:48.025149Z",
     "start_time": "2022-03-31T09:24:54.435412Z"
    }
   },
   "outputs": [
    {
     "name": "stdout",
     "output_type": "stream",
     "text": [
      "/home/rtsantos3/anaconda3/envs/qiime2-2021.11/lib/python3.8/site-packages/q2_feature_classifier/classifier.py:102: UserWarning: The TaxonomicClassifier artifact that results from this method was trained using scikit-learn version 0.24.1. It cannot be used with other versions of scikit-learn. (While the classifier may complete successfully, the results will be unreliable.)\r\n",
      "  warnings.warn(warning, UserWarning)\r\n"
     ]
    }
   ],
   "source": [
    "!qiime feature-classifier fit-classifier-naive-bayes \\\n",
    "        --i-reference-reads \"../training-sets/silva-138-99-seqs.qza\" \\\n",
    "        --i-reference-taxonomy \"../training-sets/silva-138-99-tax.qza\" \\\n",
    "        --o-classifier \"TaxonomicClassifier.qza\" \\\n",
    "        --output-dir \"../training-sets/Classifier\" \\\n",
    "        --verbose "
   ]
  },
  {
   "cell_type": "code",
   "execution_count": null,
   "id": "6dea736f",
   "metadata": {},
   "outputs": [],
   "source": [
    "!qiime feature-classifier classify-consensus-vsearch \\\n",
    "        --i-query \"../dada2/representative_sequences.qza\" \\\n",
    "        --i-reference-reads \"../training-sets/silva-138-99-seqs.qza\" \\\n",
    "        --i-reference-taxonomy \"../training-sets/silva-138-99-tax.qza\" \\\n",
    "        --output-dir \"../taxonomy_vsearch\" "
   ]
  },
  {
   "cell_type": "code",
   "execution_count": 34,
   "id": "dbcb4152",
   "metadata": {
    "ExecuteTime": {
     "end_time": "2023-02-06T18:09:05.109341Z",
     "start_time": "2023-02-06T17:51:25.885816Z"
    }
   },
   "outputs": [
    {
     "name": "stdout",
     "output_type": "stream",
     "text": [
      "\u001b[32mSaved FeatureData[Taxonomy] to: paired/taxonomy_vsearch_paired/classification.qza\u001b[0m\n",
      "\u001b[0m"
     ]
    }
   ],
   "source": [
    "#Vsearch for dada2-paired\n",
    "\n",
    "!qiime feature-classifier classify-consensus-vsearch \\\n",
    "        --i-query \"paired/dada2-paired/representative_sequences.qza\" \\\n",
    "        --i-reference-reads \"../training-sets/silva-138-99-seqs.qza\" \\\n",
    "        --i-reference-taxonomy \"../training-sets/silva-138-99-tax.qza\" \\\n",
    "        --output-dir \"paired/taxonomy_vsearch_paired\" "
   ]
  },
  {
   "cell_type": "code",
   "execution_count": null,
   "id": "1a8f553a",
   "metadata": {},
   "outputs": [],
   "source": [
    "!qiime feature-classifier classify-sklearn --help \\\n",
    "        --i-reads \"../dada2/representative_sequences.qza\" \\\n",
    "        --i-classifier \"../training-sets/\""
   ]
  },
  {
   "cell_type": "code",
   "execution_count": 28,
   "id": "20275c43",
   "metadata": {
    "ExecuteTime": {
     "end_time": "2023-02-06T17:35:23.588494Z",
     "start_time": "2023-02-06T17:35:17.852853Z"
    }
   },
   "outputs": [
    {
     "name": "stdout",
     "output_type": "stream",
     "text": [
      "\u001b[32mExported paired/taxonomy_vsearch_paired/classification.qza as TSVTaxonomyDirectoryFormat to directory paired/taxonomy_vsearch_paired\u001b[0m\r\n",
      "\u001b[0m"
     ]
    }
   ],
   "source": [
    "# !qiime tools export \\\n",
    "#     --input-path \"/taxonomy_vsearch/classification.qza\" \\\n",
    "#     --output-path \"../taxonomy_vsearch/\"\n",
    "\n",
    "#Exporting paired \n",
    "!qiime tools export \\\n",
    "    --input-path \"paired/taxonomy_vsearch_paired/classification.qza\" \\\n",
    "    --output-path \"paired/taxonomy_vsearch_paired\""
   ]
  },
  {
   "cell_type": "code",
   "execution_count": null,
   "id": "aa2e2561",
   "metadata": {},
   "outputs": [],
   "source": [
    "!qiime tools export \\\n",
    "    --input-path \"../pai/taxonomy_vsearch/classification.qza\" \\\n",
    "    --output-path \"../taxonomy_vsearch/\""
   ]
  },
  {
   "cell_type": "code",
   "execution_count": 9,
   "id": "8da2d648",
   "metadata": {},
   "outputs": [
    {
     "name": "stdout",
     "output_type": "stream",
     "text": [
      "\u001b[32mSaved Visualization to: dada2/denoising-stats.qzv\u001b[0m\r\n",
      "\u001b[0m"
     ]
    }
   ],
   "source": [
    "!qiime metadata tabulate \\\n",
    "    --m-input-file dada2/denoising_stats.qza \\\n",
    "    --o-visualization dada2/denoising-stats.qzv"
   ]
  },
  {
   "cell_type": "code",
   "execution_count": 13,
   "id": "b948b4b9",
   "metadata": {},
   "outputs": [
    {
     "name": "stdout",
     "output_type": "stream",
     "text": [
      "\u001b[32mSaved FeatureData[AlignedSequence] to: tree/alignment.qza\u001b[0m\n",
      "\u001b[32mSaved FeatureData[AlignedSequence] to: tree/masked_alignment.qza\u001b[0m\n",
      "\u001b[32mSaved Phylogeny[Unrooted] to: tree/tree.qza\u001b[0m\n",
      "\u001b[32mSaved Phylogeny[Rooted] to: tree/rooted_tree.qza\u001b[0m\n",
      "\u001b[0m"
     ]
    }
   ],
   "source": [
    "!qiime phylogeny align-to-tree-mafft-fasttree \\\n",
    "    --i-sequences /dada2/representative_sequences.qza \\\n",
    "    --output-dir tree"
   ]
  },
  {
   "cell_type": "code",
   "execution_count": 9,
   "id": "fcdba252",
   "metadata": {
    "ExecuteTime": {
     "end_time": "2022-04-14T23:33:06.938934Z",
     "start_time": "2022-04-14T23:33:00.638844Z"
    }
   },
   "outputs": [
    {
     "name": "stdout",
     "output_type": "stream",
     "text": [
      "\u001b[32mSaved FeatureTable[Frequency] to: ./dada2/no_eukaryotes_filtered_table.qza\u001b[0m\n",
      "\u001b[0m"
     ]
    }
   ],
   "source": [
    "#This code block is to filter out any Eukaryotic sequences from the feature table\n",
    "!qiime taxa filter-table \\\n",
    "  --i-table './dada2/table.qza' \\\n",
    "  --i-taxonomy './taxonomy_vsearch/classification.qza' \\\n",
    "  --p-mode exact \\\n",
    "  --p-exclude \"d__Eukaryota; p__Ascomycota; c__Dothideomycetes; o__Capnodiales; f__Mycosphaerellaceae\" \\\n",
    "  --o-filtered-table './dada2/no_eukaryotes_filtered_table.qza'\n",
    "\n"
   ]
  },
  {
   "cell_type": "code",
   "execution_count": 2,
   "id": "a0d4e8ac",
   "metadata": {
    "ExecuteTime": {
     "end_time": "2023-02-07T03:24:46.189696Z",
     "start_time": "2023-02-07T03:24:40.416809Z"
    }
   },
   "outputs": [
    {
     "name": "stdout",
     "output_type": "stream",
     "text": [
      "\u001b[32mSaved FeatureTable[Frequency] to: ../paired/dada2-paired/no_eukaryotes_filtered_table.qza\u001b[0m\r\n",
      "\u001b[0m"
     ]
    }
   ],
   "source": [
    "#This code block is to filter out any Eukaryotic sequences from the feature table (Paired)\n",
    "!qiime taxa filter-table \\\n",
    "  --i-table '../paired/dada2-paired/table.qza' \\\n",
    "  --i-taxonomy '../paired/taxonomy_vsearch_paired/classification.qza' \\\n",
    "  --p-mode exact \\\n",
    "  --p-exclude \"d__Eukaryota\" \\\n",
    "  --o-filtered-table '../paired/dada2-paired/no_eukaryotes_filtered_table.qza'\n",
    "\n"
   ]
  },
  {
   "cell_type": "code",
   "execution_count": 9,
   "id": "2ac323ec",
   "metadata": {
    "ExecuteTime": {
     "end_time": "2023-02-07T03:31:44.345263Z",
     "start_time": "2023-02-07T03:31:38.301863Z"
    }
   },
   "outputs": [
    {
     "name": "stdout",
     "output_type": "stream",
     "text": [
      "\u001b[32mSaved Visualization to: ./paired/plots/qiime_taxa_barplot/visualization.qzv\u001b[0m\r\n",
      "\u001b[0m"
     ]
    }
   ],
   "source": [
    "#For validating paired\n",
    "\n",
    "\n",
    "!qiime taxa barplot  \\\n",
    "    --i-table './paired/dada2-paired/no_eukaryotes_filtered_table.qza' \\\n",
    "    --i-taxonomy 'paired/taxonomy_vsearch_paired/classification.qza' \\\n",
    "    --m-metadata-file './read-files/metadata.tsv' \\\n",
    "    --o-visualization './paired/plots/qiime_taxa_barplot/visualization' \\\n",
    "    --verbose "
   ]
  },
  {
   "cell_type": "markdown",
   "id": "422b5cf5",
   "metadata": {},
   "source": [
    "These code-blocks below is to compute both the Alpha and Beta Rarefaction curves as well as other diversity stats using the filtered  table"
   ]
  },
  {
   "cell_type": "code",
   "execution_count": 11,
   "id": "5254c20c",
   "metadata": {
    "ExecuteTime": {
     "end_time": "2022-04-14T23:33:22.604209Z",
     "start_time": "2022-04-14T23:33:14.697939Z"
    }
   },
   "outputs": [
    {
     "name": "stdout",
     "output_type": "stream",
     "text": [
      "\u001b[32mSaved FeatureTable[Frequency] to: diversity/rarefied_table.qza\u001b[0m\n",
      "\u001b[32mSaved SampleData[AlphaDiversity] to: diversity/faith_pd_vector.qza\u001b[0m\n",
      "\u001b[32mSaved SampleData[AlphaDiversity] to: diversity/observed_features_vector.qza\u001b[0m\n",
      "\u001b[32mSaved SampleData[AlphaDiversity] to: diversity/shannon_vector.qza\u001b[0m\n",
      "\u001b[32mSaved SampleData[AlphaDiversity] to: diversity/evenness_vector.qza\u001b[0m\n",
      "\u001b[32mSaved DistanceMatrix to: diversity/unweighted_unifrac_distance_matrix.qza\u001b[0m\n",
      "\u001b[32mSaved DistanceMatrix to: diversity/weighted_unifrac_distance_matrix.qza\u001b[0m\n",
      "\u001b[32mSaved DistanceMatrix to: diversity/jaccard_distance_matrix.qza\u001b[0m\n",
      "\u001b[32mSaved DistanceMatrix to: diversity/bray_curtis_distance_matrix.qza\u001b[0m\n",
      "\u001b[32mSaved PCoAResults to: diversity/unweighted_unifrac_pcoa_results.qza\u001b[0m\n",
      "\u001b[32mSaved PCoAResults to: diversity/weighted_unifrac_pcoa_results.qza\u001b[0m\n",
      "\u001b[32mSaved PCoAResults to: diversity/jaccard_pcoa_results.qza\u001b[0m\n",
      "\u001b[32mSaved PCoAResults to: diversity/bray_curtis_pcoa_results.qza\u001b[0m\n",
      "\u001b[32mSaved Visualization to: diversity/unweighted_unifrac_emperor.qzv\u001b[0m\n",
      "\u001b[32mSaved Visualization to: diversity/weighted_unifrac_emperor.qzv\u001b[0m\n",
      "\u001b[32mSaved Visualization to: diversity/jaccard_emperor.qzv\u001b[0m\n",
      "\u001b[32mSaved Visualization to: diversity/bray_curtis_emperor.qzv\u001b[0m\n",
      "\u001b[0m"
     ]
    }
   ],
   "source": [
    "#Alpha Diversity stat\n",
    "\n",
    "!qiime diversity core-metrics-phylogenetic \\\n",
    "    --i-table './dada2/no_eukaryotes_filtered_table.qza' \\\n",
    "    --i-phylogeny './tree/rooted_tree.qza' \\\n",
    "    --p-sampling-depth 10000 \\\n",
    "    --m-metadata-file './read-files/metadata.tsv' \\\n",
    "    --output-dir diversity"
   ]
  },
  {
   "cell_type": "code",
   "execution_count": 12,
   "id": "8d2ed409",
   "metadata": {
    "ExecuteTime": {
     "end_time": "2022-04-14T23:33:55.347821Z",
     "start_time": "2022-04-14T23:33:22.934265Z"
    }
   },
   "outputs": [
    {
     "name": "stdout",
     "output_type": "stream",
     "text": [
      "\u001b[32mSaved Visualization to: ./diversity/alpha-rarefaction/visualization.qzv\u001b[0m\r\n",
      "\u001b[0m"
     ]
    }
   ],
   "source": [
    "!qiime diversity alpha-rarefaction \\\n",
    "    --i-table './dada2/no_eukaryotes_filtered_table.qza' \\\n",
    "    --i-phylogeny './tree/rooted_tree.qza' \\\n",
    "    --p-max-depth 4970 \\\n",
    "    --p-metrics 'shannon' 'fisher_alpha' 'chao1' 'goods_coverage' 'simpson_e' 'observed_features' \\\n",
    "    --m-metadata-file './read-files/metadata.tsv' \\\n",
    "    --output-dir './diversity/alpha-rarefaction/' \\\n",
    "    --verbose"
   ]
  },
  {
   "cell_type": "code",
   "execution_count": 14,
   "id": "b1457135",
   "metadata": {
    "ExecuteTime": {
     "end_time": "2022-04-14T23:34:31.237387Z",
     "start_time": "2022-04-14T23:34:23.860599Z"
    }
   },
   "outputs": [
    {
     "name": "stdout",
     "output_type": "stream",
     "text": [
      "\u001b[32mSaved Visualization to: ./diversity/beta-diversity/visualization.qzv\u001b[0m\r\n",
      "\u001b[0m"
     ]
    }
   ],
   "source": [
    "!qiime diversity beta-rarefaction \\\n",
    "    --i-table './dada2/no_eukaryotes_filtered_table.qza' \\\n",
    "    --i-phylogeny './tree/rooted_tree.qza' \\\n",
    "    --p-metric 'weighted_unifrac' \\\n",
    "    --p-clustering-method 'upgma' \\\n",
    "    --m-metadata-file './read-files/metadata.tsv' \\\n",
    "    --p-sampling-depth 4970 \\\n",
    "    --p-correlation-method 'spearman' \\\n",
    "    --output-dir './diversity/beta-diversity' \\\n",
    "    --verbose"
   ]
  },
  {
   "cell_type": "code",
   "execution_count": 14,
   "id": "155b4d9b",
   "metadata": {},
   "outputs": [
    {
     "name": "stdout",
     "output_type": "stream",
     "text": [
      "\u001b[32mSaved Visualization to: tree/empress.qzv\u001b[0m\r\n",
      "\u001b[0m"
     ]
    }
   ],
   "source": [
    "!qiime empress tree-plot \\\n",
    "    --i-tree tree/rooted_tree.qza \\\n",
    "    --o-visualization tree/empress.qzv"
   ]
  },
  {
   "cell_type": "code",
   "execution_count": 26,
   "id": "e1300d45",
   "metadata": {},
   "outputs": [
    {
     "name": "stdout",
     "output_type": "stream",
     "text": [
      "\u001b[32mSaved Visualization to: diversity/alpha_groups.qzv\u001b[0m\r\n",
      "\u001b[0m"
     ]
    }
   ],
   "source": [
    "!qiime diversity alpha-group-significance \\\n",
    "    --i-alpha-diversity diversity/shannon_vector.qza \\\n",
    "    --m-metadata-file 'read-files/metadata.tsv' \\\n",
    "    --o-visualization diversity/alpha_groups.qzv"
   ]
  },
  {
   "cell_type": "code",
   "execution_count": 39,
   "id": "215a7f10",
   "metadata": {},
   "outputs": [
    {
     "name": "stdout",
     "output_type": "stream",
     "text": [
      "\u001b[32mSaved Visualization to: diversity/permanova.qzv\u001b[0m\r\n",
      "\u001b[0m"
     ]
    }
   ],
   "source": [
    "#Permanova via Adonis addon\n",
    "\n",
    "!qiime diversity adonis \\\n",
    "    --i-distance-matrix diversity/weighted_unifrac_distance_matrix.qza \\\n",
    "    --m-metadata-file read-files/metadata.tsv \\\n",
    "    --p-formula \"treatment\" \\\n",
    "    --p-n-jobs 2 \\\n",
    "    --o-visualization diversity/permanova.qzv"
   ]
  },
  {
   "cell_type": "code",
   "execution_count": 26,
   "id": "5e73fbdf",
   "metadata": {
    "ExecuteTime": {
     "end_time": "2022-03-26T02:57:46.845435Z",
     "start_time": "2022-03-26T02:54:55.589369Z"
    }
   },
   "outputs": [
    {
     "name": "stdout",
     "output_type": "stream",
     "text": [
      "Warning - 1 input sequences aligned poorly to reference sequences (--min_align option specified a minimum proportion of 0.8 aligning to reference sequences). These input sequences will not be placed and will be excluded from downstream steps.\n",
      "\n",
      "This is the set of poorly aligned input sequences to be excluded: 7e879359d8a9e9b3c08b121533609d54\n",
      "\n",
      "\n",
      "\n",
      "\n",
      "\n",
      "All ASVs were below the max NSTI cut-off of 2.0 and so all were retained for downstream analyses.\n",
      "\n",
      "All ASVs were below the max NSTI cut-off of 2.0 and so all were retained for downstream analyses.\n",
      "\n",
      "\n",
      "\u001b[32mSaved FeatureTable[Frequency] to: q2-picrust2/ko_metagenome.qza\u001b[0m\n",
      "\u001b[32mSaved FeatureTable[Frequency] to: q2-picrust2/ec_metagenome.qza\u001b[0m\n",
      "\u001b[32mSaved FeatureTable[Frequency] to: q2-picrust2/pathway_abundance.qza\u001b[0m\n",
      "\u001b[0m"
     ]
    }
   ],
   "source": [
    "#Running Picrust2 module on ASVs obtained as well as on the representative sequences\n",
    "#Not needed na kasi I ran the standalone version, which is capable of \n",
    "!qiime picrust2 full-pipeline\\\n",
    "    --i-table dada2/table.qza \\\n",
    "    --i-seq dada2/representative_sequences.qza\\\n",
    "    --output-dir q2-picrust2 \\\n",
    "    --p-placement-tool sepp \\\n",
    "    --p-threads 6 \\\n",
    "    --p-hsp-method pic \\\n",
    "    --p-max-nsti 2 \\\n",
    "    --verbose"
   ]
  },
  {
   "cell_type": "code",
   "execution_count": 27,
   "id": "c40a6012",
   "metadata": {
    "ExecuteTime": {
     "end_time": "2022-03-26T02:59:15.120928Z",
     "start_time": "2022-03-26T02:59:06.969069Z"
    }
   },
   "outputs": [
    {
     "name": "stdout",
     "output_type": "stream",
     "text": [
      "\u001b[32mSaved Visualization to: q2-picrust2/pathway_abundance.qzv\u001b[0m\r\n",
      "\u001b[0m"
     ]
    }
   ],
   "source": [
    "#Generate picrust2 feature table\n",
    "!qiime feature-table summarize \\\n",
    "    --i-table q2-picrust2/pathway_abundance.qza \\\n",
    "    --o-visualization q2-picrust2/pathway_abundance.qzv "
   ]
  },
  {
   "cell_type": "code",
   "execution_count": 28,
   "id": "2470a734",
   "metadata": {
    "ExecuteTime": {
     "end_time": "2022-03-26T03:00:11.746725Z",
     "start_time": "2022-03-26T03:00:06.024486Z"
    }
   },
   "outputs": [
    {
     "name": "stdout",
     "output_type": "stream",
     "text": [
      "\u001b[32mExported q2-picrust2/pathway_abundance.qza as BIOMV210DirFmt to directory pathabun_exported\u001b[0m\r\n",
      "\u001b[0m"
     ]
    }
   ],
   "source": [
    "#Export pathway tables to biom format\n",
    "\n",
    "!qiime tools export \\\n",
    "    --input-path q2-picrust2/pathway_abundance.qza \\\n",
    "    --output-path pathabun_exported \n",
    "\n",
    "\n"
   ]
  },
  {
   "cell_type": "code",
   "execution_count": 7,
   "id": "85343583",
   "metadata": {
    "ExecuteTime": {
     "end_time": "2022-03-30T08:05:42.305652Z",
     "start_time": "2022-03-30T08:05:35.304930Z"
    }
   },
   "outputs": [
    {
     "name": "stdout",
     "output_type": "stream",
     "text": [
      "\u001b[32mExported q2-picrust2/ko_metagenome.qza as BIOMV210DirFmt to directory ko_metagenome\u001b[0m\n",
      "\u001b[0m"
     ]
    }
   ],
   "source": [
    "#Export KO table to biom format\n",
    "\n",
    "!qiime tools export \\\n",
    "    --input-path q2-picrust2/ko_metagenome.qza \\\n",
    "    --output-path ko_metagenome\n",
    "\n",
    "!biom convert \\\n",
    "    -i ko_metagenome/ko-feature-table.biom \\\n",
    "    -o ko_metagenome/ko-feature-table.biom.tsv \\\n",
    "    --to-tsv"
   ]
  },
  {
   "cell_type": "code",
   "execution_count": 6,
   "id": "50811f7c",
   "metadata": {
    "ExecuteTime": {
     "end_time": "2022-03-30T08:04:53.967325Z",
     "start_time": "2022-03-30T08:04:47.303059Z"
    }
   },
   "outputs": [
    {
     "name": "stdout",
     "output_type": "stream",
     "text": [
      "\u001b[32mExported q2-picrust2/ec_metagenome.qza as BIOMV210DirFmt to directory ec_metagenome\u001b[0m\r\n",
      "\u001b[0m"
     ]
    }
   ],
   "source": [
    "#Export EC table to biom format\n",
    "\n",
    "!qiime tools export \\\n",
    "    --input-path q2-picrust2/ec_metagenome.qza \\\n",
    "    --output-path ec_metagenome\n",
    "\n",
    "!biom convert \\\n",
    "    -i ec_metagenome/ec-feature-table.biom \\\n",
    "    -o ec_metagenome/ec-feature-table.biom.tsv \\\n",
    "    --to-tsv"
   ]
  },
  {
   "cell_type": "code",
   "execution_count": 29,
   "id": "01261c2c",
   "metadata": {
    "ExecuteTime": {
     "end_time": "2022-03-26T03:00:47.082599Z",
     "start_time": "2022-03-26T03:00:46.537327Z"
    }
   },
   "outputs": [],
   "source": [
    "!biom convert \\\n",
    "    -i pathabun_exported/feature-table.biom \\\n",
    "    -o pathabun_exported/feature-table.biom.tsv \\\n",
    "    --to-tsv"
   ]
  },
  {
   "cell_type": "code",
   "execution_count": 5,
   "id": "196af2f9",
   "metadata": {
    "ExecuteTime": {
     "end_time": "2022-03-31T05:12:35.991180Z",
     "start_time": "2022-03-31T05:12:24.492130Z"
    }
   },
   "outputs": [
    {
     "name": "stdout",
     "output_type": "stream",
     "text": [
      "\u001b[32mExported dada2/table.qza as BIOMV210DirFmt to directory Stratified-pipeline/\u001b[0m\n",
      "\u001b[0m\u001b[32mExported dada2/representative_sequences.qza as DNASequencesDirectoryFormat to directory Stratified-pipeline/rep_seqs.fasta\u001b[0m\n",
      "\u001b[0m"
     ]
    }
   ],
   "source": [
    "#Convert DADA2 output to fasta and tsv, respectively\n",
    "\n",
    "!qiime tools export \\\n",
    "    --input-path dada2/table.qza \\\n",
    "    --output-path Stratified-pipeline/\n",
    "\n",
    "!qiime tools export \\\n",
    "    --input-path dada2/representative_sequences.qza \\\n",
    "    --output-path Stratified-pipeline/rep_seqs.fasta\n"
   ]
  }
 ],
 "metadata": {
  "kernelspec": {
   "display_name": "Python 3 (ipykernel)",
   "language": "python",
   "name": "python3"
  },
  "language_info": {
   "codemirror_mode": {
    "name": "ipython",
    "version": 3
   },
   "file_extension": ".py",
   "mimetype": "text/x-python",
   "name": "python",
   "nbconvert_exporter": "python",
   "pygments_lexer": "ipython3",
   "version": "3.8.12"
  },
  "varInspector": {
   "cols": {
    "lenName": 16,
    "lenType": 16,
    "lenVar": 40
   },
   "kernels_config": {
    "python": {
     "delete_cmd_postfix": "",
     "delete_cmd_prefix": "del ",
     "library": "var_list.py",
     "varRefreshCmd": "print(var_dic_list())"
    },
    "r": {
     "delete_cmd_postfix": ") ",
     "delete_cmd_prefix": "rm(",
     "library": "var_list.r",
     "varRefreshCmd": "cat(var_dic_list()) "
    }
   },
   "types_to_exclude": [
    "module",
    "function",
    "builtin_function_or_method",
    "instance",
    "_Feature"
   ],
   "window_display": false
  }
 },
 "nbformat": 4,
 "nbformat_minor": 5
}
