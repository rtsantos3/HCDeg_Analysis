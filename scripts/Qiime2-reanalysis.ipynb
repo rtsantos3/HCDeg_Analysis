{
 "cells": [
  {
   "cell_type": "code",
   "execution_count": 19,
   "id": "a4fa5fa4",
   "metadata": {
    "ExecuteTime": {
     "end_time": "2023-02-07T05:01:00.296001Z",
     "start_time": "2023-02-07T05:01:00.293500Z"
    }
   },
   "outputs": [],
   "source": [
    "import qiime2\n",
    "import os\n",
    "os.getcwd()\n",
    "#change working dir to above\n",
    "os.chdir('/home/rtsantos3/bioinfo_pipelines/picrust2-2.4.2/data/Kiara-Qiime2/')"
   ]
  },
  {
   "cell_type": "code",
   "execution_count": 15,
   "id": "a5b4f58d",
   "metadata": {
    "ExecuteTime": {
     "end_time": "2023-02-06T16:19:49.319577Z",
     "start_time": "2023-02-06T16:19:43.416297Z"
    }
   },
   "outputs": [
    {
     "name": "stdout",
     "output_type": "stream",
     "text": [
      "\u001b[31m\u001b[1mThere was a problem importing read-files/sample-manifest.tsv:\r\n",
      "\r\n",
      "  Importing 'SingleLanePerSamplePairedEndFastqDirFmt' requires a directory, not read-files/sample-manifest.tsv\u001b[0m\r\n",
      "\r\n",
      "\u001b[0m"
     ]
    }
   ],
   "source": [
    "!qiime tools import   \\\n",
    "--type 'SampleData[PairedEndSequencesWithQuality]'   \\\n",
    "--input-path 'read-files/sample-manifest.tsv'   \\\n",
    "--output-path paired-end-demux.qza   \\\n",
    "--input-format PairedEndFastqManifestPhred33V2 \\\n",
    "\n"
   ]
  },
  {
   "cell_type": "code",
   "execution_count": null,
   "id": "073c3ef7",
   "metadata": {},
   "outputs": [],
   "source": [
    "# #Denoising Step\n",
    "\n",
    "# !qiime dada2 denoise-single \\\n",
    "#     --i-demultiplexed-seqs paired-end-demux.qza \\\n",
    "#     --p-trunc-len 140 \\\n",
    "#     --p-n-threads 2 \\\n",
    "#     --output-dir dada2 \\ \n",
    "#     --verbose"
   ]
  },
  {
   "cell_type": "code",
   "execution_count": 71,
   "id": "5d009692",
   "metadata": {
    "ExecuteTime": {
     "end_time": "2023-02-07T06:03:05.348805Z",
     "start_time": "2023-02-07T06:02:52.055886Z"
    }
   },
   "outputs": [
    {
     "name": "stdout",
     "output_type": "stream",
     "text": [
      "\u001b[32mSaved Visualization to: demux.qzv\u001b[0m\n",
      "\u001b[0m"
     ]
    }
   ],
   "source": [
    "!qiime demux summarize \\\n",
    "    --i-data paired-end-demux.qza \\\n",
    "    --o-visualization demux.qzv"
   ]
  },
  {
   "cell_type": "code",
   "execution_count": 74,
   "id": "f4eb0bc4",
   "metadata": {
    "ExecuteTime": {
     "end_time": "2023-02-07T06:15:20.445057Z",
     "start_time": "2023-02-07T06:10:29.441572Z"
    },
    "code_folding": [],
    "scrolled": true
   },
   "outputs": [
    {
     "name": "stdout",
     "output_type": "stream",
     "text": [
      "Running external command line application(s). This may print messages to stdout and/or stderr.\n",
      "The command(s) being run are below. These commands cannot be manually re-run as they will depend on temporary files that no longer exist.\n",
      "\n",
      "Command: run_dada_paired.R /tmp/tmpu79org_v/forward /tmp/tmpu79org_v/reverse /tmp/tmpu79org_v/output.tsv.biom /tmp/tmpu79org_v/track.tsv /tmp/tmpu79org_v/filt_f /tmp/tmpu79org_v/filt_r 300 220 0 0 2.0 2.0 2 12 independent consensus 1.0 6 1000000\n",
      "\n",
      "R version 4.0.5 (2021-03-31) \n",
      "Loading required package: Rcpp\n",
      "DADA2: 1.18.0 / Rcpp: 1.0.7 / RcppParallel: 5.1.4 \n",
      "1) Filtering ....\n",
      "2) Learning Error Rates\n",
      "67743600 total bases in 225812 reads from 4 samples will be used for learning the error rates.\n",
      "49678640 total bases in 225812 reads from 4 samples will be used for learning the error rates.\n",
      "3) Denoise samples ....\n",
      "....\n",
      "4) Remove chimeras (method = consensus)\n",
      "6) Write output\n",
      "\u001b[32mSaved FeatureTable[Frequency] to: dada2/table.qza\u001b[0m\n",
      "\u001b[32mSaved FeatureData[Sequence] to: dada2/representative_sequences.qza\u001b[0m\n",
      "\u001b[32mSaved SampleData[DADA2Stats] to: dada2/denoising_stats.qza\u001b[0m\n",
      "\u001b[0m"
     ]
    }
   ],
   "source": [
    "#Denoising Step (paired )\n",
    "\n",
    "!qiime dada2 denoise-paired \\\n",
    "    --i-demultiplexed-seqs paired-end-demux.qza \\\n",
    "    --p-trunc-len-f 300 \\\n",
    "    --p-trunc-len-r 220 \\\n",
    "    --p-n-threads 6 \\\n",
    "    --p-pooling-method \"independent\" \\\n",
    "    --output-dir dada2 \\\n",
    "    --verbose\n",
    "\n",
    "#Analyzing paired sequences does not produce any proper results. Bakit kaya?\n",
    "#Oks na I just needed to keep lengths at around 300\n"
   ]
  },
  {
   "cell_type": "code",
   "execution_count": 75,
   "id": "6dea736f",
   "metadata": {
    "ExecuteTime": {
     "end_time": "2023-02-07T06:38:58.236780Z",
     "start_time": "2023-02-07T06:19:32.217908Z"
    }
   },
   "outputs": [
    {
     "name": "stdout",
     "output_type": "stream",
     "text": [
      "Running external command line application. This may print messages to stdout and/or stderr.\n",
      "The command being run is below. This command cannot be manually re-run as it will depend on temporary files that no longer exist.\n",
      "\n",
      "Command: vsearch --usearch_global /tmp/qiime2-archive-ft7yykkk/bd99ad4e-70d1-4d13-beab-18a81dd5ea00/data/dna-sequences.fasta --id 0.8 --query_cov 0.8 --strand both --maxaccepts 10 --maxrejects 0 --db /tmp/qiime2-archive-_1k_nwcu/a7432d0f-b5f7-409f-9daf-cd33db5de53f/data/dna-sequences.fasta --threads 1 --output_no_hits --blast6out /tmp/tmp1fyjtj87\n",
      "\n",
      "vsearch v2.7.0_linux_x86_64, 15.3GB RAM, 8 cores\n",
      "https://github.com/torognes/vsearch\n",
      "\n",
      "Reading file /tmp/qiime2-archive-_1k_nwcu/a7432d0f-b5f7-409f-9daf-cd33db5de53f/data/dna-sequences.fasta 100%                          \n",
      "636194718 nt in 436680 seqs, min 900, max 3983, avg 1457\n",
      "Masking 100%                                                                                                                                                                                                                                                                                                                                                                                                                  \n",
      "Counting k-mers 100%                                                            \n",
      "Creating k-mer index 100%                                                                                                                                                                                                                                                                                                                        \n",
      "Searching 100%        \n",
      "Matching query sequences: 65 of 66 (98.48%)\n",
      "\u001b[32mSaved FeatureData[Taxonomy] to: taxonomy_vsearch/classification.qza\u001b[0m\n",
      "\u001b[0m"
     ]
    }
   ],
   "source": [
    "\n",
    "!qiime feature-classifier classify-consensus-vsearch \\\n",
    "        --i-query \"dada2/representative_sequences.qza\" \\\n",
    "        --i-reference-reads \"../training-sets/silva-138-99-seqs.qza\" \\\n",
    "        --i-reference-taxonomy \"../training-sets/silva-138-99-tax.qza\" \\\n",
    "        --output-dir \"taxonomy_vsearch\" \\\n",
    "        --verbose"
   ]
  },
  {
   "cell_type": "code",
   "execution_count": 77,
   "id": "20275c43",
   "metadata": {
    "ExecuteTime": {
     "end_time": "2023-02-07T06:40:55.546825Z",
     "start_time": "2023-02-07T06:40:49.449610Z"
    }
   },
   "outputs": [
    {
     "name": "stdout",
     "output_type": "stream",
     "text": [
      "\u001b[32mExported taxonomy_vsearch/classification.qza as TSVTaxonomyDirectoryFormat to directory taxonomy_vsearch/\u001b[0m\n",
      "\u001b[0m"
     ]
    }
   ],
   "source": [
    "!qiime tools export \\\n",
    "    --input-path \"taxonomy_vsearch/classification.qza\" \\\n",
    "    --output-path \"taxonomy_vsearch/\"\n"
   ]
  },
  {
   "cell_type": "code",
   "execution_count": 78,
   "id": "8da2d648",
   "metadata": {
    "ExecuteTime": {
     "end_time": "2023-02-07T06:41:02.220529Z",
     "start_time": "2023-02-07T06:40:55.559412Z"
    }
   },
   "outputs": [
    {
     "name": "stdout",
     "output_type": "stream",
     "text": [
      "\u001b[32mSaved Visualization to: dada2/denoising-stats.qzv\u001b[0m\r\n",
      "\u001b[0m"
     ]
    }
   ],
   "source": [
    "!qiime metadata tabulate \\\n",
    "    --m-input-file dada2/denoising_stats.qza \\\n",
    "    --o-visualization dada2/denoising-stats.qzv"
   ]
  },
  {
   "cell_type": "code",
   "execution_count": 79,
   "id": "b948b4b9",
   "metadata": {
    "ExecuteTime": {
     "end_time": "2023-02-07T06:41:09.891667Z",
     "start_time": "2023-02-07T06:41:02.231621Z"
    }
   },
   "outputs": [
    {
     "name": "stdout",
     "output_type": "stream",
     "text": [
      "\u001b[32mSaved FeatureData[AlignedSequence] to: mafft-tree/alignment.qza\u001b[0m\r\n",
      "\u001b[32mSaved FeatureData[AlignedSequence] to: mafft-tree/masked_alignment.qza\u001b[0m\r\n",
      "\u001b[32mSaved Phylogeny[Unrooted] to: mafft-tree/tree.qza\u001b[0m\r\n",
      "\u001b[32mSaved Phylogeny[Rooted] to: mafft-tree/rooted_tree.qza\u001b[0m\r\n",
      "\u001b[0m"
     ]
    }
   ],
   "source": [
    "!qiime phylogeny align-to-tree-mafft-fasttree \\\n",
    "    --i-sequences \"dada2/representative_sequences.qza\" \\\n",
    "    --output-dir mafft-tree"
   ]
  },
  {
   "cell_type": "code",
   "execution_count": 80,
   "id": "a0d4e8ac",
   "metadata": {
    "ExecuteTime": {
     "end_time": "2023-02-07T06:41:16.163716Z",
     "start_time": "2023-02-07T06:41:09.905570Z"
    }
   },
   "outputs": [
    {
     "name": "stdout",
     "output_type": "stream",
     "text": [
      "\u001b[32mSaved FeatureTable[Frequency] to: dada2/filtered_table.qza\u001b[0m\r\n",
      "\u001b[0m"
     ]
    }
   ],
   "source": [
    "#This code block is to filter out any Eukaryotic sequences from the feature table (Paired)\n",
    "!qiime taxa filter-table \\\n",
    "  --i-table 'dada2/table.qza' \\\n",
    "  --i-taxonomy 'taxonomy_vsearch/classification.qza' \\\n",
    "  --p-mode exact \\\n",
    "  --p-exclude \"Unassigned\" \\\n",
    "  --o-filtered-table 'dada2/filtered_table.qza'\n",
    "\n"
   ]
  },
  {
   "cell_type": "code",
   "execution_count": 91,
   "id": "2ac323ec",
   "metadata": {
    "ExecuteTime": {
     "end_time": "2023-02-07T06:43:04.221095Z",
     "start_time": "2023-02-07T06:42:58.112517Z"
    }
   },
   "outputs": [
    {
     "name": "stdout",
     "output_type": "stream",
     "text": [
      "\u001b[32mSaved Visualization to: plots/visualization.qzv\u001b[0m\r\n",
      "\u001b[0m"
     ]
    }
   ],
   "source": [
    "\n",
    "os.mkdir('plots')\n",
    "#For validating paired by generating taxa barplot\n",
    "\n",
    "\n",
    "!qiime taxa barplot  \\\n",
    "    --i-table 'dada2/filtered_table.qza' \\\n",
    "    --i-taxonomy 'taxonomy_vsearch/classification.qza' \\\n",
    "    --m-metadata-file './read-files/metadata.tsv' \\\n",
    "    --o-visualization 'plots/visualization' \\\n",
    "    --verbose \n",
    "\n"
   ]
  },
  {
   "cell_type": "markdown",
   "id": "422b5cf5",
   "metadata": {},
   "source": [
    "These code-blocks below is to compute both the Alpha and Beta Rarefaction curves as well as other diversity stats using the filtered  table"
   ]
  },
  {
   "cell_type": "code",
   "execution_count": 94,
   "id": "5254c20c",
   "metadata": {
    "ExecuteTime": {
     "end_time": "2023-02-07T06:47:51.418043Z",
     "start_time": "2023-02-07T06:47:43.578424Z"
    }
   },
   "outputs": [
    {
     "name": "stdout",
     "output_type": "stream",
     "text": [
      "\u001b[32mSaved FeatureTable[Frequency] to: diversity/rarefied_table.qza\u001b[0m\n",
      "\u001b[32mSaved SampleData[AlphaDiversity] to: diversity/faith_pd_vector.qza\u001b[0m\n",
      "\u001b[32mSaved SampleData[AlphaDiversity] to: diversity/observed_features_vector.qza\u001b[0m\n",
      "\u001b[32mSaved SampleData[AlphaDiversity] to: diversity/shannon_vector.qza\u001b[0m\n",
      "\u001b[32mSaved SampleData[AlphaDiversity] to: diversity/evenness_vector.qza\u001b[0m\n",
      "\u001b[32mSaved DistanceMatrix to: diversity/unweighted_unifrac_distance_matrix.qza\u001b[0m\n",
      "\u001b[32mSaved DistanceMatrix to: diversity/weighted_unifrac_distance_matrix.qza\u001b[0m\n",
      "\u001b[32mSaved DistanceMatrix to: diversity/jaccard_distance_matrix.qza\u001b[0m\n",
      "\u001b[32mSaved DistanceMatrix to: diversity/bray_curtis_distance_matrix.qza\u001b[0m\n",
      "\u001b[32mSaved PCoAResults to: diversity/unweighted_unifrac_pcoa_results.qza\u001b[0m\n",
      "\u001b[32mSaved PCoAResults to: diversity/weighted_unifrac_pcoa_results.qza\u001b[0m\n",
      "\u001b[32mSaved PCoAResults to: diversity/jaccard_pcoa_results.qza\u001b[0m\n",
      "\u001b[32mSaved PCoAResults to: diversity/bray_curtis_pcoa_results.qza\u001b[0m\n",
      "\u001b[32mSaved Visualization to: diversity/unweighted_unifrac_emperor.qzv\u001b[0m\n",
      "\u001b[32mSaved Visualization to: diversity/weighted_unifrac_emperor.qzv\u001b[0m\n",
      "\u001b[32mSaved Visualization to: diversity/jaccard_emperor.qzv\u001b[0m\n",
      "\u001b[32mSaved Visualization to: diversity/bray_curtis_emperor.qzv\u001b[0m\n",
      "\u001b[0m"
     ]
    }
   ],
   "source": [
    "#Alpha Diversity stat\n",
    "\n",
    "\n",
    "!qiime diversity core-metrics-phylogenetic \\\n",
    "    --i-table './dada2/filtered_table.qza' \\\n",
    "    --i-phylogeny './mafft-tree/rooted_tree.qza' \\\n",
    "    --p-sampling-depth 5000 \\\n",
    "    --m-metadata-file './read-files/metadata.tsv' \\\n",
    "    --output-dir diversity"
   ]
  },
  {
   "cell_type": "code",
   "execution_count": 96,
   "id": "8d2ed409",
   "metadata": {
    "ExecuteTime": {
     "end_time": "2023-02-07T06:48:35.761422Z",
     "start_time": "2023-02-07T06:48:03.463562Z"
    }
   },
   "outputs": [
    {
     "name": "stdout",
     "output_type": "stream",
     "text": [
      "\u001b[32mSaved Visualization to: ./diversity/alpha-rarefaction/visualization.qzv\u001b[0m\r\n",
      "\u001b[0m"
     ]
    }
   ],
   "source": [
    "!qiime diversity alpha-rarefaction \\\n",
    "    --i-table 'dada2/filtered_table.qza' \\\n",
    "    --i-phylogeny './mafft-tree/rooted_tree.qza' \\\n",
    "    --p-max-depth 4970 \\\n",
    "    --p-metrics 'shannon' 'fisher_alpha' 'chao1' 'goods_coverage' 'simpson_e' 'observed_features' \\\n",
    "    --m-metadata-file './read-files/metadata.tsv' \\\n",
    "    --output-dir './diversity/alpha-rarefaction/' \\\n",
    "    --verbose"
   ]
  },
  {
   "cell_type": "code",
   "execution_count": 97,
   "id": "b1457135",
   "metadata": {
    "ExecuteTime": {
     "end_time": "2023-02-07T06:48:42.547258Z",
     "start_time": "2023-02-07T06:48:35.778433Z"
    }
   },
   "outputs": [
    {
     "name": "stdout",
     "output_type": "stream",
     "text": [
      "\u001b[32mSaved Visualization to: ./diversity/beta-diversity/visualization.qzv\u001b[0m\r\n",
      "\u001b[0m"
     ]
    }
   ],
   "source": [
    "!qiime diversity beta-rarefaction \\\n",
    "    --i-table './dada2/filtered_table.qza' \\\n",
    "    --i-phylogeny './mafft-tree/rooted_tree.qza' \\\n",
    "    --p-metric 'weighted_unifrac' \\\n",
    "    --p-clustering-method 'upgma' \\\n",
    "    --m-metadata-file './read-files/metadata.tsv' \\\n",
    "    --p-sampling-depth 4970 \\\n",
    "    --p-correlation-method 'spearman' \\\n",
    "    --output-dir './diversity/beta-diversity' \\\n",
    "    --verbose"
   ]
  },
  {
   "cell_type": "code",
   "execution_count": 102,
   "id": "155b4d9b",
   "metadata": {
    "ExecuteTime": {
     "end_time": "2023-02-07T06:50:46.243029Z",
     "start_time": "2023-02-07T06:50:39.589912Z"
    }
   },
   "outputs": [
    {
     "name": "stdout",
     "output_type": "stream",
     "text": [
      "\u001b[32mSaved Visualization to: mafft-tree/empress.qzv\u001b[0m\r\n",
      "\u001b[0m"
     ]
    }
   ],
   "source": [
    "!qiime empress tree-plot \\\n",
    "    --i-tree mafft-tree/rooted_tree.qza \\\n",
    "    --o-visualization mafft-tree/empress.qzv"
   ]
  },
  {
   "cell_type": "code",
   "execution_count": 99,
   "id": "e1300d45",
   "metadata": {
    "ExecuteTime": {
     "end_time": "2023-02-07T06:48:54.023265Z",
     "start_time": "2023-02-07T06:48:48.319142Z"
    }
   },
   "outputs": [
    {
     "name": "stdout",
     "output_type": "stream",
     "text": [
      "\u001b[32mSaved Visualization to: diversity/alpha_groups.qzv\u001b[0m\r\n",
      "\u001b[0m"
     ]
    }
   ],
   "source": [
    "!qiime diversity alpha-group-significance \\\n",
    "    --i-alpha-diversity diversity/shannon_vector.qza \\\n",
    "    --m-metadata-file 'read-files/metadata.tsv' \\\n",
    "    --o-visualization diversity/alpha_groups.qzv"
   ]
  },
  {
   "cell_type": "code",
   "execution_count": 103,
   "id": "365e5d62",
   "metadata": {
    "ExecuteTime": {
     "end_time": "2023-02-07T06:50:56.018207Z",
     "start_time": "2023-02-07T06:50:49.775084Z"
    },
    "scrolled": true
   },
   "outputs": [
    {
     "name": "stdout",
     "output_type": "stream",
     "text": [
      "\u001b[32mSaved Visualization to: diversity/permanova.qzv\u001b[0m\r\n",
      "\u001b[0m"
     ]
    }
   ],
   "source": [
    "#Permanova via Adonis addon\n",
    "\n",
    "!qiime diversity adonis \\\n",
    "    --i-distance-matrix diversity/weighted_unifrac_distance_matrix.qza \\\n",
    "    --m-metadata-file read-files/metadata.tsv \\\n",
    "    --p-formula \"treatment\" \\\n",
    "    --p-n-jobs 2 \\\n",
    "    --o-visualization diversity/permanova.qzv"
   ]
  },
  {
   "cell_type": "code",
   "execution_count": 105,
   "id": "9dd8f211",
   "metadata": {
    "ExecuteTime": {
     "end_time": "2023-02-07T06:57:58.771222Z",
     "start_time": "2023-02-07T06:57:46.757314Z"
    }
   },
   "outputs": [
    {
     "name": "stdout",
     "output_type": "stream",
     "text": [
      "\u001b[32mExported dada2/representative_sequences.qza as DNASequencesDirectoryFormat to directory picrust2-strat/dna-sequences.fasta\u001b[0m\n",
      "\u001b[0m\u001b[32mExported dada2/filtered_table.qza as BIOMV210DirFmt to directory picrust2-strat/feature-table.biom\u001b[0m\n",
      "\u001b[0m"
     ]
    }
   ],
   "source": [
    "#Export feature table as well as representative sequences for Picrust2\n",
    "os.mkdir('picrust2-strat')\n",
    "\n",
    "!qiime tools export \\\n",
    "    --input-path \"dada2/representative_sequences.qza\" \\\n",
    "    --output-path \"picrust2-strat/dna-sequences.fasta\"\n",
    "\n",
    "!qiime tools export \\\n",
    "    --input-path  \"dada2/filtered_table.qza\" \\\n",
    "    --output-path \"picrust2-strat/feature-table.biom\""
   ]
  }
 ],
 "metadata": {
  "kernelspec": {
   "display_name": "Python 3 (ipykernel)",
   "language": "python",
   "name": "python3"
  },
  "language_info": {
   "codemirror_mode": {
    "name": "ipython",
    "version": 3
   },
   "file_extension": ".py",
   "mimetype": "text/x-python",
   "name": "python",
   "nbconvert_exporter": "python",
   "pygments_lexer": "ipython3",
   "version": "3.8.12"
  },
  "varInspector": {
   "cols": {
    "lenName": 16,
    "lenType": 16,
    "lenVar": 40
   },
   "kernels_config": {
    "python": {
     "delete_cmd_postfix": "",
     "delete_cmd_prefix": "del ",
     "library": "var_list.py",
     "varRefreshCmd": "print(var_dic_list())"
    },
    "r": {
     "delete_cmd_postfix": ") ",
     "delete_cmd_prefix": "rm(",
     "library": "var_list.r",
     "varRefreshCmd": "cat(var_dic_list()) "
    }
   },
   "types_to_exclude": [
    "module",
    "function",
    "builtin_function_or_method",
    "instance",
    "_Feature"
   ],
   "window_display": false
  }
 },
 "nbformat": 4,
 "nbformat_minor": 5
}
