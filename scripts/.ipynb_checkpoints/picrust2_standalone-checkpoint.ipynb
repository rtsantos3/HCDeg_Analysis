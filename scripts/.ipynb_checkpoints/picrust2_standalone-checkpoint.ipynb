{
 "cells": [
  {
   "cell_type": "code",
   "execution_count": 1,
   "id": "757c7d11",
   "metadata": {
    "ExecuteTime": {
     "end_time": "2022-03-31T11:09:31.548241Z",
     "start_time": "2022-03-31T11:09:31.546227Z"
    }
   },
   "outputs": [],
   "source": [
    "import os"
   ]
  },
  {
   "cell_type": "code",
   "execution_count": 2,
   "id": "91a22d86",
   "metadata": {
    "ExecuteTime": {
     "end_time": "2022-03-31T11:09:33.549161Z",
     "start_time": "2022-03-31T11:09:33.543779Z"
    }
   },
   "outputs": [
    {
     "data": {
      "text/plain": [
       "'/home/rtsantos3/bioinfo_pipelines/picrust2-2.4.2/data/Kiara-Qiime2/scripts'"
      ]
     },
     "execution_count": 2,
     "metadata": {},
     "output_type": "execute_result"
    }
   ],
   "source": [
    "os.getcwd()\n",
    "os.chdir('/home/rtsantos3/bioinfo_pipelines/picrust2-2.4.2/scripts')\n"
   ]
  },
  {
   "cell_type": "code",
   "execution_count": 3,
   "id": "a96dd965",
   "metadata": {
    "ExecuteTime": {
     "end_time": "2022-03-31T11:09:35.914555Z",
     "start_time": "2022-03-31T11:09:35.911481Z"
    }
   },
   "outputs": [],
   "source": [
    "#Run Stratified standalone Picrust2 pipeline\n",
    "#Note that I've placed this analysis folder inside the picrust repository for simplicity's sake. To replicate this, place data folder in \n"
   ]
  },
  {
   "cell_type": "code",
   "execution_count": 2,
   "id": "deaed39a",
   "metadata": {
    "ExecuteTime": {
     "end_time": "2022-03-30T12:49:08.359661Z",
     "start_time": "2022-03-30T12:49:08.350800Z"
    }
   },
   "outputs": [
    {
     "ename": "ModuleNotFoundError",
     "evalue": "No module named 'picrust2'",
     "output_type": "error",
     "traceback": [
      "\u001b[0;31m---------------------------------------------------------------------------\u001b[0m",
      "\u001b[0;31mModuleNotFoundError\u001b[0m                       Traceback (most recent call last)",
      "\u001b[0;32m~/bioinfo_pipelines/picrust2-2.4.2/scripts/pathway_pipeline.py\u001b[0m in \u001b[0;36m<module>\u001b[0;34m\u001b[0m\n\u001b[1;32m      6\u001b[0m \u001b[0;34m\u001b[0m\u001b[0m\n\u001b[1;32m      7\u001b[0m \u001b[0;32mimport\u001b[0m \u001b[0margparse\u001b[0m\u001b[0;34m\u001b[0m\u001b[0;34m\u001b[0m\u001b[0m\n\u001b[0;32m----> 8\u001b[0;31m \u001b[0;32mfrom\u001b[0m \u001b[0mpicrust2\u001b[0m\u001b[0;34m.\u001b[0m\u001b[0mpathway_pipeline\u001b[0m \u001b[0;32mimport\u001b[0m \u001b[0mpathway_pipeline\u001b[0m\u001b[0;34m\u001b[0m\u001b[0;34m\u001b[0m\u001b[0m\n\u001b[0m\u001b[1;32m      9\u001b[0m from picrust2.util import (make_output_dir, check_files_exist,\n\u001b[1;32m     10\u001b[0m                            TemporaryDirectory)\n",
      "\u001b[0;31mModuleNotFoundError\u001b[0m: No module named 'picrust2'"
     ]
    }
   ],
   "source": [
    "\n",
    "\n",
    "%run picrust2_pipeline.py -s '../data/Kiara-Qiime2/Stratified-pipeline/dna-sequences.fasta' \\\n",
    "                        -i '../data/Kiara-Qiime2/Stratified-pipeline/feature-table.biom' \\\n",
    "                        -o '../data/Kiara-Qiime2/Stratified-pipeline/out' \\\n",
    "                        -t epa-ng \\\n",
    "                        -p 5 \\\n",
    "                        --stratified \\\n",
    "                        --verbose \\\n",
    "                \n",
    "                        \n",
    "\n",
    "#Ok this now works, I can run it now from here"
   ]
  },
  {
   "cell_type": "code",
   "execution_count": 8,
   "id": "0c6794a4",
   "metadata": {
    "ExecuteTime": {
     "end_time": "2022-03-31T11:14:34.490643Z",
     "start_time": "2022-03-31T11:14:34.464640Z"
    }
   },
   "outputs": [],
   "source": [
    "%run add_descriptions.py -i \"../data/Kiara-Qiime2/Stratified-pipeline/out/pathways_out/unstrat_path_abun.tsv\"\\\n",
    "                        -m METACYC \\\n",
    "                        -o \"../data/Kiara-Qiime2/Stratified-pipeline/out/pathways_out/unstrat_path_abun.tsv\"  "
   ]
  },
  {
   "cell_type": "code",
   "execution_count": 10,
   "id": "8e0eb392",
   "metadata": {
    "ExecuteTime": {
     "end_time": "2022-03-31T11:15:47.158237Z",
     "start_time": "2022-03-31T11:15:47.040256Z"
    }
   },
   "outputs": [],
   "source": [
    "#Insert descriptions to stratified file\n",
    "#Note that I swappped the columns first before running the script so it would work\n",
    "#Apparently the original script only works \n",
    "\n",
    "%run add_descriptions.py -i \"../data/Kiara-Qiime2/Stratified-pipeline/out/pathways_out/strat_path_abun.tsv\"\\\n",
    "                        -m METACYC \\\n",
    "                        -o \"../data/Kiara-Qiime2/Stratified-pipeline/out/pathways_out/strat_path_abun.tsv\"  "
   ]
  },
  {
   "cell_type": "code",
   "execution_count": 12,
   "id": "740889a9",
   "metadata": {
    "ExecuteTime": {
     "end_time": "2022-03-31T11:47:27.167334Z",
     "start_time": "2022-03-31T11:47:26.438882Z"
    }
   },
   "outputs": [
    {
     "ename": "ValueError",
     "evalue": "cannot insert description, already exists",
     "output_type": "error",
     "traceback": [
      "\u001b[0;31m---------------------------------------------------------------------------\u001b[0m",
      "\u001b[0;31mValueError\u001b[0m                                Traceback (most recent call last)",
      "\u001b[0;32m~/bioinfo_pipelines/picrust2-2.4.2/scripts/add_descriptions.py\u001b[0m in \u001b[0;36m<module>\u001b[0;34m\u001b[0m\n\u001b[1;32m     77\u001b[0m \u001b[0;34m\u001b[0m\u001b[0m\n\u001b[1;32m     78\u001b[0m \u001b[0;32mif\u001b[0m \u001b[0m__name__\u001b[0m \u001b[0;34m==\u001b[0m \u001b[0;34m\"__main__\"\u001b[0m\u001b[0;34m:\u001b[0m\u001b[0;34m\u001b[0m\u001b[0;34m\u001b[0m\u001b[0m\n\u001b[0;32m---> 79\u001b[0;31m     \u001b[0mmain\u001b[0m\u001b[0;34m(\u001b[0m\u001b[0;34m)\u001b[0m\u001b[0;34m\u001b[0m\u001b[0;34m\u001b[0m\u001b[0m\n\u001b[0m",
      "\u001b[0;32m~/bioinfo_pipelines/picrust2-2.4.2/scripts/add_descriptions.py\u001b[0m in \u001b[0;36mmain\u001b[0;34m()\u001b[0m\n\u001b[1;32m     68\u001b[0m                  \"be specified with the --custom_map_table option\")\n\u001b[1;32m     69\u001b[0m \u001b[0;34m\u001b[0m\u001b[0m\n\u001b[0;32m---> 70\u001b[0;31m     \u001b[0mtab_w_descrip\u001b[0m \u001b[0;34m=\u001b[0m \u001b[0madd_descrip_col\u001b[0m\u001b[0;34m(\u001b[0m\u001b[0minputfile\u001b[0m\u001b[0;34m=\u001b[0m\u001b[0margs\u001b[0m\u001b[0;34m.\u001b[0m\u001b[0minput\u001b[0m\u001b[0;34m,\u001b[0m \u001b[0mmapfile\u001b[0m\u001b[0;34m=\u001b[0m\u001b[0mmapfile\u001b[0m\u001b[0;34m)\u001b[0m\u001b[0;34m\u001b[0m\u001b[0;34m\u001b[0m\u001b[0m\n\u001b[0m\u001b[1;32m     71\u001b[0m \u001b[0;34m\u001b[0m\u001b[0m\n\u001b[1;32m     72\u001b[0m     \u001b[0;31m# Output the table to file.\u001b[0m\u001b[0;34m\u001b[0m\u001b[0;34m\u001b[0m\u001b[0;34m\u001b[0m\u001b[0m\n",
      "\u001b[0;32m~/anaconda3/envs/qiime2-2021.11/lib/python3.8/site-packages/picrust2/util.py\u001b[0m in \u001b[0;36madd_descrip_col\u001b[0;34m(inputfile, mapfile, in_df)\u001b[0m\n\u001b[1;32m    440\u001b[0m     \u001b[0mmap_tab\u001b[0m \u001b[0;34m=\u001b[0m \u001b[0mmap_tab\u001b[0m\u001b[0;34m.\u001b[0m\u001b[0mreindex\u001b[0m\u001b[0;34m(\u001b[0m\u001b[0mfunction_tab\u001b[0m\u001b[0;34m.\u001b[0m\u001b[0miloc\u001b[0m\u001b[0;34m[\u001b[0m\u001b[0;34m:\u001b[0m\u001b[0;34m,\u001b[0m \u001b[0;36m0\u001b[0m\u001b[0;34m]\u001b[0m\u001b[0;34m,\u001b[0m \u001b[0mfill_value\u001b[0m\u001b[0;34m=\u001b[0m\u001b[0;34m\"not_found\"\u001b[0m\u001b[0;34m)\u001b[0m\u001b[0;34m\u001b[0m\u001b[0;34m\u001b[0m\u001b[0m\n\u001b[1;32m    441\u001b[0m \u001b[0;34m\u001b[0m\u001b[0m\n\u001b[0;32m--> 442\u001b[0;31m     \u001b[0mfunction_tab\u001b[0m\u001b[0;34m.\u001b[0m\u001b[0minsert\u001b[0m\u001b[0;34m(\u001b[0m\u001b[0;36m1\u001b[0m\u001b[0;34m,\u001b[0m \u001b[0;34m\"description\"\u001b[0m\u001b[0;34m,\u001b[0m \u001b[0mlist\u001b[0m\u001b[0;34m(\u001b[0m\u001b[0mmap_tab\u001b[0m\u001b[0;34m[\u001b[0m\u001b[0;34m\"description\"\u001b[0m\u001b[0;34m]\u001b[0m\u001b[0;34m)\u001b[0m\u001b[0;34m)\u001b[0m\u001b[0;34m\u001b[0m\u001b[0;34m\u001b[0m\u001b[0m\n\u001b[0m\u001b[1;32m    443\u001b[0m \u001b[0;34m\u001b[0m\u001b[0m\n\u001b[1;32m    444\u001b[0m     \u001b[0;31m# Add description column to function table and return.\u001b[0m\u001b[0;34m\u001b[0m\u001b[0;34m\u001b[0m\u001b[0;34m\u001b[0m\u001b[0m\n",
      "\u001b[0;32m~/anaconda3/envs/qiime2-2021.11/lib/python3.8/site-packages/pandas/core/frame.py\u001b[0m in \u001b[0;36minsert\u001b[0;34m(self, loc, column, value, allow_duplicates)\u001b[0m\n\u001b[1;32m   3761\u001b[0m         \u001b[0mself\u001b[0m\u001b[0;34m.\u001b[0m\u001b[0m_ensure_valid_index\u001b[0m\u001b[0;34m(\u001b[0m\u001b[0mvalue\u001b[0m\u001b[0;34m)\u001b[0m\u001b[0;34m\u001b[0m\u001b[0;34m\u001b[0m\u001b[0m\n\u001b[1;32m   3762\u001b[0m         \u001b[0mvalue\u001b[0m \u001b[0;34m=\u001b[0m \u001b[0mself\u001b[0m\u001b[0;34m.\u001b[0m\u001b[0m_sanitize_column\u001b[0m\u001b[0;34m(\u001b[0m\u001b[0mcolumn\u001b[0m\u001b[0;34m,\u001b[0m \u001b[0mvalue\u001b[0m\u001b[0;34m,\u001b[0m \u001b[0mbroadcast\u001b[0m\u001b[0;34m=\u001b[0m\u001b[0;32mFalse\u001b[0m\u001b[0;34m)\u001b[0m\u001b[0;34m\u001b[0m\u001b[0;34m\u001b[0m\u001b[0m\n\u001b[0;32m-> 3763\u001b[0;31m         \u001b[0mself\u001b[0m\u001b[0;34m.\u001b[0m\u001b[0m_mgr\u001b[0m\u001b[0;34m.\u001b[0m\u001b[0minsert\u001b[0m\u001b[0;34m(\u001b[0m\u001b[0mloc\u001b[0m\u001b[0;34m,\u001b[0m \u001b[0mcolumn\u001b[0m\u001b[0;34m,\u001b[0m \u001b[0mvalue\u001b[0m\u001b[0;34m,\u001b[0m \u001b[0mallow_duplicates\u001b[0m\u001b[0;34m=\u001b[0m\u001b[0mallow_duplicates\u001b[0m\u001b[0;34m)\u001b[0m\u001b[0;34m\u001b[0m\u001b[0;34m\u001b[0m\u001b[0m\n\u001b[0m\u001b[1;32m   3764\u001b[0m \u001b[0;34m\u001b[0m\u001b[0m\n\u001b[1;32m   3765\u001b[0m     \u001b[0;32mdef\u001b[0m \u001b[0massign\u001b[0m\u001b[0;34m(\u001b[0m\u001b[0mself\u001b[0m\u001b[0;34m,\u001b[0m \u001b[0;34m**\u001b[0m\u001b[0mkwargs\u001b[0m\u001b[0;34m)\u001b[0m \u001b[0;34m->\u001b[0m \u001b[0mDataFrame\u001b[0m\u001b[0;34m:\u001b[0m\u001b[0;34m\u001b[0m\u001b[0;34m\u001b[0m\u001b[0m\n",
      "\u001b[0;32m~/anaconda3/envs/qiime2-2021.11/lib/python3.8/site-packages/pandas/core/internals/managers.py\u001b[0m in \u001b[0;36minsert\u001b[0;34m(self, loc, item, value, allow_duplicates)\u001b[0m\n\u001b[1;32m   1189\u001b[0m         \u001b[0;32mif\u001b[0m \u001b[0;32mnot\u001b[0m \u001b[0mallow_duplicates\u001b[0m \u001b[0;32mand\u001b[0m \u001b[0mitem\u001b[0m \u001b[0;32min\u001b[0m \u001b[0mself\u001b[0m\u001b[0;34m.\u001b[0m\u001b[0mitems\u001b[0m\u001b[0;34m:\u001b[0m\u001b[0;34m\u001b[0m\u001b[0;34m\u001b[0m\u001b[0m\n\u001b[1;32m   1190\u001b[0m             \u001b[0;31m# Should this be a different kind of error??\u001b[0m\u001b[0;34m\u001b[0m\u001b[0;34m\u001b[0m\u001b[0;34m\u001b[0m\u001b[0m\n\u001b[0;32m-> 1191\u001b[0;31m             \u001b[0;32mraise\u001b[0m \u001b[0mValueError\u001b[0m\u001b[0;34m(\u001b[0m\u001b[0;34mf\"cannot insert {item}, already exists\"\u001b[0m\u001b[0;34m)\u001b[0m\u001b[0;34m\u001b[0m\u001b[0;34m\u001b[0m\u001b[0m\n\u001b[0m\u001b[1;32m   1192\u001b[0m \u001b[0;34m\u001b[0m\u001b[0m\n\u001b[1;32m   1193\u001b[0m         \u001b[0;32mif\u001b[0m \u001b[0;32mnot\u001b[0m \u001b[0misinstance\u001b[0m\u001b[0;34m(\u001b[0m\u001b[0mloc\u001b[0m\u001b[0;34m,\u001b[0m \u001b[0mint\u001b[0m\u001b[0;34m)\u001b[0m\u001b[0;34m:\u001b[0m\u001b[0;34m\u001b[0m\u001b[0;34m\u001b[0m\u001b[0m\n",
      "\u001b[0;31mValueError\u001b[0m: cannot insert description, already exists"
     ]
    }
   ],
   "source": [
    "#Insert descriptions to stratified file\n",
    "#Note that I swappped the columns first before running the script so it would work\n",
    "#Apparently the original script only works \n",
    "\n",
    "%run add_descriptions.py -i \"../data/Kiara-Qiime2/Stratified-pipeline/out/KO_metagenome_out/unstrat_ko_metagenome.tsv\"\\\n",
    "                        -m KO \\\n",
    "                        -o \"../data/Kiara-Qiime2/Stratified-pipeline/out/KO_metagenome_out/unstrat_ko_metagenome.tsv\" \n",
    "\n",
    "%run add_descriptions.py -i \"../data/Kiara-Qiime2/Stratified-pipeline/out/KO_metagenome_out/strat_ko_metagenome.tsv\"\\\n",
    "                        -m KO \\\n",
    "                        -o \"../data/Kiara-Qiime2/Stratified-pipeline/out/KO_metagenome_out/strat_ko_metagenome.tsv\""
   ]
  }
 ],
 "metadata": {
  "kernelspec": {
   "display_name": "Python 3 (ipykernel)",
   "language": "python",
   "name": "python3"
  },
  "language_info": {
   "codemirror_mode": {
    "name": "ipython",
    "version": 3
   },
   "file_extension": ".py",
   "mimetype": "text/x-python",
   "name": "python",
   "nbconvert_exporter": "python",
   "pygments_lexer": "ipython3",
   "version": "3.8.12"
  },
  "varInspector": {
   "cols": {
    "lenName": 16,
    "lenType": 16,
    "lenVar": 40
   },
   "kernels_config": {
    "python": {
     "delete_cmd_postfix": "",
     "delete_cmd_prefix": "del ",
     "library": "var_list.py",
     "varRefreshCmd": "print(var_dic_list())"
    },
    "r": {
     "delete_cmd_postfix": ") ",
     "delete_cmd_prefix": "rm(",
     "library": "var_list.r",
     "varRefreshCmd": "cat(var_dic_list()) "
    }
   },
   "types_to_exclude": [
    "module",
    "function",
    "builtin_function_or_method",
    "instance",
    "_Feature"
   ],
   "window_display": false
  }
 },
 "nbformat": 4,
 "nbformat_minor": 5
}
