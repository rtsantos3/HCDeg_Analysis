{
 "cells": [
  {
   "cell_type": "code",
   "execution_count": 1,
   "id": "4252d8d2",
   "metadata": {},
   "outputs": [],
   "source": [
    "import qiime2"
   ]
  },
  {
   "cell_type": "code",
   "execution_count": 6,
   "id": "5c353e8f",
   "metadata": {},
   "outputs": [
    {
     "name": "stdout",
     "output_type": "stream",
     "text": [
      "\u001b[32mImported read-files/sample-manifest.tsv as PairedEndFastqManifestPhred33V2 to paired-end-demux.qza\u001b[0m\r\n",
      "\u001b[0m"
     ]
    }
   ],
   "source": [
    "!qiime tools import   \\\n",
    "--type 'SampleData[PairedEndSequencesWithQuality]'   \\\n",
    "--input-path 'read-files/sample-manifest.tsv'   \\\n",
    "--output-path paired-end-demux.qza   \\\n",
    "--input-format PairedEndFastqManifestPhred33V2 \\\n",
    "\n"
   ]
  },
  {
   "cell_type": "code",
   "execution_count": 8,
   "id": "1be7e14c",
   "metadata": {},
   "outputs": [
    {
     "name": "stdout",
     "output_type": "stream",
     "text": [
      "Running external command line application(s). This may print messages to stdout and/or stderr.\n",
      "The command(s) being run are below. These commands cannot be manually re-run as they will depend on temporary files that no longer exist.\n",
      "\n",
      "Command: run_dada_single.R /tmp/q2-SingleLanePerSampleSingleEndFastqDirFmt-y0l7b_jb /tmp/tmp8_8_mqns/output.tsv.biom /tmp/tmp8_8_mqns/track.tsv /tmp/tmp8_8_mqns 140 0 2.0 2 Inf independent consensus 1.0 2 1000000 NULL 16\n",
      "\n",
      "R version 4.0.5 (2021-03-31) \n",
      "Loading required package: Rcpp\n",
      "DADA2: 1.18.0 / Rcpp: 1.0.7 / RcppParallel: 5.1.4 \n",
      "1) Filtering ....\n",
      "2) Learning Error Rates\n",
      "39056920 total bases in 278978 reads from 4 samples will be used for learning the error rates.\n",
      "3) Denoise samples ....\n",
      "4) Remove chimeras (method = consensus)\n",
      "5) Report read numbers through the pipeline\n",
      "6) Write output\n",
      "\u001b[32mSaved FeatureTable[Frequency] to: dada2/table.qza\u001b[0m\n",
      "\u001b[32mSaved FeatureData[Sequence] to: dada2/representative_sequences.qza\u001b[0m\n",
      "\u001b[32mSaved SampleData[DADA2Stats] to: dada2/denoising_stats.qza\u001b[0m\n",
      "\u001b[0m"
     ]
    }
   ],
   "source": [
    "#Denoising Step\n",
    "\n",
    "!qiime dada2 denoise-single \\\n",
    "    --i-demultiplexed-seqs paired-end-demux.qza \\\n",
    "    --p-trunc-len 140 \\\n",
    "    --p-n-threads 2 \\\n",
    "    --output-dir dada2 --verbose"
   ]
  },
  {
   "cell_type": "code",
   "execution_count": 9,
   "id": "151985a9",
   "metadata": {},
   "outputs": [
    {
     "name": "stdout",
     "output_type": "stream",
     "text": [
      "\u001b[32mSaved Visualization to: dada2/denoising-stats.qzv\u001b[0m\r\n",
      "\u001b[0m"
     ]
    }
   ],
   "source": [
    "!qiime metadata tabulate \\\n",
    "    --m-input-file dada2/denoising_stats.qza \\\n",
    "    --o-visualization dada2/denoising-stats.qzv"
   ]
  },
  {
   "cell_type": "code",
   "execution_count": 13,
   "id": "f289edf6",
   "metadata": {},
   "outputs": [
    {
     "name": "stdout",
     "output_type": "stream",
     "text": [
      "\u001b[32mSaved FeatureData[AlignedSequence] to: tree/alignment.qza\u001b[0m\n",
      "\u001b[32mSaved FeatureData[AlignedSequence] to: tree/masked_alignment.qza\u001b[0m\n",
      "\u001b[32mSaved Phylogeny[Unrooted] to: tree/tree.qza\u001b[0m\n",
      "\u001b[32mSaved Phylogeny[Rooted] to: tree/rooted_tree.qza\u001b[0m\n",
      "\u001b[0m"
     ]
    }
   ],
   "source": [
    "!qiime phylogeny align-to-tree-mafft-fasttree \\\n",
    "    --i-sequences dada2/representative_sequences.qza \\\n",
    "    --output-dir tree"
   ]
  },
  {
   "cell_type": "code",
   "execution_count": 14,
   "id": "554fa75b",
   "metadata": {},
   "outputs": [
    {
     "name": "stdout",
     "output_type": "stream",
     "text": [
      "\u001b[32mSaved Visualization to: tree/empress.qzv\u001b[0m\r\n",
      "\u001b[0m"
     ]
    }
   ],
   "source": [
    "!qiime empress tree-plot \\\n",
    "    --i-tree tree/rooted_tree.qza \\\n",
    "    --o-visualization tree/empress.qzv"
   ]
  },
  {
   "cell_type": "code",
   "execution_count": 40,
   "id": "d546d6dc",
   "metadata": {},
   "outputs": [
    {
     "name": "stdout",
     "output_type": "stream",
     "text": [
      "Usage: \u001b[94mqiime diversity core-metrics-phylogenetic\u001b[0m [OPTIONS]\r\n",
      "\r\n",
      "  Applies a collection of diversity metrics (both phylogenetic and non-\r\n",
      "  phylogenetic) to a feature table.\r\n",
      "\r\n",
      "\u001b[1mInputs\u001b[0m:\r\n",
      "  \u001b[94m\u001b[4m--i-table\u001b[0m ARTIFACT \u001b[32mFeatureTable[Frequency]\u001b[0m\r\n",
      "                          The feature table containing the samples over which\r\n",
      "                          diversity metrics should be computed.     \u001b[35m[required]\u001b[0m\r\n",
      "  \u001b[94m\u001b[4m--i-phylogeny\u001b[0m ARTIFACT  Phylogenetic tree containing tip identifiers that\r\n",
      "    \u001b[32mPhylogeny[Rooted]\u001b[0m     correspond to the feature identifiers in the table.\r\n",
      "                          This tree can contain tip ids that are not present\r\n",
      "                          in the table, but all feature ids in the table must\r\n",
      "                          be present in this tree.                  \u001b[35m[required]\u001b[0m\r\n",
      "\u001b[1mParameters\u001b[0m:\r\n",
      "  \u001b[94m\u001b[4m--p-sampling-depth\u001b[0m INTEGER\r\n",
      "    \u001b[32mRange(1, None)\u001b[0m        The total frequency that each sample should be\r\n",
      "                          rarefied to prior to computing diversity metrics.\r\n",
      "                                                                    \u001b[35m[required]\u001b[0m\r\n",
      "  \u001b[94m\u001b[4m--m-metadata-file\u001b[0m METADATA...\r\n",
      "    (multiple arguments   The sample metadata to use in the emperor plots.\r\n",
      "     will be merged)                                                \u001b[35m[required]\u001b[0m\r\n",
      "  \u001b[94m--p-n-jobs-or-threads\u001b[0m VALUE \u001b[32mInt % Range(1, None) | Str % Choices('auto')\u001b[0m\r\n",
      "                          [beta/beta-phylogenetic methods only] - The number\r\n",
      "                          of concurrent jobs or CPU threads to use in\r\n",
      "                          performing this calculation. Individual methods will\r\n",
      "                          create jobs/threads as implemented in\r\n",
      "                          q2-diversity-lib dependencies. May not exceed the\r\n",
      "                          number of available physical cores. If\r\n",
      "                          \u001b[4mn-jobs-or-threads\u001b[0m = 'auto', one thread/job will be\r\n",
      "                          created for each identified CPU core on the host.\r\n",
      "                                                                  \u001b[35m[default: 1]\u001b[0m\r\n",
      "\u001b[1mOutputs\u001b[0m:\r\n",
      "  \u001b[94m\u001b[4m--o-rarefied-table\u001b[0m ARTIFACT \u001b[32mFeatureTable[Frequency]\u001b[0m\r\n",
      "                          The resulting rarefied feature table.     \u001b[35m[required]\u001b[0m\r\n",
      "  \u001b[94m\u001b[4m--o-faith-pd-vector\u001b[0m ARTIFACT \u001b[32mSampleData[AlphaDiversity]\u001b[0m\r\n",
      "                          Vector of Faith PD values by sample.      \u001b[35m[required]\u001b[0m\r\n",
      "  \u001b[94m\u001b[4m--o-observed-features-vector\u001b[0m ARTIFACT \u001b[32mSampleData[AlphaDiversity]\u001b[0m\r\n",
      "                          Vector of Observed Features values by sample.\r\n",
      "                                                                    \u001b[35m[required]\u001b[0m\r\n",
      "  \u001b[94m\u001b[4m--o-shannon-vector\u001b[0m ARTIFACT \u001b[32mSampleData[AlphaDiversity]\u001b[0m\r\n",
      "                          Vector of Shannon diversity values by sample.\r\n",
      "                                                                    \u001b[35m[required]\u001b[0m\r\n",
      "  \u001b[94m\u001b[4m--o-evenness-vector\u001b[0m ARTIFACT \u001b[32mSampleData[AlphaDiversity]\u001b[0m\r\n",
      "                          Vector of Pielou's evenness values by sample.\r\n",
      "                                                                    \u001b[35m[required]\u001b[0m\r\n",
      "  \u001b[94m\u001b[4m--o-unweighted-unifrac-distance-matrix\u001b[0m ARTIFACT\r\n",
      "    \u001b[32mDistanceMatrix\u001b[0m        Matrix of unweighted UniFrac distances between\r\n",
      "                          pairs of samples.                         \u001b[35m[required]\u001b[0m\r\n",
      "  \u001b[94m\u001b[4m--o-weighted-unifrac-distance-matrix\u001b[0m ARTIFACT\r\n",
      "    \u001b[32mDistanceMatrix\u001b[0m        Matrix of weighted UniFrac distances between pairs\r\n",
      "                          of samples.                               \u001b[35m[required]\u001b[0m\r\n",
      "  \u001b[94m\u001b[4m--o-jaccard-distance-matrix\u001b[0m ARTIFACT\r\n",
      "    \u001b[32mDistanceMatrix\u001b[0m        Matrix of Jaccard distances between pairs of\r\n",
      "                          samples.                                  \u001b[35m[required]\u001b[0m\r\n",
      "  \u001b[94m\u001b[4m--o-bray-curtis-distance-matrix\u001b[0m ARTIFACT\r\n",
      "    \u001b[32mDistanceMatrix\u001b[0m        Matrix of Bray-Curtis distances between pairs of\r\n",
      "                          samples.                                  \u001b[35m[required]\u001b[0m\r\n",
      "  \u001b[94m\u001b[4m--o-unweighted-unifrac-pcoa-results\u001b[0m ARTIFACT\r\n",
      "    \u001b[32mPCoAResults\u001b[0m           PCoA matrix computed from unweighted UniFrac\r\n",
      "                          distances between samples.                \u001b[35m[required]\u001b[0m\r\n",
      "  \u001b[94m\u001b[4m--o-weighted-unifrac-pcoa-results\u001b[0m ARTIFACT\r\n",
      "    \u001b[32mPCoAResults\u001b[0m           PCoA matrix computed from weighted UniFrac\r\n",
      "                          distances between samples.                \u001b[35m[required]\u001b[0m\r\n",
      "  \u001b[94m\u001b[4m--o-jaccard-pcoa-results\u001b[0m ARTIFACT\r\n",
      "    \u001b[32mPCoAResults\u001b[0m           PCoA matrix computed from Jaccard distances between\r\n",
      "                          samples.                                  \u001b[35m[required]\u001b[0m\r\n",
      "  \u001b[94m\u001b[4m--o-bray-curtis-pcoa-results\u001b[0m ARTIFACT\r\n",
      "    \u001b[32mPCoAResults\u001b[0m           PCoA matrix computed from Bray-Curtis distances\r\n",
      "                          between samples.                          \u001b[35m[required]\u001b[0m\r\n",
      "  \u001b[94m\u001b[4m--o-unweighted-unifrac-emperor\u001b[0m VISUALIZATION\r\n",
      "                          Emperor plot of the PCoA matrix computed from\r\n",
      "                          unweighted UniFrac.                       \u001b[35m[required]\u001b[0m\r\n",
      "  \u001b[94m\u001b[4m--o-weighted-unifrac-emperor\u001b[0m VISUALIZATION\r\n",
      "                          Emperor plot of the PCoA matrix computed from\r\n",
      "                          weighted UniFrac.                         \u001b[35m[required]\u001b[0m\r\n",
      "  \u001b[94m\u001b[4m--o-jaccard-emperor\u001b[0m VISUALIZATION\r\n",
      "                          Emperor plot of the PCoA matrix computed from\r\n",
      "                          Jaccard.                                  \u001b[35m[required]\u001b[0m\r\n",
      "  \u001b[94m\u001b[4m--o-bray-curtis-emperor\u001b[0m VISUALIZATION\r\n",
      "                          Emperor plot of the PCoA matrix computed from\r\n",
      "                          Bray-Curtis.                              \u001b[35m[required]\u001b[0m\r\n",
      "\u001b[1mMiscellaneous\u001b[0m:\r\n",
      "  \u001b[94m--output-dir\u001b[0m PATH       Output unspecified results to a directory\r\n",
      "  \u001b[94m--verbose\u001b[0m / \u001b[94m--quiet\u001b[0m     Display verbose output to stdout and/or stderr\r\n",
      "                          during execution of this action. Or silence output\r\n",
      "                          if execution is successful (silence is golden).\r\n",
      "  \u001b[94m--example-data\u001b[0m PATH     Write example data and exit.\r\n",
      "  \u001b[94m--citations\u001b[0m             Show citations and exit.\r\n",
      "  \u001b[94m--help\u001b[0m                  Show this message and exit.\r\n",
      "\r\n",
      "\u001b[33m                  There were some problems with the command:                  \u001b[0m\r\n",
      "\u001b[31m\u001b[1m (1/18) Invalid value for '--output-dir': 'diversity' already exists, will not\r\n",
      "  overwrite.\u001b[0m\r\n",
      "\u001b[31m\u001b[1m (2/18) Missing option '--o-rarefied-table'.  (\"--output-dir\" may also be\r\n",
      "  used)\u001b[0m\r\n",
      "\u001b[31m\u001b[1m (3/18) Missing option '--o-faith-pd-vector'.  (\"--output-dir\" may also be\r\n",
      "  used)\u001b[0m\r\n",
      "\u001b[31m\u001b[1m (4/18) Missing option '--o-observed-features-vector'.  (\"--output-dir\" may\r\n",
      "  also be used)\u001b[0m\r\n",
      "\u001b[31m\u001b[1m (5/18) Missing option '--o-shannon-vector'.  (\"--output-dir\" may also be\r\n",
      "  used)\u001b[0m\r\n",
      "\u001b[31m\u001b[1m (6/18) Missing option '--o-evenness-vector'.  (\"--output-dir\" may also be\r\n",
      "  used)\u001b[0m\r\n",
      "\u001b[31m\u001b[1m (7/18) Missing option '--o-unweighted-unifrac-distance-matrix'.  (\"--output-\r\n",
      "  dir\" may also be used)\u001b[0m\r\n",
      "\u001b[31m\u001b[1m (8/18) Missing option '--o-weighted-unifrac-distance-matrix'.  (\"--output-\r\n",
      "  dir\" may also be used)\u001b[0m\r\n",
      "\u001b[31m\u001b[1m (9/18) Missing option '--o-jaccard-distance-matrix'.  (\"--output-dir\" may\r\n",
      "  also be used)\u001b[0m\r\n",
      "\u001b[31m\u001b[1m (10/18) Missing option '--o-bray-curtis-distance-matrix'.  (\"--output-dir\"\r\n",
      "  may also be used)\u001b[0m\r\n",
      "\u001b[31m\u001b[1m (11/18) Missing option '--o-unweighted-unifrac-pcoa-results'.  (\"--output-\r\n",
      "  dir\" may also be used)\u001b[0m\r\n",
      "\u001b[31m\u001b[1m (12/18) Missing option '--o-weighted-unifrac-pcoa-results'.  (\"--output-dir\"\r\n",
      "  may also be used)\u001b[0m\r\n",
      "\u001b[31m\u001b[1m (13/18) Missing option '--o-jaccard-pcoa-results'.  (\"--output-dir\" may also\r\n",
      "  be used)\u001b[0m\r\n",
      "\u001b[31m\u001b[1m (14/18) Missing option '--o-bray-curtis-pcoa-results'.  (\"--output-dir\" may\r\n",
      "  also be used)\u001b[0m\r\n",
      "\u001b[31m\u001b[1m (15/18) Missing option '--o-unweighted-unifrac-emperor'.  (\"--output-dir\" may\r\n",
      "  also be used)\u001b[0m\r\n",
      "\u001b[31m\u001b[1m (16/18) Missing option '--o-weighted-unifrac-emperor'.  (\"--output-dir\" may\r\n",
      "  also be used)\u001b[0m\r\n",
      "\u001b[31m\u001b[1m (17/18) Missing option '--o-jaccard-emperor'.  (\"--output-dir\" may also be\r\n",
      "  used)\u001b[0m\r\n",
      "\u001b[31m\u001b[1m (18/18) Missing option '--o-bray-curtis-emperor'.  (\"--output-dir\" may also\r\n",
      "  be used)\u001b[0m\r\n",
      "\u001b[0m"
     ]
    }
   ],
   "source": [
    "#Alpha Diversity stat\n",
    "\n",
    "!qiime diversity core-metrics-phylogenetic \\\n",
    "    --i-table dada2/table.qza \\\n",
    "    --i-phylogeny tree/rooted_tree.qza \\\n",
    "    --p-sampling-depth 10000 \\\n",
    "    --m-metadata-file 'read-files/metadata.tsv' \\\n",
    "    --output-dir diversity"
   ]
  },
  {
   "cell_type": "code",
   "execution_count": 26,
   "id": "d8ae1bda",
   "metadata": {},
   "outputs": [
    {
     "name": "stdout",
     "output_type": "stream",
     "text": [
      "\u001b[32mSaved Visualization to: diversity/alpha_groups.qzv\u001b[0m\r\n",
      "\u001b[0m"
     ]
    }
   ],
   "source": [
    "!qiime diversity alpha-group-significance \\\n",
    "    --i-alpha-diversity diversity/shannon_vector.qza \\\n",
    "    --m-metadata-file 'read-files/metadata.tsv' \\\n",
    "    --o-visualization diversity/alpha_groups.qzv"
   ]
  },
  {
   "cell_type": "code",
   "execution_count": 39,
   "id": "c167559c",
   "metadata": {},
   "outputs": [
    {
     "name": "stdout",
     "output_type": "stream",
     "text": [
      "\u001b[32mSaved Visualization to: diversity/permanova.qzv\u001b[0m\r\n",
      "\u001b[0m"
     ]
    }
   ],
   "source": [
    "#Permanova via Adonis addon\n",
    "\n",
    "!qiime diversity adonis \\\n",
    "    --i-distance-matrix diversity/weighted_unifrac_distance_matrix.qza \\\n",
    "    --m-metadata-file read-files/metadata.tsv \\\n",
    "    --p-formula \"treatment\" \\\n",
    "    --p-n-jobs 2 \\\n",
    "    --o-visualization diversity/permanova.qzv"
   ]
  },
  {
   "cell_type": "code",
   "execution_count": null,
   "id": "112a27a0",
   "metadata": {},
   "outputs": [],
   "source": [
    "#Run picrust2 via qiime2 platform\n"
   ]
  }
 ],
 "metadata": {
  "kernelspec": {
   "display_name": "Python 3 (ipykernel)",
   "language": "python",
   "name": "python3"
  },
  "language_info": {
   "codemirror_mode": {
    "name": "ipython",
    "version": 3
   },
   "file_extension": ".py",
   "mimetype": "text/x-python",
   "name": "python",
   "nbconvert_exporter": "python",
   "pygments_lexer": "ipython3",
   "version": "3.8.10"
  },
  "varInspector": {
   "cols": {
    "lenName": 16,
    "lenType": 16,
    "lenVar": 40
   },
   "kernels_config": {
    "python": {
     "delete_cmd_postfix": "",
     "delete_cmd_prefix": "del ",
     "library": "var_list.py",
     "varRefreshCmd": "print(var_dic_list())"
    },
    "r": {
     "delete_cmd_postfix": ") ",
     "delete_cmd_prefix": "rm(",
     "library": "var_list.r",
     "varRefreshCmd": "cat(var_dic_list()) "
    }
   },
   "types_to_exclude": [
    "module",
    "function",
    "builtin_function_or_method",
    "instance",
    "_Feature"
   ],
   "window_display": false
  }
 },
 "nbformat": 4,
 "nbformat_minor": 5
}
